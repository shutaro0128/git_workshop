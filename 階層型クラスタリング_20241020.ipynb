{
  "nbformat": 4,
  "nbformat_minor": 0,
  "metadata": {
    "colab": {
      "provenance": [],
      "toc_visible": true,
      "authorship_tag": "ABX9TyNn6Wo7gL4Fea8RpLXbvN0w",
      "include_colab_link": true
    },
    "kernelspec": {
      "name": "python3",
      "display_name": "Python 3"
    },
    "language_info": {
      "name": "python"
    }
  },
  "cells": [
    {
      "cell_type": "markdown",
      "metadata": {
        "id": "view-in-github",
        "colab_type": "text"
      },
      "source": [
        "<a href=\"https://colab.research.google.com/github/shutaro0128/git_workshop/blob/master/%E9%9A%8E%E5%B1%A4%E5%9E%8B%E3%82%AF%E3%83%A9%E3%82%B9%E3%82%BF%E3%83%AA%E3%83%B3%E3%82%B0_20241020.ipynb\" target=\"_parent\"><img src=\"https://colab.research.google.com/assets/colab-badge.svg\" alt=\"Open In Colab\"/></a>"
      ]
    },
    {
      "cell_type": "markdown",
      "source": [
        "#上野さんデータ"
      ],
      "metadata": {
        "id": "499iKp--p9gl"
      }
    },
    {
      "cell_type": "code",
      "source": [
        "from google.colab import drive\n",
        "drive.mount('/content/drive')\n",
        "\n",
        "import pandas as pd\n",
        "\n",
        "# Excel ファイルを読み込み\n",
        "# ファイルパスの例\n",
        "file_path = '/content/drive/MyDrive/bachelor_thesis/simulation/tools_data.csv'\n",
        "\n",
        "# CSVファイルを読み込む\n",
        "tools_df = pd.read_csv(file_path)\n",
        "\n",
        "# データフレームをリストに変換\n",
        "job_tools_binary_list = tools_df.values.tolist()"
      ],
      "metadata": {
        "colab": {
          "base_uri": "https://localhost:8080/"
        },
        "id": "d948O9wnqup_",
        "outputId": "84aa90eb-6c2a-4165-b7c8-a817876c566e"
      },
      "execution_count": null,
      "outputs": [
        {
          "output_type": "stream",
          "name": "stdout",
          "text": [
            "Mounted at /content/drive\n"
          ]
        }
      ]
    },
    {
      "cell_type": "code",
      "source": [
        "def binary_to_indices(binary_array):\n",
        "    indices = []\n",
        "    for i, value in enumerate(binary_array):\n",
        "        if value == 1:\n",
        "            indices.append(i + 1)  # インデックスは1から始まるようにする\n",
        "\n",
        "    return indices"
      ],
      "metadata": {
        "id": "MnJ8ligLtrBI"
      },
      "execution_count": null,
      "outputs": []
    },
    {
      "cell_type": "code",
      "source": [
        "data_all=[]\n",
        "for k in range(len(job_tools_binary_list)):\n",
        "  data_all.append(binary_to_indices(job_tools_binary_list[k]))"
      ],
      "metadata": {
        "id": "Dgxp9cxvtsVd"
      },
      "execution_count": null,
      "outputs": []
    },
    {
      "cell_type": "code",
      "source": [
        "def random_sample_lists(data, m):\n",
        "    import random\n",
        "    # ランダムにm個のリストを選ぶ\n",
        "    return random.sample(data, m)"
      ],
      "metadata": {
        "id": "qsHQnTDwdgVr"
      },
      "execution_count": null,
      "outputs": []
    },
    {
      "cell_type": "markdown",
      "source": [
        "#データの準備"
      ],
      "metadata": {
        "id": "N-bYRD1QTafy"
      }
    },
    {
      "cell_type": "code",
      "source": [
        "def create_binary_array(indices):\n",
        "    size=72\n",
        "    # 初期化：すべての値が0の配列を作成\n",
        "    binary_array = [0] * size\n",
        "\n",
        "    # 指定されたインデックスの位置に1を設定\n",
        "    for index in indices:\n",
        "        if 0 <= index <= size:\n",
        "            binary_array[index-1] = 1\n",
        "        else:\n",
        "            raise ValueError(f\"Index {index} is out of bounds for array of size {size}\")\n",
        "\n",
        "    return binary_array\n",
        "\n",
        "# 例: [1, 2, 5] を 72列のバイナリ変数配列に変換\n",
        "example_indices = [1, 2, 5]\n",
        "binary_array = create_binary_array(example_indices)\n",
        "print(binary_array)"
      ],
      "metadata": {
        "colab": {
          "base_uri": "https://localhost:8080/"
        },
        "id": "OY3Pt9P2ogk5",
        "outputId": "b01e43e5-38c4-4fcf-fbe7-7572178cf58c"
      },
      "execution_count": null,
      "outputs": [
        {
          "output_type": "stream",
          "name": "stdout",
          "text": [
            "[1, 1, 0, 0, 1, 0, 0, 0, 0, 0, 0, 0, 0, 0, 0, 0, 0, 0, 0, 0, 0, 0, 0, 0, 0, 0, 0, 0, 0, 0, 0, 0, 0, 0, 0, 0, 0, 0, 0, 0, 0, 0, 0, 0, 0, 0, 0, 0, 0, 0, 0, 0, 0, 0, 0, 0, 0, 0, 0, 0, 0, 0, 0, 0, 0, 0, 0, 0, 0, 0, 0, 0]\n"
          ]
        }
      ]
    },
    {
      "cell_type": "code",
      "source": [
        "#複数行の配列を全てバイナリ変数に変える関数\n",
        "def make_bi_data(list):\n",
        "  binary_data=[]\n",
        "  for k in range(len(list)):\n",
        "    binary_data.append(create_binary_array(list[k]))\n",
        "  return binary_data"
      ],
      "metadata": {
        "id": "VhYd-390ocC6"
      },
      "execution_count": null,
      "outputs": []
    },
    {
      "cell_type": "markdown",
      "source": [
        "##データ1~5（製品数50）"
      ],
      "metadata": {
        "id": "kEquZduGPQcq"
      }
    },
    {
      "cell_type": "code",
      "source": [
        "ini_50=[1, 2, 3, 4, 6, 9, 10, 13, 14, 16, 17, 19, 22, 25, 28, 31, 35, 37, 38, 40, 41, 42, 44, 46]"
      ],
      "metadata": {
        "id": "GtvriBJ1KuMC"
      },
      "execution_count": null,
      "outputs": []
    },
    {
      "cell_type": "code",
      "source": [
        "data_1=[[1, 2, 4, 5, 13, 14, 20, 24, 25, 36, 43],\n",
        " [1, 2, 4, 5, 13, 20, 24, 25, 36, 41, 43],\n",
        " [2, 18, 24, 26],\n",
        " [2, 7, 18, 22, 24, 38, 50],\n",
        " [2, 18, 24, 26],\n",
        " [2, 4, 7, 13, 24, 26, 36, 38, 43, 58],\n",
        " [1, 2, 5, 7, 22, 24, 38],\n",
        " [5, 6, 12, 24, 47],\n",
        " [2, 5, 10, 24, 25, 46],\n",
        " [2, 4, 5, 12, 24, 25, 36, 47, 72],\n",
        " [2, 4, 18, 24, 36],\n",
        " [2, 4, 15, 18, 24, 36, 57],\n",
        " [1, 2, 4, 5, 15, 18, 24, 36, 41],\n",
        " [2, 5, 12, 20, 24, 25, 41, 47],\n",
        " [1, 2, 4, 5, 7, 24, 36, 38, 41],\n",
        " [2, 4, 24, 42],\n",
        " [2, 3, 24],\n",
        " [1, 2, 5, 10, 20, 24, 25, 41, 46],\n",
        " [2, 14, 24],\n",
        " [2, 4, 13, 17, 18, 24, 36, 39, 43, 49],\n",
        " [2, 8, 18, 24, 37],\n",
        " [1, 2, 10, 13, 14, 24, 26, 43, 46, 62],\n",
        " [2, 10, 13, 24, 43, 46],\n",
        " [1, 2, 3, 4, 10, 13, 24, 36, 43, 46],\n",
        " [1, 2, 4, 5, 13, 24, 36, 43, 59, 69, 71],\n",
        " [2, 10, 14, 24, 46],\n",
        " [1, 2, 5, 24, 41],\n",
        " [2, 14, 24],\n",
        " [2, 5, 7, 24, 29, 38],\n",
        " [5, 20, 24, 25],\n",
        " [2, 3, 24],\n",
        " [2, 4, 13, 18, 24, 33, 35, 36, 43, 53],\n",
        " [2, 11, 17, 18, 24, 39],\n",
        " [2, 4, 15, 18, 24, 26, 32, 36],\n",
        " [2, 4, 5, 10, 12, 13, 24, 36, 43, 46, 47],\n",
        " [2, 4, 8, 11, 18, 24, 37],\n",
        " [2, 4, 10, 13, 24, 26, 32, 36, 43, 46],\n",
        " [1, 2, 4, 24, 27, 36],\n",
        " [2, 7, 8, 24, 37, 38, 39],\n",
        " [2, 5, 7, 24, 29, 38],\n",
        " [2, 24, 35],\n",
        " [2, 5, 12, 18, 24, 30, 47, 66, 70],\n",
        " [2, 4, 7, 24, 36, 38],\n",
        " [2, 4, 5, 13, 20, 24, 25, 36, 43],\n",
        " [2, 4, 24, 36, 41],\n",
        " [1, 2, 4, 7, 13, 14, 24, 36, 38, 43],\n",
        " [2, 5, 14, 18, 20, 24, 25, 35, 44],\n",
        " [2, 7, 24, 38],\n",
        " [1, 2, 7, 14, 24, 38],\n",
        " [2, 7, 18, 24, 26, 38]]\n",
        "\n",
        "binary_data1=make_bi_data(data_1)"
      ],
      "metadata": {
        "id": "XZiFZQg2R7m0"
      },
      "execution_count": null,
      "outputs": []
    },
    {
      "cell_type": "code",
      "source": [
        "data_2=[[1, 2, 4, 5, 13, 14, 20, 24, 25, 36, 43],\n",
        " [1, 2, 4, 5, 13, 20, 24, 25, 36, 41, 43],\n",
        " [2, 18, 24, 26],\n",
        " [2, 7, 18, 22, 24, 38, 50],\n",
        " [2, 18, 24, 26],\n",
        " [2, 4, 7, 13, 24, 26, 36, 38, 43, 58],\n",
        " [1, 2, 5, 7, 22, 24, 38],\n",
        " [5, 6, 12, 24, 47],\n",
        " [2, 5, 10, 24, 25, 46],\n",
        " [2, 4, 5, 12, 24, 25, 36, 47, 72],\n",
        " [2, 4, 18, 24, 36],\n",
        " [2, 4, 15, 18, 24, 36, 57],\n",
        " [1, 2, 4, 5, 15, 18, 24, 36, 41],\n",
        " [2, 5, 12, 20, 24, 25, 41, 47],\n",
        " [1, 2, 4, 5, 7, 24, 36, 38, 41],\n",
        " [2, 4, 24, 42],\n",
        " [2, 3, 24],\n",
        " [1, 2, 5, 10, 20, 24, 25, 41, 46],\n",
        " [2, 14, 24],\n",
        " [2, 4, 13, 17, 18, 24, 36, 39, 43, 49],\n",
        " [2, 8, 18, 24, 37],\n",
        " [1, 2, 10, 13, 14, 24, 26, 43, 46, 62],\n",
        " [2, 10, 13, 24, 43, 46],\n",
        " [1, 2, 3, 4, 10, 13, 24, 36, 43, 46],\n",
        " [1, 2, 4, 5, 13, 24, 36, 43, 59, 69, 71],\n",
        " [2, 10, 14, 24, 46],\n",
        " [1, 2, 5, 24, 41],\n",
        " [2, 14, 24],\n",
        " [2, 5, 7, 24, 29, 38],\n",
        " [5, 20, 24, 25],\n",
        " [2, 3, 24],\n",
        " [2, 4, 13, 18, 24, 33, 35, 36, 43, 53],\n",
        " [2, 11, 17, 18, 24, 39],\n",
        " [2, 4, 15, 18, 24, 26, 32, 36],\n",
        " [2, 4, 5, 10, 12, 13, 24, 36, 43, 46, 47],\n",
        " [2, 4, 8, 11, 18, 24, 37],\n",
        " [2, 4, 10, 13, 24, 26, 32, 36, 43, 46],\n",
        " [1, 2, 4, 24, 27, 36],\n",
        " [2, 7, 8, 24, 37, 38, 39],\n",
        " [2, 5, 7, 24, 29, 38],\n",
        " [2, 24, 35],\n",
        " [2, 5, 12, 18, 24, 30, 47, 66, 70],\n",
        " [2, 4, 7, 24, 36, 38],\n",
        " [2, 4, 5, 13, 20, 24, 25, 36, 43],\n",
        " [2, 4, 24, 36, 41],\n",
        " [1, 2, 4, 7, 13, 14, 24, 36, 38, 43],\n",
        " [2, 5, 14, 18, 20, 24, 25, 35, 44],\n",
        " [2, 7, 24, 38],\n",
        " [1, 2, 7, 14, 24, 38],\n",
        " [2, 7, 18, 24, 26, 38]]\n",
        "binary_data2=make_bi_data(data_2)"
      ],
      "metadata": {
        "id": "e4JU9R6NoXGI"
      },
      "execution_count": null,
      "outputs": []
    },
    {
      "cell_type": "code",
      "source": [
        "data_3=[[1, 2, 4, 5, 13, 14, 24, 36, 41, 43],\n",
        " [2, 5, 20, 24, 25, 60],\n",
        " [2, 15, 18, 24, 26, 32],\n",
        " [1, 2, 4, 7, 14, 24, 36, 38],\n",
        " [2, 4, 22, 24, 36],\n",
        " [2, 13, 24, 37, 39, 43, 58],\n",
        " [2, 4, 11, 17, 18, 24, 39, 43, 49],\n",
        " [2, 4, 7, 13, 24, 36, 38, 43],\n",
        " [2, 4, 13, 36, 43],\n",
        " [2, 4, 5, 7, 12, 13, 24, 36, 38, 41, 43, 47],\n",
        " [1, 2, 7, 14, 24, 38],\n",
        " [2, 4, 5, 12, 13, 24, 36, 41, 43, 47],\n",
        " [2, 4, 5, 20, 24, 25, 32, 36],\n",
        " [2, 5, 7, 24, 29, 38],\n",
        " [2, 4, 8, 13, 15, 18, 24, 36, 37, 39, 43],\n",
        " [2, 10, 13, 24, 43, 46],\n",
        " [5, 20, 24, 25],\n",
        " [2, 4, 5, 12, 13, 24, 36, 43, 47, 61],\n",
        " [1, 2, 4, 5, 20, 24, 25, 36, 41],\n",
        " [2, 10, 14, 24, 46],\n",
        " [2, 4, 5, 9, 13, 24, 36, 41, 43, 64],\n",
        " [2, 7, 24, 38],\n",
        " [2, 3, 4, 7, 13, 24, 36, 38, 43],\n",
        " [2, 24, 32],\n",
        " [1, 2, 4, 5, 6, 13, 14, 24, 26, 36, 43, 54, 70],\n",
        " [1, 2, 4, 5, 13, 24, 25, 33, 36, 39, 41, 43, 60],\n",
        " [2, 14, 24],\n",
        " [2, 10, 13, 14, 24, 43, 46],\n",
        " [2, 5, 13, 20, 24, 25, 43],\n",
        " [2, 4, 7, 13, 24, 26, 32, 36, 38, 43],\n",
        " [2, 4, 5, 13, 14, 20, 24, 25, 26, 36, 43],\n",
        " [2, 7, 18, 24, 38, 53],\n",
        " [2, 4, 36],\n",
        " [2, 4, 10, 13, 24, 36, 43, 46],\n",
        " [1, 2, 4, 5, 13, 20, 24, 25, 36, 41, 43],\n",
        " [5, 20, 24, 25],\n",
        " [1, 2, 4, 5, 13, 20, 24, 25, 36, 41, 43],\n",
        " [2, 24, 26, 32],\n",
        " [2, 5, 10, 24, 25, 46],\n",
        " [5, 20, 24, 25],\n",
        " [2, 5, 12, 13, 20, 24, 25, 43, 47],\n",
        " [1, 2, 4, 24, 27, 36],\n",
        " [1, 2, 4, 5, 9, 12, 18, 24, 36, 41, 47, 60],\n",
        " [2, 4, 10, 24, 46],\n",
        " [2, 18, 24],\n",
        " [2, 4, 10, 13, 24, 36, 43, 46],\n",
        " [2, 3, 4, 13, 22, 24, 36, 43],\n",
        " [2, 4, 7, 13, 24, 26, 36, 38, 43, 58],\n",
        " [2, 4, 5, 20, 24, 25, 36, 60],\n",
        " [2, 7, 24, 38]]\n",
        "\n",
        "binary_data3=make_bi_data(data_3)"
      ],
      "metadata": {
        "id": "eWZOE9qjMtnW"
      },
      "execution_count": null,
      "outputs": []
    },
    {
      "cell_type": "code",
      "source": [
        "data_4=[[2, 4, 7, 13, 24, 26, 36, 38, 43, 58],\n",
        " [2, 4, 5, 13, 20, 24, 25, 36, 43],\n",
        " [1, 2, 4, 5, 9, 12, 24, 36, 41, 47, 60],\n",
        " [2, 5, 7, 24, 29, 38],\n",
        " [5, 20, 24, 25],\n",
        " [1, 2, 4, 5, 6, 13, 14, 24, 26, 36, 43, 54, 70],\n",
        " [1, 2, 4, 5, 13, 14, 20, 24, 25, 36, 43],\n",
        " [2, 4, 5, 20, 24, 25, 36, 60],\n",
        " [1, 2, 3, 4, 13, 14, 24, 36, 43, 55],\n",
        " [2, 18, 24, 26, 58],\n",
        " [1, 2, 5, 12, 24, 35, 47, 63],\n",
        " [2, 4, 5, 12, 13, 20, 24, 25, 36, 43, 47],\n",
        " [1, 2, 4, 13, 24, 26, 36, 43, 58, 63],\n",
        " [2, 4, 10, 13, 14, 24, 36, 43, 46],\n",
        " [1, 2, 4, 24, 27, 36],\n",
        " [1, 2, 4, 5, 9, 20, 24, 25, 36, 41, 60],\n",
        " [2, 4, 13, 18, 24, 36, 43],\n",
        " [2, 7, 15, 18, 24, 26, 38, 58],\n",
        " [2, 4, 14, 24, 32, 36],\n",
        " [2, 4],\n",
        " [2, 10, 15, 18, 24, 46],\n",
        " [2, 4, 13, 24, 31, 36, 43],\n",
        " [2, 3, 4, 13, 22, 24, 36, 43],\n",
        " [2, 5, 20, 24, 25, 60],\n",
        " [2, 3, 4, 5, 20, 23, 24, 25, 36, 39],\n",
        " [2, 4],\n",
        " [2, 4, 5, 10, 24, 25, 36, 46, 60],\n",
        " [2, 4, 24, 36, 57],\n",
        " [2, 3, 4, 13, 14, 24, 32, 36, 43],\n",
        " [2, 4, 13, 24, 35, 36, 43],\n",
        " [2, 4],\n",
        " [2, 7, 13, 18, 24, 38, 43, 49],\n",
        " [1, 2, 4, 5, 13, 24, 26, 32, 36, 41, 43],\n",
        " [1, 2, 4, 7, 13, 14, 24, 36, 38, 43],\n",
        " [2, 4, 18, 24, 36],\n",
        " [1, 2, 4, 10, 24, 36, 46, 59],\n",
        " [2, 15, 18, 24, 58],\n",
        " [2, 7, 24, 38],\n",
        " [2, 5, 20, 24, 25, 42],\n",
        " [2, 5, 13, 20, 24, 25, 32, 43],\n",
        " [2, 15, 18, 24, 56],\n",
        " [2, 5, 10, 24, 25, 46],\n",
        " [2, 4, 5, 13, 20, 24, 25, 36, 43],\n",
        " [2, 7, 24, 38],\n",
        " [2, 4, 5, 20, 24, 25, 36],\n",
        " [2, 4, 10, 13, 24, 36, 43, 46],\n",
        " [2, 7, 24, 38, 58],\n",
        " [2, 3, 4, 7, 13, 24, 36, 38, 43],\n",
        " [2, 4, 5, 12, 20, 24, 25, 36, 47],\n",
        " [2, 4, 18, 24, 36, 41]]\n",
        "\n",
        "binary_data4=make_bi_data(data_4)"
      ],
      "metadata": {
        "id": "TkMcDVhcdtSJ"
      },
      "execution_count": null,
      "outputs": []
    },
    {
      "cell_type": "code",
      "source": [
        "data_5=[[1, 2, 4, 5, 13, 14, 24, 36, 41, 43],\n",
        " [2, 4, 10, 13, 15, 18, 24, 36, 43, 46],\n",
        " [1, 2, 4, 5, 13, 14, 20, 24, 25, 36, 43],\n",
        " [2, 15, 18, 24],\n",
        " [2, 4, 24, 36, 41],\n",
        " [2, 13, 15, 18, 24, 43],\n",
        " [2, 4, 5, 6, 13, 24, 25, 36, 43, 44, 60],\n",
        " [2, 3, 4, 13, 14, 24, 32, 36, 43],\n",
        " [2, 7, 24, 38, 58],\n",
        " [2, 5, 12, 24, 26, 32, 47],\n",
        " [2, 4, 7, 13, 24, 36, 38, 43],\n",
        " [2, 5, 7, 12, 24, 25, 38, 47],\n",
        " [1, 2, 5, 14, 24, 41],\n",
        " [2, 4, 5, 13, 16, 20, 24, 25, 36, 43, 60],\n",
        " [1, 2, 4, 5, 9, 20, 24, 25, 36, 41, 60],\n",
        " [2, 5, 20, 24, 25],\n",
        " [2, 10, 15, 18, 24, 46],\n",
        " [2, 4, 8, 11, 18, 24, 37],\n",
        " [1, 2, 5, 7, 24, 26, 38, 46, 58],\n",
        " [2, 4, 18, 24, 36, 49],\n",
        " [1, 2, 4, 36, 59],\n",
        " [5, 20, 24, 25],\n",
        " [2, 5, 14, 18, 20, 24, 25, 35, 44],\n",
        " [2, 4, 5, 20, 24, 25, 36],\n",
        " [2, 4, 24, 26, 32, 36],\n",
        " [2, 5, 7, 24, 29, 38],\n",
        " [2, 11, 17, 18, 24, 39],\n",
        " [1, 2, 4, 5, 13, 20, 24, 25, 36, 42, 43],\n",
        " [1, 2, 4, 7, 13, 14, 24, 36, 38, 43],\n",
        " [2, 5, 13, 24, 43, 61],\n",
        " [5, 12, 24, 47],\n",
        " [2, 4, 18, 24, 36, 49],\n",
        " [2, 4, 5, 12, 24, 25, 36, 47, 72],\n",
        " [1, 2, 4, 10, 24, 31, 36, 46],\n",
        " [2, 4, 10, 24, 36, 46],\n",
        " [2, 7, 24, 38],\n",
        " [2, 10, 14, 24, 46],\n",
        " [2, 4, 13, 18, 24, 26, 36, 43, 49],\n",
        " [1, 2, 4, 5, 13, 20, 24, 25, 36, 41, 43],\n",
        " [2, 7, 24, 38, 42, 43],\n",
        " [2, 4, 5, 10, 12, 13, 24, 36, 43, 46, 47],\n",
        " [2, 10, 24, 32, 46],\n",
        " [2, 18, 24, 33, 52],\n",
        " [2, 3, 15, 18, 24],\n",
        " [1, 2, 4, 5, 9, 20, 24, 25, 36, 41, 60],\n",
        " [2, 5, 7, 20, 24, 25, 38],\n",
        " [5, 6, 12, 24, 47],\n",
        " [2, 4, 5, 14, 18, 20, 24, 25, 35],\n",
        " [1, 2, 4, 5, 13, 24, 36, 41, 43]]\n",
        "binary_data5=make_bi_data(data_5)"
      ],
      "metadata": {
        "id": "6KmV1yw8ehfD"
      },
      "execution_count": null,
      "outputs": []
    },
    {
      "cell_type": "markdown",
      "source": [
        "##データ加工\n"
      ],
      "metadata": {
        "id": "GUrmjcOuPNp_"
      }
    },
    {
      "cell_type": "code",
      "source": [
        "import numpy as np\n",
        "\n",
        "def make_mod_data(binary_data):\n",
        "    # 例として与えられたジョブのリスト\n",
        "    jobs = binary_data\n",
        "\n",
        "    # 工具の使用回数をカウント\n",
        "    tool_usage = np.sum(jobs, axis=0)\n",
        "\n",
        "    # 工具の使用回数の2乗の逆数を計算\n",
        "    inverse_tool_usage = (1 / (tool_usage))\n",
        "\n",
        "    # 工具の使用回数が0の工具は逆数を0に設定（ゼロ除算を防ぐため）\n",
        "    inverse_tool_usage[tool_usage == 0] = 0\n",
        "\n",
        "    # 新しいジョブリストに変換\n",
        "    transformed_jobs = []\n",
        "    for job in jobs:\n",
        "        transformed_job = [job[i] * inverse_tool_usage[i] for i in range(len(job))]\n",
        "        transformed_jobs.append(transformed_job)\n",
        "\n",
        "    # 結果を表示\n",
        "    #for i, job in enumerate(transformed_jobs):\n",
        "    #    print(job, \",\")\n",
        "\n",
        "    return transformed_jobs\n"
      ],
      "metadata": {
        "id": "u6m-WHdlo0kY"
      },
      "execution_count": null,
      "outputs": []
    },
    {
      "cell_type": "code",
      "source": [
        "data_1_modified=make_mod_data(binary_data1)\n",
        "data_2_modified=make_mod_data(binary_data2)\n",
        "data_3_modified=make_mod_data(binary_data3)\n",
        "data_4_modified=make_mod_data(binary_data4)\n",
        "data_5_modified=make_mod_data(binary_data5)"
      ],
      "metadata": {
        "colab": {
          "base_uri": "https://localhost:8080/"
        },
        "id": "gvSE6zI2V41D",
        "outputId": "af7181a4-0483-4ef5-c3fa-9be1c2166d22"
      },
      "execution_count": null,
      "outputs": [
        {
          "output_type": "stream",
          "name": "stderr",
          "text": [
            "<ipython-input-15-f4566678c1c7>:11: RuntimeWarning: divide by zero encountered in divide\n",
            "  inverse_tool_usage = (1 / (tool_usage))\n"
          ]
        }
      ]
    },
    {
      "cell_type": "code",
      "source": [
        "import numpy as np\n",
        "import matplotlib.pyplot as plt\n",
        "from scipy.cluster.hierarchy import dendrogram, linkage, fcluster\n",
        "from sklearn.preprocessing import StandardScaler\n",
        "from scipy.spatial.distance import pdist, squareform\n",
        "\n",
        "# データ例\n",
        "data_modified = data_1_modified  # クラスタリングに使用する修正後のデータ\n",
        "\n",
        "# ステップ 1: データのスケーリング\n",
        "scaler = StandardScaler()\n",
        "X_scaled = scaler.fit_transform(data_modified)\n",
        "\n",
        "# ステップ 2: ウォード法による階層クラスタリングの実行\n",
        "Z = linkage(X_scaled, method='ward')\n",
        "\n",
        "# ステップ 3: デンドログラムの描画\n",
        "plt.figure(figsize=(10, 6))\n",
        "dendrogram(Z)\n",
        "plt.title('Dendrogram')\n",
        "plt.xlabel('sample')\n",
        "plt.ylabel('distance')\n",
        "plt.show()\n",
        "\n",
        "# ステップ 4: p個のクラスタにグループ分け\n",
        "p = 5  # ここで分割するクラスタ数を指定\n",
        "clusters = fcluster(Z, p, criterion='maxclust')\n",
        "\n",
        "# クラスタ結果の出力\n",
        "#print(f\"{p} 個のクラスタに分割された結果:\")\n",
        "#print(clusters)\n",
        "\n",
        "# 各クラスタごとのサンプル数を確認\n",
        "#unique, counts = np.unique(clusters, return_counts=True)\n",
        "#print(\"各クラスタのサンプル数:\", dict(zip(unique, counts)))\n"
      ],
      "metadata": {
        "colab": {
          "base_uri": "https://localhost:8080/",
          "height": 564
        },
        "id": "_o5UdWdFVVtK",
        "outputId": "acd4a322-a580-4e1c-c2cf-af4c81422605"
      },
      "execution_count": null,
      "outputs": [
        {
          "output_type": "display_data",
          "data": {
            "text/plain": [
              "<Figure size 1000x600 with 1 Axes>"
            ],
            "image/png": "[encoded data removed]"
          },
          "metadata": {}
        }
      ]
    },
    {
      "cell_type": "code",
      "source": [
        "# prompt: 要素の和集合を求めたい．\n",
        "\n",
        "# Initialize two sets\n",
        "set1 = set(data_1[21])  # Convert lists to sets\n",
        "set2 = set(data_1[8])\n",
        "set3 = set(data_1[22])\n",
        "set4 = set(data_1[25])\n",
        "set5 = set(data_1[23])\n",
        "set6 = set(data_1[34])\n",
        "set7 = set(data_1[5])\n",
        "set8 = set(data_1[11])\n",
        "set9 = set(data_1[33])\n",
        "set10 = set(data_1[36])\n",
        "\n",
        "\n",
        "\n",
        "# Find the union of the two sets using the '|' operator\n",
        "union_set_1 =   set1 | set2 | set3 | set4 | set5| set6 | set7| set8| set9 | set10\n",
        "# Print the union set\n",
        "len(union_set_1)"
      ],
      "metadata": {
        "id": "k_f6K2ftTc7c",
        "colab": {
          "base_uri": "https://localhost:8080/"
        },
        "outputId": "85891dbb-4764-44d6-e590-d823b1966067"
      },
      "execution_count": null,
      "outputs": [
        {
          "output_type": "execute_result",
          "data": {
            "text/plain": [
              "24"
            ]
          },
          "metadata": {},
          "execution_count": 18
        }
      ]
    },
    {
      "cell_type": "code",
      "source": [
        "import csv\n",
        "from google.colab import files\n",
        "\n",
        "# 行列データ\n",
        "#matrix = fl_jobs\n",
        "\n",
        "# CSVファイルに書き込み\n",
        "#csv_file = 'data_2.csv'\n",
        "\n",
        "#with open(csv_file, 'w', newline='') as file:\n",
        "#    writer = csv.writer(file)\n",
        "#    writer.writerows(matrix)\n",
        "\n",
        "# ファイルをダウンロード\n",
        "#files.download(csv_file)\n"
      ],
      "metadata": {
        "id": "9WHBMDy9GcST"
      },
      "execution_count": null,
      "outputs": []
    },
    {
      "cell_type": "markdown",
      "source": [
        "##製品数60のデータ"
      ],
      "metadata": {
        "id": "8cn9b9q01SD1"
      }
    },
    {
      "cell_type": "code",
      "source": [
        "#初期工具\n",
        "ini_60=[1,3,4,6,7,9,11,12,14,15,18,20,26,30,32,43,45,46,54,56,59,60,67,71]"
      ],
      "metadata": {
        "id": "_jrw4sIn2qhT"
      },
      "execution_count": null,
      "outputs": []
    },
    {
      "cell_type": "code",
      "source": [
        "data_60_1=[[2, 18, 24, 26],\n",
        " [2, 5, 13, 20, 24, 25, 32, 43],\n",
        " [2, 5, 7, 20, 24, 25, 38],\n",
        " [5, 20, 24, 25],\n",
        " [2, 4, 18, 24, 36],\n",
        " [2, 4, 13, 24, 26, 32, 33, 36, 39, 43, 52],\n",
        " [2, 5, 12, 20, 24, 25, 41, 47],\n",
        " [2, 3, 4, 5, 24, 36, 69],\n",
        " [2, 5, 9, 24, 60],\n",
        " [2, 4, 7, 13, 15, 18, 24, 36, 38, 43],\n",
        " [2, 4, 7, 13, 24, 26, 32, 36, 38, 43],\n",
        " [2, 4, 13, 24, 35, 36, 43],\n",
        " [2, 15, 18, 24, 56],\n",
        " [2, 4, 5, 12, 20, 24, 25, 36, 47],\n",
        " [2, 4, 5, 7, 9, 13, 24, 36, 38, 43],\n",
        " [2, 5, 12, 24, 26, 32, 47],\n",
        " [2, 4, 7, 18, 24, 36, 38, 56],\n",
        " [2, 4, 19, 24, 26, 36, 62],\n",
        " [2, 4, 7, 13, 24, 26, 36, 38, 43, 67],\n",
        " [2, 4, 11, 18, 24, 53, 68],\n",
        " [2, 4, 5, 20, 24, 25, 36, 39, 53],\n",
        " [1, 2, 4, 13, 14, 24, 36, 41, 43],\n",
        " [2, 4, 11, 17, 18, 24, 39, 43, 49],\n",
        " [2, 4, 7, 24, 36, 38],\n",
        " [1, 2, 5, 12, 24, 35, 47, 63],\n",
        " [2, 7, 24, 38, 58],\n",
        " [2, 24, 41],\n",
        " [2, 4, 5, 20, 24, 25, 36, 60],\n",
        " [2, 5, 14, 18, 20, 24, 25, 35, 44],\n",
        " [5, 12, 24, 47],\n",
        " [1, 2, 4, 5, 13, 24, 36, 41, 43],\n",
        " [2, 18, 24],\n",
        " [2, 4, 13, 36, 43],\n",
        " [2, 7, 24, 38],\n",
        " [2, 5, 9, 20, 24, 25, 60],\n",
        " [2, 15, 18, 24],\n",
        " [1, 2, 4, 5, 13, 24, 26, 32, 36, 41, 43],\n",
        " [2, 8, 18, 24, 37],\n",
        " [2, 18, 24, 26],\n",
        " [2, 5, 10, 24, 25, 46],\n",
        " [2, 4, 13, 36, 43],\n",
        " [1, 2, 4, 5, 13, 20, 24, 25, 36, 42, 43],\n",
        " [5, 20, 24, 25],\n",
        " [1, 2, 4, 5, 10, 24, 36, 41, 46, 69],\n",
        " [1, 2, 4, 5, 13, 24, 36, 43, 59, 69, 71],\n",
        " [1, 2, 4, 10, 13, 14, 24, 36, 43, 46],\n",
        " [2, 5, 20, 24, 25, 42],\n",
        " [2, 4, 5, 10, 20, 24, 25, 36, 46],\n",
        " [2, 5, 20, 24, 25, 60],\n",
        " [2, 4, 7, 24, 36, 38],\n",
        " [1, 2, 15, 18, 24, 63],\n",
        " [1, 2, 4, 5, 13, 14, 24, 36, 41, 43],\n",
        " [1, 2, 4, 5, 13, 20, 24, 25, 36, 43, 46],\n",
        " [2, 11, 17, 18, 24, 39],\n",
        " [2, 4, 24, 42],\n",
        " [2, 3, 4, 7, 13, 24, 36, 38, 43],\n",
        " [1, 2, 4, 5, 13, 24, 25, 33, 36, 39, 41, 43, 60],\n",
        " [2, 3, 7, 24, 38, 42, 43],\n",
        " [2, 4, 13, 18, 24, 36, 43],\n",
        " [1, 2, 4, 5, 9, 12, 18, 24, 36, 41, 47, 60]]"
      ],
      "metadata": {
        "id": "McvfPmwx1Uaw"
      },
      "execution_count": null,
      "outputs": []
    },
    {
      "cell_type": "code",
      "source": [
        "data_60_2=[[2, 14, 24],\n",
        " [1, 2, 4, 5, 13, 24, 26, 32, 36, 41, 43],\n",
        " [2, 4, 7, 24, 36, 38],\n",
        " [1, 2, 3, 4, 5, 13, 24, 36, 41, 43, 69],\n",
        " [5, 20, 24, 25],\n",
        " [2, 5, 12, 24, 26, 32, 47],\n",
        " [2, 4, 18, 24, 36, 41],\n",
        " [2, 5, 13, 20, 24, 25, 43],\n",
        " [2, 4, 10, 13, 16, 24, 36, 43, 46, 60],\n",
        " [2, 15, 18, 24],\n",
        " [1, 2, 4, 5, 13, 24, 36, 43, 59, 69, 71],\n",
        " [2, 4, 24, 26, 32, 36],\n",
        " [2, 10, 24, 41, 46],\n",
        " [2, 3, 24],\n",
        " [1, 2, 5, 7, 22, 24, 38],\n",
        " [2, 4, 5, 13, 16, 20, 24, 25, 36, 43, 60],\n",
        " [2, 4, 10, 13, 15, 18, 24, 36, 43, 46],\n",
        " [2, 4, 7, 18, 24, 36, 38, 56],\n",
        " [1, 2, 5, 20, 24, 25, 63],\n",
        " [2, 4, 5, 13, 20, 24, 25, 36, 43],\n",
        " [1, 2, 4, 14, 24, 36, 63],\n",
        " [2, 3, 7, 24, 38, 42, 43],\n",
        " [2, 4, 5, 13, 20, 24, 25, 36, 43, 49, 60, 69],\n",
        " [1, 2, 4, 5, 6, 13, 14, 24, 26, 36, 43, 54, 70],\n",
        " [2, 4, 13, 36, 43],\n",
        " [1, 2, 4, 5, 13, 20, 24, 25, 36, 41, 43],\n",
        " [2, 4, 18, 24, 26, 36],\n",
        " [2, 4, 7, 13, 24, 26, 36, 38, 43, 67],\n",
        " [2, 4, 13, 18, 24, 33, 36, 43, 52],\n",
        " [2, 4, 15, 18, 24, 26, 36],\n",
        " [2, 4, 5, 12, 13, 24, 36, 41, 43, 47],\n",
        " [2, 3, 24],\n",
        " [2, 4, 24, 36, 41],\n",
        " [2, 4, 5, 13, 20, 24, 25, 35, 36, 41, 43, 46, 60],\n",
        " [2, 4, 10, 13, 14, 24, 36, 43, 46],\n",
        " [1, 2, 7, 10, 14, 24, 38, 46],\n",
        " [2, 10, 14, 24, 46],\n",
        " [2, 5, 7, 12, 24, 25, 38, 47],\n",
        " [1, 2, 4, 13, 14, 17, 24, 36, 39, 43],\n",
        " [2, 4, 15, 18, 24, 36],\n",
        " [2, 24, 41],\n",
        " [2, 4, 13, 18, 24, 33, 36, 43, 52],\n",
        " [1, 2, 4, 5, 13, 14, 20, 24, 25, 36, 41, 43],\n",
        " [2, 4, 13, 24, 31, 36, 43],\n",
        " [2, 5, 10, 24, 25, 46],\n",
        " [2, 4, 18, 24, 26, 36],\n",
        " [2, 5, 20, 24, 25, 60],\n",
        " [2, 4, 5, 12, 20, 24, 25, 36, 47],\n",
        " [2, 18, 24],\n",
        " [2, 4, 13, 36, 43],\n",
        " [2, 5, 7, 24, 38, 51],\n",
        " [1, 2, 4, 5, 13, 14, 20, 24, 25, 36, 43],\n",
        " [2, 4, 11, 18, 24, 36],\n",
        " [2, 4, 5, 12, 24, 36, 47],\n",
        " [1, 2, 4, 5, 9, 12, 24, 36, 41, 47, 60],\n",
        " [1, 2, 5, 24, 41],\n",
        " [2, 4, 18, 24, 36, 49],\n",
        " [2, 8, 18, 24, 32, 37],\n",
        " [2, 24, 32],\n",
        " [2, 4, 7, 24, 32, 36, 38]]"
      ],
      "metadata": {
        "id": "7ttC1OKs1dMd"
      },
      "execution_count": null,
      "outputs": []
    },
    {
      "cell_type": "code",
      "source": [
        "data_60_3=[[1, 2, 5, 7, 22, 24, 38],\n",
        " [5, 20, 24, 25],\n",
        " [2, 7, 18, 24, 26, 38],\n",
        " [1, 2, 5, 12, 24, 35, 47, 63],\n",
        " [2, 5, 12, 13, 20, 24, 25, 43, 47],\n",
        " [1, 2, 4, 5, 10, 13, 14, 24, 26, 36, 43, 46, 54, 70],\n",
        " [2, 4, 11, 17, 18, 24, 39, 43, 49],\n",
        " [1, 2, 4, 5, 9, 12, 24, 36, 41, 47, 60],\n",
        " [1, 2, 4, 5, 10, 13, 20, 24, 25, 36, 41, 43, 46],\n",
        " [2, 4, 7, 24, 36, 38],\n",
        " [2, 4],\n",
        " [2, 4],\n",
        " [2, 4, 10, 13, 16, 24, 36, 43, 46, 60],\n",
        " [2, 7, 24, 38, 42, 43],\n",
        " [2, 5, 12, 22, 24, 29, 47, 66, 70],\n",
        " [2, 3, 4, 13, 14, 24, 32, 36, 43],\n",
        " [2, 18, 24],\n",
        " [2, 18, 24, 26],\n",
        " [2, 4, 5, 20, 24, 25, 36],\n",
        " [5, 20, 24, 25],\n",
        " [2, 4, 16, 36, 60],\n",
        " [2, 3, 4, 5, 20, 23, 24, 25, 36, 39],\n",
        " [2, 7, 13, 15, 18, 24, 38, 43],\n",
        " [2, 7, 8, 24, 37, 38, 39],\n",
        " [2, 4, 7, 13, 24, 36, 38, 43],\n",
        " [2, 8, 18, 24, 37, 49],\n",
        " [2, 4, 13, 18, 24, 33, 35, 36, 43, 53],\n",
        " [2, 4, 24, 36, 57],\n",
        " [2, 4, 8, 13, 24, 32, 36, 37, 39, 43],\n",
        " [1, 2, 4, 5, 9, 12, 18, 24, 36, 41, 47, 60],\n",
        " [1, 2, 4, 7, 13, 14, 24, 36, 38, 43],\n",
        " [2, 4, 5, 13, 20, 24, 25, 35, 36, 41, 43, 46, 60],\n",
        " [2, 4, 13, 15, 18, 24, 36, 43],\n",
        " [1, 2, 4, 5, 9, 20, 24, 25, 36, 41, 60],\n",
        " [2, 4, 13, 24, 26, 32, 36, 43],\n",
        " [2, 14, 24],\n",
        " [5, 20, 24, 25],\n",
        " [2, 4, 18, 24, 36, 49],\n",
        " [2, 4, 13, 17, 18, 24, 36, 39, 43, 49],\n",
        " [2, 4, 7, 13, 24, 32, 36, 38, 43],\n",
        " [1, 2, 4, 5, 13, 24, 36, 41, 43],\n",
        " [2, 4, 7, 13, 15, 18, 24, 36, 38, 43],\n",
        " [2, 7, 24, 38],\n",
        " [2, 4, 18, 24, 36, 49],\n",
        " [1, 2, 4, 5, 10, 13, 20, 24, 25, 36, 41, 43, 46],\n",
        " [2, 4, 13, 24, 34, 36, 43, 58],\n",
        " [2, 4, 7, 24, 36, 38],\n",
        " [2, 4, 7, 18, 24, 36, 38, 56],\n",
        " [1, 2, 4, 14, 24, 36, 63],\n",
        " [1, 2, 5, 14, 24, 41],\n",
        " [2, 11, 17, 18, 24, 39],\n",
        " [2, 5, 10, 13, 20, 24, 25, 43, 46],\n",
        " [2, 4, 10, 13, 15, 18, 24, 36, 43, 46],\n",
        " [2, 4, 13, 15, 18, 19, 24, 26, 27, 36, 43, 62],\n",
        " [1, 2, 4, 13, 14, 17, 24, 36, 39, 43],\n",
        " [1, 2, 4, 5, 13, 20, 24, 25, 36, 41, 43],\n",
        " [2, 4, 13, 15, 18, 24, 36, 39, 43, 53],\n",
        " [2, 4, 13, 36, 43],\n",
        " [5, 6, 12, 24, 47],\n",
        " [2, 4, 7, 13, 24, 26, 36, 38, 43, 67]]"
      ],
      "metadata": {
        "id": "_nPxoQ-y1vf0"
      },
      "execution_count": null,
      "outputs": []
    },
    {
      "cell_type": "code",
      "source": [
        "data_60_4=[[2, 18, 24],\n",
        " [2, 4, 13, 18, 24, 26, 36, 43, 58],\n",
        " [2, 7, 24, 38],\n",
        " [2, 4, 7, 13, 24, 26, 36, 38, 43, 67],\n",
        " [2, 4, 5, 7, 13, 20, 24, 25, 36, 38, 43, 60, 69],\n",
        " [2, 4, 11, 18, 24, 36],\n",
        " [2, 4, 24, 36, 41],\n",
        " [2, 13, 15, 18, 24, 43],\n",
        " [1, 2, 4, 10, 13, 14, 24, 36, 43, 46],\n",
        " [2, 5, 20, 24, 25, 42],\n",
        " [2, 17, 18, 24, 39, 43, 49],\n",
        " [2, 3, 4, 13, 14, 24, 32, 36, 43],\n",
        " [2, 4, 19, 24, 26, 36, 62],\n",
        " [1, 2, 7, 14, 24, 38],\n",
        " [2, 4, 10, 13, 14, 24, 36, 43, 46],\n",
        " [1, 2, 4, 5, 13, 14, 20, 24, 25, 36, 43],\n",
        " [5, 20, 24, 25],\n",
        " [2, 4, 5, 10, 12, 13, 24, 36, 43, 46, 47, 54],\n",
        " [2, 4, 5, 12, 20, 24, 25, 36, 47],\n",
        " [1, 2, 5, 7, 22, 24, 38],\n",
        " [2, 4, 13, 18, 24, 33, 35, 36, 43, 53],\n",
        " [2, 4, 7, 13, 24, 26, 32, 36, 38, 43],\n",
        " [2, 5, 12, 24, 38, 39, 47, 53, 57],\n",
        " [2, 18, 24, 26],\n",
        " [2, 4, 5, 6, 13, 24, 25, 36, 43, 44, 60],\n",
        " [2, 10, 24, 32, 46],\n",
        " [1, 2, 4, 5, 13, 20, 24, 25, 36, 41, 43],\n",
        " [2, 4, 10, 24, 26, 32, 36, 46],\n",
        " [2, 4, 5, 13, 20, 24, 25, 36, 43],\n",
        " [5, 20, 24, 25],\n",
        " [1, 2, 4, 10, 24, 31, 36, 46],\n",
        " [2, 4, 5, 12, 13, 20, 24, 25, 36, 43, 47],\n",
        " [2, 4, 5, 14, 18, 20, 24, 25, 35],\n",
        " [2, 4, 5, 12, 13, 24, 36, 43, 47, 61],\n",
        " [5, 20, 24, 25],\n",
        " [1, 2, 4, 5, 13, 24, 36, 43, 59, 69, 71],\n",
        " [2, 3, 7, 13, 24, 38, 43],\n",
        " [1, 2, 4, 5, 13, 24, 36, 41, 43],\n",
        " [2, 4, 5, 20, 24, 25, 36],\n",
        " [1, 2, 4, 10, 24, 36, 46, 59],\n",
        " [1, 2, 4, 10, 13, 14, 24, 36, 43, 46],\n",
        " [2, 4, 7, 13, 24, 36, 38, 43, 49],\n",
        " [2, 4, 5, 10, 12, 13, 24, 36, 43, 46, 47],\n",
        " [2, 3, 15, 18, 24],\n",
        " [2, 4, 18, 24, 36, 41],\n",
        " [2, 4, 7, 13, 24, 26, 32, 36, 38, 43],\n",
        " [2, 4, 10, 24, 46],\n",
        " [2, 4, 5, 17, 20, 24, 25, 36, 39],\n",
        " [2, 4, 10, 13, 24, 36, 43, 46],\n",
        " [1, 2, 4, 5, 9, 13, 20, 24, 25, 36, 41, 43],\n",
        " [2, 5, 12, 24, 26, 32, 47],\n",
        " [1, 2, 4, 5, 20, 24, 25, 36, 41],\n",
        " [2, 4, 13, 17, 18, 24, 36, 39, 43, 49],\n",
        " [2, 4, 7, 18, 24, 36, 38],\n",
        " [2, 5, 9, 24, 60],\n",
        " [2, 4],\n",
        " [2, 4, 22, 24, 36],\n",
        " [5, 20, 24, 25],\n",
        " [2, 7, 13, 15, 18, 24, 38, 43],\n",
        " [2, 4, 7, 18, 24, 36, 38, 56]]"
      ],
      "metadata": {
        "id": "irI2IBbk1zQG"
      },
      "execution_count": null,
      "outputs": []
    },
    {
      "cell_type": "code",
      "source": [
        "data_60_5=[[2, 4, 16, 18, 24, 36, 60],\n",
        " [2, 4, 5, 7, 13, 20, 24, 25, 36, 38, 43, 60, 69],\n",
        " [2, 7, 18, 24, 38, 53],\n",
        " [2, 3, 7, 24, 38, 42, 43],\n",
        " [2, 4, 36],\n",
        " [2, 4, 13, 24, 35, 36, 43],\n",
        " [2, 24, 35],\n",
        " [1, 2, 4, 10, 13, 14, 24, 36, 43, 46],\n",
        " [1, 2, 4, 13, 24, 26, 36, 43, 58, 63],\n",
        " [2, 4, 5, 10, 13, 24, 26, 32, 36, 43, 46, 69],\n",
        " [2, 18, 24, 26],\n",
        " [1, 2, 4, 5, 13, 14, 20, 24, 25, 36, 43],\n",
        " [2, 7, 18, 24, 26, 38],\n",
        " [2, 24, 26, 32],\n",
        " [2, 18, 24, 43, 56],\n",
        " [2, 4, 5, 17, 20, 24, 25, 36, 39],\n",
        " [1, 2, 4, 5, 9, 12, 18, 24, 36, 41, 47, 60],\n",
        " [2, 18, 24, 27],\n",
        " [2, 4, 5, 13, 16, 20, 24, 25, 36, 43, 60],\n",
        " [1, 2, 3, 4, 10, 13, 24, 36, 43, 46],\n",
        " [2, 4, 7, 18, 24, 36, 38, 56],\n",
        " [2, 4, 7, 18, 24, 36, 38],\n",
        " [1, 2, 4, 5, 9, 20, 24, 25, 36, 41, 60],\n",
        " [2, 4, 13, 18, 24, 33, 36, 43, 52],\n",
        " [2, 4, 15, 18, 24, 26, 36],\n",
        " [2, 4, 13, 36, 43],\n",
        " [2, 5, 7, 24, 29, 38],\n",
        " [2, 18, 24, 26],\n",
        " [2, 15, 18, 24],\n",
        " [2, 5, 12, 24, 26, 32, 47],\n",
        " [1, 2, 4, 5, 7, 24, 36, 38, 41],\n",
        " [2, 7, 24, 38],\n",
        " [2, 4, 10, 13, 16, 24, 36, 43, 46, 60],\n",
        " [2, 4, 5, 20, 24, 25, 36, 60],\n",
        " [2, 18, 24, 32, 33, 52],\n",
        " [2, 4, 16, 36, 60],\n",
        " [2, 4, 24, 42],\n",
        " [2, 5, 13, 20, 24, 25, 43],\n",
        " [2, 4, 10, 13, 14, 24, 36, 43, 46],\n",
        " [2, 3, 4, 13, 22, 24, 36, 43],\n",
        " [5, 20, 24, 25],\n",
        " [2, 4, 5, 20, 24, 25, 36, 41],\n",
        " [2, 4, 13, 18, 24, 26, 36, 43, 58],\n",
        " [2, 4, 7, 13, 24, 26, 32, 36, 38, 43],\n",
        " [1, 2, 5, 10, 11, 18, 24, 41, 46],\n",
        " [2, 4, 7, 13, 24, 36, 38, 43, 49],\n",
        " [1, 2, 7, 14, 24, 38],\n",
        " [1, 2, 5, 24, 44],\n",
        " [2, 5, 13, 20, 24, 25, 32, 43],\n",
        " [2, 4, 5, 13, 14, 20, 24, 25, 26, 36, 43],\n",
        " [1, 2, 4, 5, 10, 13, 14, 24, 26, 36, 43, 46, 54, 70],\n",
        " [2, 3, 24],\n",
        " [2, 4, 5, 20, 24, 25, 36],\n",
        " [2, 5, 9, 24, 60],\n",
        " [2, 4, 24, 26, 32],\n",
        " [2, 4, 5, 12, 13, 20, 24, 25, 26, 35, 36, 43, 47, 62],\n",
        " [2, 10, 15, 18, 24, 46],\n",
        " [2, 5, 13, 24, 43, 54, 64],\n",
        " [2, 7, 24, 38],\n",
        " [5, 20, 24, 25]]"
      ],
      "metadata": {
        "id": "tUgG53gT18cw"
      },
      "execution_count": null,
      "outputs": []
    },
    {
      "cell_type": "markdown",
      "source": [
        "##製品数70のデータ"
      ],
      "metadata": {
        "id": "Lb6-Rd0K3py7"
      }
    },
    {
      "cell_type": "code",
      "source": [
        "#初期工具\n",
        "ini_70=[1,3,4,6,7,9,11,12,14,15,18,20,26,30,32,43,45,46,54,56,59,60,67,71]"
      ],
      "metadata": {
        "id": "B9UCKF363py7"
      },
      "execution_count": null,
      "outputs": []
    },
    {
      "cell_type": "code",
      "source": [
        "data_70_1=[[2, 4, 24, 36, 41],\n",
        " [2, 4, 36],\n",
        " [2, 4, 5, 10, 13, 24, 26, 32, 36, 43, 46, 69],\n",
        " [2, 4, 18, 24, 36, 49],\n",
        " [1, 2, 4, 10, 13, 14, 24, 36, 43, 46],\n",
        " [2, 4, 24, 36, 41],\n",
        " [2, 4, 10, 13, 16, 24, 36, 43, 46, 60],\n",
        " [5, 20, 24, 25],\n",
        " [5, 20, 24, 25],\n",
        " [2, 4, 11, 18, 24, 53, 68],\n",
        " [2, 4, 10, 24, 36, 46],\n",
        " [2, 15, 18, 24, 58],\n",
        " [1, 2, 4, 5, 10, 13, 20, 24, 25, 36, 41, 43, 46],\n",
        " [2, 4, 5, 12, 24, 25, 36, 47, 72],\n",
        " [2, 4, 7, 18, 24, 36, 38],\n",
        " [2, 4, 7, 10, 24, 36, 38, 46],\n",
        " [2, 5, 12, 13, 20, 24, 25, 43, 47],\n",
        " [2, 4, 5, 9, 13, 24, 36, 41, 43, 64],\n",
        " [1, 2, 4, 5, 6, 13, 14, 24, 26, 36, 43, 54, 70],\n",
        " [1, 2, 4, 10, 13, 14, 24, 36, 43, 46],\n",
        " [2, 4],\n",
        " [2, 4, 10, 13, 18, 24, 26, 36, 43, 46],\n",
        " [1, 2, 4, 13, 24, 26, 36, 43, 58, 63],\n",
        " [1, 2, 4, 13, 14, 24, 27, 36, 43],\n",
        " [2, 24, 26, 32],\n",
        " [1, 2, 4, 5, 9, 20, 24, 25, 36, 41, 60],\n",
        " [2, 4, 14, 24, 32, 36],\n",
        " [2, 18, 24, 26],\n",
        " [2, 4, 5, 13, 20, 24, 25, 36, 43, 49, 60, 69],\n",
        " [2, 7, 18, 24, 38, 53],\n",
        " [2, 4, 18, 24, 36],\n",
        " [2, 4, 5, 13, 20, 24, 25, 36, 43],\n",
        " [2, 4, 5, 13, 20, 24, 25, 32, 36, 43],\n",
        " [1, 2, 4, 5, 9, 12, 18, 24, 36, 41, 47, 60],\n",
        " [2, 7, 15, 18, 24, 26, 38, 58],\n",
        " [5, 12, 24, 47],\n",
        " [2, 4, 24, 36, 57],\n",
        " [2, 7, 24, 38],\n",
        " [2, 5, 7, 24, 38, 51],\n",
        " [2, 4, 13, 15, 18, 19, 24, 26, 27, 36, 43, 62],\n",
        " [2, 7, 24, 38],\n",
        " [2, 4, 5, 12, 20, 24, 25, 36, 47],\n",
        " [2, 7, 13, 15, 18, 24, 38, 43],\n",
        " [2, 17, 18, 24, 39, 49],\n",
        " [2, 10, 24, 41, 46],\n",
        " [2, 18, 24, 26],\n",
        " [2, 18, 24],\n",
        " [2, 4, 7, 13, 24, 26, 32, 36, 38, 43],\n",
        " [2, 4, 5, 10, 24, 25, 36, 46, 60],\n",
        " [2, 4, 13, 18, 24, 26, 36, 43, 58],\n",
        " [2, 4, 7, 13, 24, 36, 38, 43],\n",
        " [2, 4, 5, 13, 20, 24, 25, 35, 36, 41, 43, 46, 60],\n",
        " [1, 2, 4, 14, 24, 36],\n",
        " [2, 13, 24, 37, 39, 43, 58],\n",
        " [2, 4, 5, 12, 24, 36, 47],\n",
        " [2, 7, 8, 24, 37, 38, 39],\n",
        " [2, 4, 24, 26, 32, 36],\n",
        " [2, 4, 11, 18, 24, 26, 32],\n",
        " [1, 2, 4, 36, 59],\n",
        " [2, 24, 26, 32],\n",
        " [2, 18, 24, 26],\n",
        " [2, 4, 18, 24, 36, 49],\n",
        " [2, 10, 13, 24, 43, 46],\n",
        " [2, 14, 24],\n",
        " [1, 2, 5, 24, 41],\n",
        " [5, 20, 24, 25],\n",
        " [2, 24, 26, 32],\n",
        " [5, 20, 24, 25],\n",
        " [2, 4, 5, 10, 12, 13, 24, 36, 43, 46, 47],\n",
        " [2, 4, 24, 42]]"
      ],
      "metadata": {
        "id": "VRL6UGI73py8"
      },
      "execution_count": null,
      "outputs": []
    },
    {
      "cell_type": "code",
      "source": [
        "data_70_2=[[2, 5, 20, 24, 25],\n",
        " [2, 4, 11, 18, 24, 53, 68],\n",
        " [2, 4, 13, 15, 18, 24, 36, 43],\n",
        " [2, 4, 5, 13, 14, 20, 24, 25, 26, 36, 43],\n",
        " [1, 2, 5, 24, 41],\n",
        " [5, 20, 24, 25],\n",
        " [2, 4, 7, 24, 36, 38],\n",
        " [2, 4, 13, 18, 24, 36, 43],\n",
        " [5, 20, 24, 25],\n",
        " [2, 4, 24, 36, 41],\n",
        " [2, 3, 7, 24, 38, 42, 43],\n",
        " [2, 11, 17, 18, 24, 39],\n",
        " [1, 2, 4, 5, 13, 20, 24, 25, 36, 41, 43],\n",
        " [2, 4, 5, 13, 20, 24, 25, 36, 43],\n",
        " [2, 14, 24],\n",
        " [2, 4, 7, 10, 24, 36, 38, 46],\n",
        " [2, 4, 13, 24, 31, 36, 43],\n",
        " [2, 4, 5, 20, 24, 25, 36, 41],\n",
        " [2, 4, 7, 24, 36, 38],\n",
        " [1, 2, 4, 13, 24, 26, 36, 43, 58, 63],\n",
        " [5, 20, 24, 25],\n",
        " [2, 4, 22, 24, 36],\n",
        " [2, 7, 18, 24, 38, 53],\n",
        " [2, 4],\n",
        " [2, 18, 24, 26],\n",
        " [2, 15, 18, 24],\n",
        " [5, 20, 24, 25],\n",
        " [2, 4, 24, 36, 57],\n",
        " [1, 2, 4, 7, 13, 14, 24, 36, 38, 43],\n",
        " [2, 5, 7, 24, 29, 38],\n",
        " [2, 13, 24, 37, 39, 43, 58],\n",
        " [1, 2, 4, 13, 14, 24, 36, 41, 43],\n",
        " [2, 4, 5, 12, 13, 20, 24, 25, 26, 35, 36, 43, 47, 62],\n",
        " [2, 4, 5, 24, 29, 36],\n",
        " [2, 4, 8, 13, 15, 18, 24, 36, 37, 39, 43],\n",
        " [1, 2, 4, 36, 59],\n",
        " [2, 4, 15, 18, 24, 36, 57],\n",
        " [2, 4, 5, 10, 24, 25, 36, 46, 60],\n",
        " [2, 4, 7, 13, 24, 36, 38, 43, 49],\n",
        " [2, 5, 9, 20, 24, 25, 60],\n",
        " [2, 3, 7, 24, 38],\n",
        " [2, 18, 24, 26],\n",
        " [1, 2, 4, 5, 13, 14, 20, 24, 25, 36, 41, 43],\n",
        " [2, 4, 10, 13, 14, 24, 36, 43, 46],\n",
        " [1, 2, 4, 5, 13, 20, 24, 25, 36, 41, 43],\n",
        " [2, 7, 13, 15, 18, 24, 38, 43],\n",
        " [2, 4, 15, 18, 24, 26, 36],\n",
        " [1, 2, 4, 5, 10, 13, 14, 24, 26, 36, 43, 46, 54, 70],\n",
        " [2, 4, 5, 20, 24, 25, 36],\n",
        " [2, 18, 24, 33, 52, 58],\n",
        " [5, 20, 24, 25],\n",
        " [2, 4, 10, 13, 24, 36, 43, 46],\n",
        " [5, 12, 24, 47],\n",
        " [2, 4, 7, 13, 24, 26, 36, 38, 43, 58],\n",
        " [2, 4, 5, 12, 13, 24, 36, 41, 43, 47],\n",
        " [2, 10, 14, 24, 46],\n",
        " [2, 5, 12, 13, 20, 24, 25, 43, 47],\n",
        " [2, 18, 24, 27],\n",
        " [1, 2, 4, 5, 6, 13, 14, 24, 26, 36, 43, 54, 70],\n",
        " [2, 4, 5, 7, 12, 13, 24, 36, 38, 41, 43, 47],\n",
        " [2, 4, 11, 17, 18, 24, 39, 43, 49],\n",
        " [2, 4, 24, 26, 32],\n",
        " [2, 15, 18, 24, 43, 49],\n",
        " [2, 4, 24, 26, 32, 36],\n",
        " [1, 2, 4, 5, 13, 20, 24, 25, 36, 42, 43],\n",
        " [2, 5, 7, 24, 29, 38],\n",
        " [2, 4, 7, 13, 24, 26, 32, 36, 38, 43],\n",
        " [2, 7, 15, 18, 24, 26, 38, 58],\n",
        " [2, 14, 24],\n",
        " [2, 24, 26, 32]]"
      ],
      "metadata": {
        "id": "B6x56UCk3py8"
      },
      "execution_count": null,
      "outputs": []
    },
    {
      "cell_type": "code",
      "source": [
        "data_70_3=[[1, 2, 5, 14, 24, 41],\n",
        " [2, 3, 24],\n",
        " [5, 12, 20, 24, 25, 47],\n",
        " [2, 4, 5, 12, 20, 24, 25, 36, 47],\n",
        " [2, 4, 5, 13, 16, 20, 24, 25, 36, 43, 60],\n",
        " [2, 4, 7, 13, 24, 36, 38, 43, 49],\n",
        " [2, 4, 5, 12, 24, 25, 36, 47, 72],\n",
        " [2, 3, 4, 13, 22, 24, 36, 43],\n",
        " [2, 5, 12, 13, 20, 24, 25, 43, 47],\n",
        " [2, 4, 24, 36, 41],\n",
        " [2, 7, 24, 38],\n",
        " [2, 4, 13, 24, 34, 36, 43, 58],\n",
        " [2, 3, 24],\n",
        " [2, 4, 13, 18, 24, 26, 36, 43],\n",
        " [2, 18, 24, 32, 53],\n",
        " [2, 4, 5, 20, 24, 25, 36],\n",
        " [2, 4, 13, 18, 24, 26, 36, 43, 49],\n",
        " [2, 4, 7, 24, 36, 38],\n",
        " [2, 7, 13, 15, 18, 24, 38, 43],\n",
        " [2, 4, 5, 10, 12, 13, 24, 36, 43, 46, 47],\n",
        " [2, 4, 7, 13, 24, 36, 38, 43],\n",
        " [2, 7, 15, 18, 24, 26, 38, 58],\n",
        " [2, 10, 24, 46],\n",
        " [1, 2, 4, 7, 13, 14, 24, 36, 38, 43],\n",
        " [1, 2, 4, 5, 13, 20, 24, 25, 36, 41, 43],\n",
        " [2, 4, 10, 24, 46],\n",
        " [2, 4, 24, 35, 36, 57],\n",
        " [2, 4, 13, 24, 26, 32, 36, 43],\n",
        " [2, 8, 18, 24, 32, 37],\n",
        " [2, 4, 5, 20, 24, 25, 36],\n",
        " [2, 14, 24],\n",
        " [2, 5, 20, 24, 25, 60],\n",
        " [2, 7, 24, 38],\n",
        " [2, 4, 7, 13, 24, 26, 32, 36, 38, 43],\n",
        " [2, 5, 20, 24, 25, 42],\n",
        " [5, 20, 24, 25],\n",
        " [2, 18, 24, 26],\n",
        " [5, 20, 24, 25],\n",
        " [2, 4, 11, 18, 24, 36],\n",
        " [1, 2, 4, 13, 14, 24, 36, 43],\n",
        " [5, 20, 24, 25],\n",
        " [1, 2, 4, 5, 13, 24, 26, 32, 36, 41, 43],\n",
        " [2, 13, 43],\n",
        " [1, 2, 4, 5, 9, 12, 18, 24, 36, 41, 47, 60],\n",
        " [1, 2, 3, 4, 5, 13, 24, 36, 41, 43, 69],\n",
        " [2, 4],\n",
        " [2, 4, 13, 36, 43],\n",
        " [2, 5, 10, 24, 25, 46],\n",
        " [2, 4, 18, 24, 36],\n",
        " [2, 4, 7, 24, 36, 38],\n",
        " [2, 22, 24, 57],\n",
        " [2, 4, 18, 24, 36, 41],\n",
        " [2, 4, 5, 17, 20, 24, 25, 36, 39],\n",
        " [2, 4, 5, 12, 22, 24, 36, 47, 60, 69],\n",
        " [2, 4, 7, 13, 24, 26, 32, 36, 38, 43],\n",
        " [2, 5, 13, 20, 24, 25, 43],\n",
        " [2, 3, 7, 13, 24, 38, 43],\n",
        " [1, 2, 4, 5, 10, 13, 20, 24, 25, 36, 41, 43, 46],\n",
        " [2, 4, 10, 13, 24, 36, 43, 46],\n",
        " [1, 2, 4, 5, 6, 13, 14, 24, 26, 36, 43, 54, 70],\n",
        " [2, 4, 5, 13, 16, 20, 24, 25, 36, 43, 60],\n",
        " [2, 3, 4, 5, 20, 23, 24, 25, 36, 39],\n",
        " [1, 2, 4, 36, 59],\n",
        " [2, 4, 13, 22, 24, 36, 43],\n",
        " [1, 2, 5, 24, 41],\n",
        " [2, 5, 14, 18, 20, 24, 25, 35, 44],\n",
        " [1, 2, 5, 12, 24, 41, 47],\n",
        " [2, 7, 24, 26, 32, 38],\n",
        " [2, 3, 4, 13, 14, 24, 32, 36, 43],\n",
        " [2, 4, 10, 24, 26, 32, 36, 46]]"
      ],
      "metadata": {
        "id": "aA_rWIqq3py8"
      },
      "execution_count": null,
      "outputs": []
    },
    {
      "cell_type": "code",
      "source": [
        "data_70_4=[[2, 3, 4, 7, 24, 36, 38],\n",
        " [2, 7, 24, 38],\n",
        " [2, 11, 17, 18, 24, 39],\n",
        " [1, 2, 4, 5, 13, 14, 20, 24, 25, 36, 43],\n",
        " [1, 2, 4, 5, 13, 24, 36, 41, 43],\n",
        " [5, 12, 24, 47],\n",
        " [2, 5, 10, 24, 25, 46],\n",
        " [2, 4, 13, 24, 26, 32, 33, 36, 39, 43, 52],\n",
        " [2, 4, 7, 13, 24, 36, 38, 43],\n",
        " [2, 18, 24, 33, 52, 58],\n",
        " [5, 12, 24, 47],\n",
        " [2, 4, 11, 18, 24, 36],\n",
        " [2, 10, 15, 18, 24, 46],\n",
        " [2, 4, 13, 18, 24, 36, 43],\n",
        " [2, 5, 24, 25, 32],\n",
        " [2, 4, 22, 24, 36],\n",
        " [1, 2, 4, 5, 9, 12, 24, 36, 41, 47, 60],\n",
        " [2, 5, 12, 19, 24, 38, 47],\n",
        " [2, 4, 5, 12, 20, 24, 25, 36, 47],\n",
        " [2, 4, 18, 24, 26, 36],\n",
        " [2, 4, 10, 24, 36, 46, 57],\n",
        " [2, 4, 5, 13, 16, 20, 24, 25, 36, 43, 60],\n",
        " [2, 3, 4, 13, 14, 24, 32, 36, 43],\n",
        " [2, 4, 15, 18, 24, 36],\n",
        " [1, 2, 4, 5, 6, 13, 14, 24, 26, 36, 43, 54, 70],\n",
        " [1, 2, 5, 9, 10, 24, 46],\n",
        " [1, 2, 4, 10, 13, 14, 24, 36, 43, 46],\n",
        " [2, 4, 7, 13, 24, 36, 38, 43],\n",
        " [1, 2, 5, 14, 24, 41],\n",
        " [2, 4, 5, 20, 24, 25, 36],\n",
        " [2, 4, 5, 20, 24, 25, 36, 60],\n",
        " [2, 4, 5, 13, 20, 24, 25, 35, 36, 41, 43, 46, 60],\n",
        " [2, 4, 5, 13, 20, 24, 25, 36, 43],\n",
        " [2, 4, 7, 13, 24, 26, 36, 38, 43, 67],\n",
        " [2, 3, 15, 18, 24],\n",
        " [2, 4, 13, 24, 31, 36, 43],\n",
        " [2, 5, 7, 20, 24, 25, 38],\n",
        " [2, 4, 5, 7, 12, 13, 24, 36, 38, 41, 43, 47],\n",
        " [2, 24, 26, 32],\n",
        " [5, 20, 24, 25],\n",
        " [2, 4, 16, 18, 24, 36, 60],\n",
        " [2, 14, 24],\n",
        " [2, 18, 24, 26],\n",
        " [1, 2, 5, 10, 11, 18, 24, 41, 46],\n",
        " [2, 5, 12, 22, 24, 29, 47, 66, 70],\n",
        " [2, 4, 5, 10, 13, 24, 26, 32, 36, 43, 46, 69],\n",
        " [1, 2, 5, 14, 24, 41],\n",
        " [1, 2, 15, 18, 24, 63],\n",
        " [2, 8, 18, 24, 37],\n",
        " [2, 4, 5, 20, 24, 25, 36, 54, 70],\n",
        " [2, 11, 17, 18, 24, 39],\n",
        " [1, 2, 4, 5, 13, 20, 24, 25, 36, 42, 43],\n",
        " [2, 4, 13, 18, 24, 36, 43, 56],\n",
        " [2, 4, 24, 35, 36, 57],\n",
        " [2, 4, 15, 18, 24, 36, 57],\n",
        " [2, 17, 18, 24, 39, 49],\n",
        " [2, 4, 5, 10, 12, 13, 24, 36, 43, 46, 47],\n",
        " [1, 2, 4, 13, 14, 17, 24, 36, 39, 43],\n",
        " [1, 2, 4, 5, 13, 20, 24, 25, 36, 41, 43],\n",
        " [2, 4, 13, 22, 24, 36, 43],\n",
        " [2, 4, 7, 24, 32, 36, 38],\n",
        " [2, 4, 10, 13, 24, 36, 43, 46],\n",
        " [2, 10, 24, 46],\n",
        " [1, 2, 3, 4, 13, 14, 24, 36, 43, 55],\n",
        " [2, 4, 5, 10, 20, 24, 25, 36, 46],\n",
        " [2, 5, 13, 24, 43, 61],\n",
        " [2, 4, 7, 18, 24, 36, 38, 56],\n",
        " [2, 4, 5, 20, 24, 25, 36],\n",
        " [1, 2, 4, 7, 13, 14, 24, 36, 38, 43],\n",
        " [1, 2, 4, 5, 15, 18, 24, 36, 41]]"
      ],
      "metadata": {
        "id": "fYipjqKy3py8"
      },
      "execution_count": null,
      "outputs": []
    },
    {
      "cell_type": "code",
      "source": [
        "data_70_5=[[2, 7, 18, 24, 26, 38],\n",
        " [1, 2, 4, 5, 13, 24, 25, 33, 36, 39, 41, 43, 60],\n",
        " [1, 2, 5, 24, 44],\n",
        " [1, 2, 4, 13, 14, 24, 36, 43],\n",
        " [2, 5, 12, 20, 24, 25, 41, 47],\n",
        " [2, 4, 13, 15, 18, 24, 36, 43],\n",
        " [2, 5, 13, 20, 24, 25, 32, 43],\n",
        " [2, 4, 5, 20, 24, 25, 36],\n",
        " [2, 22, 24, 57],\n",
        " [2, 10, 24, 32, 46],\n",
        " [2, 10, 14, 24, 28, 46, 48],\n",
        " [2, 18, 24],\n",
        " [1, 2, 4, 5, 13, 24, 36, 41, 43],\n",
        " [2, 4, 18, 24, 36, 41],\n",
        " [1, 2, 4, 13, 14, 24, 27, 36, 43],\n",
        " [2, 5, 15, 18, 20, 24, 25],\n",
        " [2, 4, 13, 18, 24, 26, 36, 43],\n",
        " [2, 4, 5, 12, 22, 24, 36, 47, 60, 69],\n",
        " [2, 4, 10, 13, 24, 26, 32, 36, 43, 46],\n",
        " [2, 4, 5, 7, 13, 20, 24, 25, 36, 38, 41, 43],\n",
        " [2, 24, 26, 32],\n",
        " [2, 5, 12, 18, 24, 30, 47, 66, 70],\n",
        " [2, 3, 7, 24, 38, 42, 43],\n",
        " [2, 4, 13, 24, 26, 36, 43, 67],\n",
        " [2, 4, 7, 24, 36, 38],\n",
        " [1, 2, 4, 13, 14, 24, 36, 41, 43],\n",
        " [2, 3, 4, 5, 24, 36, 69],\n",
        " [2, 4, 5, 7, 9, 13, 24, 36, 38, 43],\n",
        " [2, 7, 24, 38, 42, 43],\n",
        " [2, 4, 13, 36, 43],\n",
        " [2, 5, 10, 24, 25, 46],\n",
        " [5, 20, 24, 25],\n",
        " [2, 5, 10, 20, 24, 25, 46],\n",
        " [2, 4, 5, 10, 12, 13, 24, 36, 43, 46, 47],\n",
        " [1, 2, 4, 5, 13, 20, 24, 25, 36, 41, 43],\n",
        " [2, 18, 24, 33, 52],\n",
        " [2, 4, 7, 13, 24, 36, 38, 43],\n",
        " [2, 15, 18, 24, 26, 32],\n",
        " [2, 10, 14, 24, 46],\n",
        " [1, 2, 5, 7, 24, 26, 38, 46, 58],\n",
        " [2, 4, 13, 18, 24, 33, 36, 43, 52],\n",
        " [2, 7, 15, 18, 24, 38],\n",
        " [2, 3, 4, 13, 14, 24, 32, 36, 43],\n",
        " [1, 2, 5, 14, 24, 41],\n",
        " [2, 4, 5, 13, 20, 24, 25, 32, 36, 43],\n",
        " [2, 7, 24, 38],\n",
        " [2, 4, 5, 6, 13, 24, 25, 36, 43, 44, 60],\n",
        " [1, 2, 5, 10, 20, 24, 25, 41, 46],\n",
        " [2, 18, 24, 26],\n",
        " [1, 2, 5, 12, 24, 41, 47],\n",
        " [2, 7, 14, 24, 38],\n",
        " [5, 12, 24, 47],\n",
        " [2, 4, 5, 12, 13, 20, 24, 25, 36, 43, 47],\n",
        " [2, 10, 24, 46],\n",
        " [2, 4, 13, 18, 24, 26, 36, 43, 58],\n",
        " [2, 4, 10, 13, 18, 24, 26, 36, 43, 46],\n",
        " [1, 2, 4, 7, 14, 24, 36, 38],\n",
        " [2, 4, 10, 13, 15, 18, 24, 36, 43, 46],\n",
        " [5, 20, 24, 25],\n",
        " [2, 24, 41],\n",
        " [2, 15, 18, 24, 58],\n",
        " [2, 4, 7, 13, 24, 26, 32, 36, 38, 43],\n",
        " [2, 7, 24, 38],\n",
        " [2, 4, 36],\n",
        " [2, 14, 24],\n",
        " [2, 4, 5, 10, 13, 24, 26, 32, 36, 43, 46, 69],\n",
        " [2, 18, 24, 27],\n",
        " [2, 7, 24, 38],\n",
        " [2, 4, 11, 18, 24, 53, 68],\n",
        " [2, 4]]"
      ],
      "metadata": {
        "id": "rfb1shRG3py9"
      },
      "execution_count": null,
      "outputs": []
    },
    {
      "cell_type": "markdown",
      "source": [
        "##製品数80のデータ"
      ],
      "metadata": {
        "id": "TLhdtNeD4I08"
      }
    },
    {
      "cell_type": "code",
      "source": [
        "#初期工具\n",
        "ini_80=[1,3,4,6,7,9,11,12,14,15,18,20,26,30,32,43,45,46,54,56,59,60,67,71]"
      ],
      "metadata": {
        "id": "RM-0FHvY4I09"
      },
      "execution_count": null,
      "outputs": []
    },
    {
      "cell_type": "code",
      "source": [
        "data_80_1=[[2, 4, 13, 24, 34, 36, 43, 58],\n",
        " [1, 2, 4, 5, 13, 14, 24, 36, 41, 43, 60],\n",
        " [1, 2, 7, 14, 24, 38],\n",
        " [2, 4, 13, 36, 43],\n",
        " [5, 20, 24, 25],\n",
        " [1, 2, 4, 10, 13, 14, 24, 36, 43, 46],\n",
        " [2, 4, 36],\n",
        " [2, 3, 24],\n",
        " [2, 5, 13, 20, 24, 25, 43],\n",
        " [2, 7, 8, 24, 37, 38, 39],\n",
        " [1, 2, 4, 10, 13, 14, 24, 36, 43, 46],\n",
        " [1, 2, 4, 5, 13, 20, 24, 25, 36, 41, 43],\n",
        " [2, 17, 18, 24, 39, 49],\n",
        " [2, 24, 41],\n",
        " [1, 2, 5, 7, 24, 26, 38, 46, 58],\n",
        " [1, 2, 4, 5, 13, 24, 36, 41, 43],\n",
        " [2, 7, 24, 38],\n",
        " [2, 5, 12, 20, 24, 25, 41, 47],\n",
        " [2, 4, 5, 6, 13, 24, 25, 36, 43, 44, 60],\n",
        " [2, 4, 15, 18, 24, 26, 32, 36],\n",
        " [2, 5, 24, 25, 32],\n",
        " [2, 4, 8, 11, 18, 24, 37],\n",
        " [2, 5, 7, 24, 38, 51],\n",
        " [5, 12, 20, 24, 25, 47],\n",
        " [2, 4, 22, 24, 36],\n",
        " [2, 18, 24, 26],\n",
        " [2, 18, 24, 26],\n",
        " [2, 24, 26, 32],\n",
        " [1, 2, 4, 5, 13, 14, 20, 24, 25, 36, 41, 43],\n",
        " [1, 2, 4, 10, 24, 31, 36, 46],\n",
        " [2, 7, 24, 38],\n",
        " [2, 10, 13, 24, 43, 46, 65],\n",
        " [2, 4, 5, 9, 13, 24, 36, 41, 43, 64],\n",
        " [2, 4, 5, 20, 24, 25, 36, 41],\n",
        " [2, 18, 24],\n",
        " [1, 2, 4, 36, 59],\n",
        " [2, 4, 7, 13, 24, 26, 36, 38, 43, 67],\n",
        " [2, 4, 7, 24, 36, 38],\n",
        " [2, 10, 13, 24, 43, 46],\n",
        " [1, 2, 5, 24, 41],\n",
        " [2, 4, 5, 13, 20, 24, 25, 36, 43, 49, 60, 69],\n",
        " [2, 14, 24],\n",
        " [2, 15, 18, 24, 56],\n",
        " [2, 13, 24, 37, 39, 43, 58],\n",
        " [2, 5, 12, 13, 20, 24, 25, 43, 47],\n",
        " [2, 4, 18, 24, 36, 49],\n",
        " [2, 11, 24, 39],\n",
        " [2, 4, 13, 15, 18, 24, 36, 39, 43, 53],\n",
        " [2, 4, 36],\n",
        " [2, 8, 18, 24, 32, 37],\n",
        " [2, 4, 10, 13, 16, 24, 36, 43, 46, 60],\n",
        " [2, 18, 24],\n",
        " [5, 20, 24, 25],\n",
        " [2, 5, 10, 24, 25, 46],\n",
        " [2, 4, 7, 10, 24, 36, 38, 46],\n",
        " [2, 4, 8, 13, 15, 18, 24, 36, 37, 39, 43],\n",
        " [1, 2, 3, 4, 5, 13, 24, 36, 41, 43, 69],\n",
        " [2, 4, 10, 24, 36, 46, 57],\n",
        " [1, 2, 4, 7, 13, 14, 24, 36, 38, 43],\n",
        " [2, 4, 13, 17, 18, 24, 36, 39, 43, 49],\n",
        " [2, 4, 13, 18, 24, 26, 36, 43],\n",
        " [2, 4, 15, 18, 24, 26, 36],\n",
        " [2, 5, 12, 19, 24, 38, 47],\n",
        " [1, 2, 14, 24, 27],\n",
        " [2, 4, 13, 36, 43],\n",
        " [2, 4, 5, 12, 13, 20, 24, 25, 26, 35, 36, 43, 47, 62],\n",
        " [2, 11, 17, 18, 24, 39],\n",
        " [2, 4, 5, 16, 20, 24, 25, 36, 60],\n",
        " [2, 5, 13, 20, 24, 25, 32, 43],\n",
        " [2, 5, 10, 24, 25, 46],\n",
        " [2, 5, 9, 20, 24, 25, 60],\n",
        " [2, 7, 24, 38],\n",
        " [2, 4, 5, 13, 20, 24, 25, 36, 43],\n",
        " [2, 4, 5, 10, 12, 13, 24, 36, 43, 46, 47],\n",
        " [2, 4],\n",
        " [2, 4, 10, 13, 18, 24, 26, 36, 43, 46],\n",
        " [2, 4, 24, 35, 36, 57],\n",
        " [2, 4, 7, 13, 24, 26, 32, 36, 38, 43],\n",
        " [1, 2, 4, 5, 10, 24, 36, 41, 46, 69],\n",
        " [1, 2, 4, 5, 13, 14, 20, 24, 25, 36, 43]]"
      ],
      "metadata": {
        "id": "ET5U0BHR4I09"
      },
      "execution_count": null,
      "outputs": []
    },
    {
      "cell_type": "code",
      "source": [
        "data_80_2=[[1, 2, 4, 10, 24, 31, 36, 46],\n",
        " [1, 2, 4, 7, 13, 14, 24, 36, 38, 43],\n",
        " [2, 7, 24, 38],\n",
        " [1, 2, 4, 5, 10, 13, 14, 24, 26, 36, 43, 46, 54, 70],\n",
        " [2, 4, 13, 24, 35, 36, 43],\n",
        " [2, 7, 18, 24, 26, 38],\n",
        " [2, 4, 7, 13, 24, 26, 32, 36, 38, 43],\n",
        " [2, 4, 26, 36, 62],\n",
        " [2, 4, 7, 24, 32, 36, 38],\n",
        " [2, 7, 8, 24, 37, 38, 39],\n",
        " [2, 24, 26, 32],\n",
        " [5, 20, 24, 25],\n",
        " [2, 10, 24, 32, 46],\n",
        " [2, 4, 13, 22, 24, 36, 43],\n",
        " [2, 11, 17, 18, 24, 39],\n",
        " [1, 2, 4, 5, 13, 20, 24, 25, 36, 41, 43],\n",
        " [1, 2, 4, 5, 13, 14, 24, 36, 41, 43],\n",
        " [2, 4, 5, 12, 24, 36, 47],\n",
        " [2, 5, 9, 24, 60],\n",
        " [2, 7, 24, 38],\n",
        " [2, 7, 13, 15, 18, 24, 38, 43],\n",
        " [2, 4, 24, 36, 57],\n",
        " [1, 2, 5, 24, 44],\n",
        " [2, 5, 14, 18, 20, 24, 25, 35, 44],\n",
        " [2, 4, 5, 7, 13, 20, 24, 25, 36, 38, 41, 43],\n",
        " [2, 18, 24],\n",
        " [2, 14, 24],\n",
        " [2, 4, 15, 18, 24, 36],\n",
        " [5, 20, 24, 25],\n",
        " [2, 7, 24, 38],\n",
        " [2, 24, 32],\n",
        " [1, 2, 4, 7, 13, 14, 24, 36, 38, 43],\n",
        " [2, 8, 18, 24, 37, 49],\n",
        " [2, 4, 7, 18, 24, 36, 38, 56],\n",
        " [2, 4, 13, 18, 24, 26, 36, 43, 49],\n",
        " [1, 2, 4, 5, 13, 20, 24, 25, 36, 42, 43],\n",
        " [2, 4, 10, 24, 26, 32, 36, 46],\n",
        " [2, 4, 5, 13, 14, 20, 24, 25, 26, 36, 43],\n",
        " [2, 5, 13, 20, 24, 25, 43],\n",
        " [2, 4, 7, 24, 36, 38],\n",
        " [2, 4, 5, 10, 20, 24, 25, 36, 46],\n",
        " [2, 4, 5, 13, 16, 20, 24, 25, 36, 43, 60],\n",
        " [1, 2, 5, 7, 22, 24, 38],\n",
        " [1, 2, 4, 36, 59],\n",
        " [2, 14, 24],\n",
        " [2, 5, 12, 22, 24, 29, 47, 66, 70],\n",
        " [2, 5, 24, 25, 32],\n",
        " [1, 2, 7, 14, 24, 38],\n",
        " [2, 24, 26, 32],\n",
        " [2, 4, 24, 35, 36, 57],\n",
        " [2, 4, 15, 18, 24, 26, 32, 36],\n",
        " [2, 3, 4, 13, 22, 24, 36, 43],\n",
        " [2, 18, 24, 26, 58],\n",
        " [2, 4, 13, 24, 34, 36, 43, 58],\n",
        " [2, 4, 5, 10, 13, 24, 26, 32, 36, 43, 46, 69],\n",
        " [2, 7, 18, 24, 38],\n",
        " [2, 4, 5, 13, 16, 20, 24, 25, 36, 43, 60],\n",
        " [1, 2, 4, 5, 13, 14, 20, 24, 25, 36, 41, 43],\n",
        " [2, 7, 13, 15, 18, 24, 38, 43],\n",
        " [2, 4, 24, 26, 32, 36],\n",
        " [1, 2, 10, 13, 14, 24, 26, 43, 46, 62],\n",
        " [2, 4, 5, 9, 13, 24, 36, 41, 43, 64],\n",
        " [2, 3, 4, 13, 14, 24, 36, 43],\n",
        " [2, 24, 26, 32],\n",
        " [2, 10, 24, 46],\n",
        " [2, 4, 5, 7, 9, 13, 24, 36, 38, 43],\n",
        " [2, 15, 18, 24, 43, 49],\n",
        " [2, 5, 20, 24, 25],\n",
        " [2, 7, 14, 24, 38],\n",
        " [2, 13, 15, 18, 24, 43],\n",
        " [2, 4],\n",
        " [2, 18, 24, 26],\n",
        " [2, 4, 5, 12, 22, 24, 36, 47, 60, 69],\n",
        " [1, 2, 4, 5, 10, 13, 20, 24, 25, 36, 41, 43, 46],\n",
        " [2, 5, 12, 13, 20, 24, 25, 43, 47],\n",
        " [1, 2, 4, 5, 13, 24, 36, 41, 43],\n",
        " [2, 4, 7, 13, 15, 18, 24, 36, 38, 43],\n",
        " [2, 15, 18, 24, 56],\n",
        " [2, 24, 26, 32],\n",
        " [2, 4, 5, 20, 24, 25, 36, 60]]"
      ],
      "metadata": {
        "id": "0OgDwyh34I09"
      },
      "execution_count": null,
      "outputs": []
    },
    {
      "cell_type": "code",
      "source": [
        "data_80_3=[[2, 4, 5, 14, 18, 20, 24, 25, 35],\n",
        " [2, 4, 18, 24, 36, 49],\n",
        " [2, 4, 13, 24, 26, 36, 43, 67],\n",
        " [2, 4, 5, 20, 24, 25, 36, 41],\n",
        " [2, 7, 24, 38],\n",
        " [2, 3, 7, 24, 38],\n",
        " [2, 4, 5, 12, 13, 20, 24, 25, 26, 35, 36, 43, 47, 62],\n",
        " [2, 4, 8, 13, 24, 32, 36, 37, 39, 43],\n",
        " [1, 2, 4, 5, 13, 14, 24, 36, 41, 43, 60],\n",
        " [1, 2, 5, 24, 44],\n",
        " [2, 7, 15, 18, 24, 38],\n",
        " [1, 2, 4, 13, 14, 17, 24, 36, 39, 43],\n",
        " [2, 4, 10, 13, 24, 36, 43, 46],\n",
        " [5, 20, 24, 25],\n",
        " [2, 4, 5, 10, 13, 24, 26, 32, 36, 43, 46, 69],\n",
        " [2, 5, 7, 12, 24, 25, 38, 47],\n",
        " [2, 7, 15, 18, 24, 26, 38, 58],\n",
        " [2, 18, 24, 33, 52, 58],\n",
        " [2, 4, 13, 24, 26, 32, 36, 43],\n",
        " [1, 2, 5, 9, 10, 24, 46],\n",
        " [2, 17, 18, 24, 39, 49],\n",
        " [2, 4, 18, 24, 36, 49],\n",
        " [1, 2, 4, 14, 24, 36],\n",
        " [2, 4, 24, 36, 41],\n",
        " [2, 4, 10, 13, 14, 24, 36, 43, 46],\n",
        " [2, 4, 5, 12, 22, 24, 36, 47, 60, 69],\n",
        " [2, 4, 7, 24, 36, 38],\n",
        " [2, 4, 5, 20, 24, 25, 36],\n",
        " [2, 5, 15, 18, 20, 24, 25],\n",
        " [2, 4, 5, 12, 24, 25, 36, 47, 72],\n",
        " [2, 24, 41],\n",
        " [2, 4, 13, 17, 18, 24, 36, 39, 43, 49],\n",
        " [2, 4, 26, 36, 62],\n",
        " [2, 4, 5, 13, 20, 24, 25, 36, 43],\n",
        " [5, 12, 24, 47],\n",
        " [2, 4, 24, 26, 32, 36],\n",
        " [2, 4, 7, 13, 24, 36, 38, 43, 49],\n",
        " [2, 4, 8, 13, 15, 18, 24, 36, 37, 39, 43],\n",
        " [2, 17, 18, 24, 39, 43, 49],\n",
        " [1, 2, 4, 7, 13, 14, 24, 36, 38, 43],\n",
        " [1, 2, 4, 5, 9, 20, 24, 25, 36, 41, 60],\n",
        " [5, 6, 12, 24, 47],\n",
        " [2, 11, 17, 18, 24, 39],\n",
        " [2, 4, 7, 13, 24, 36, 38, 43],\n",
        " [2, 7, 24, 38],\n",
        " [2, 14, 24],\n",
        " [2, 4, 11, 18, 24, 36],\n",
        " [2, 8, 18, 24, 37, 49],\n",
        " [2, 4, 18, 24, 26, 36],\n",
        " [2, 4, 5, 12, 13, 24, 36, 41, 43, 47],\n",
        " [1, 2, 4, 5, 9, 12, 18, 24, 36, 41, 47, 60],\n",
        " [2, 4],\n",
        " [1, 2, 5, 7, 22, 24, 38],\n",
        " [2, 4, 5, 20, 24, 25, 36, 39, 53],\n",
        " [2, 4, 13, 18, 24, 36, 43],\n",
        " [2, 4, 15, 18, 24, 36],\n",
        " [2, 4, 15, 18, 24, 26, 36],\n",
        " [1, 2, 4, 5, 13, 20, 24, 25, 36, 41, 43],\n",
        " [2, 4, 5, 10, 12, 13, 24, 36, 43, 46, 47],\n",
        " [2, 5, 7, 20, 24, 25, 38],\n",
        " [2, 4, 14, 24, 32, 36],\n",
        " [2, 4, 24, 26, 32],\n",
        " [2, 4, 10, 24, 36, 46, 57],\n",
        " [1, 2, 5, 12, 24, 41, 47],\n",
        " [2, 5, 21, 24, 60],\n",
        " [2, 7, 13, 15, 18, 24, 38, 43],\n",
        " [2, 4, 13, 36, 43],\n",
        " [2, 4, 16, 18, 24, 36, 60],\n",
        " [2, 4, 18, 24, 26, 36],\n",
        " [2, 11, 24, 39],\n",
        " [2, 4, 10, 24, 46],\n",
        " [2, 5, 13, 24, 43, 54, 64],\n",
        " [2, 4, 5, 12, 13, 24, 26, 32, 36, 43, 47],\n",
        " [2, 4, 13, 18, 24, 36, 43],\n",
        " [2, 4, 7, 13, 24, 26, 36, 38, 43, 67],\n",
        " [2, 7, 18, 24, 38],\n",
        " [2, 5, 13, 24, 43, 61],\n",
        " [2, 4, 10, 13, 24, 26, 32, 36, 43, 46],\n",
        " [5, 20, 24, 25],\n",
        " [2, 4, 18, 24, 36]]"
      ],
      "metadata": {
        "id": "hOYLiRNz4I0-"
      },
      "execution_count": null,
      "outputs": []
    },
    {
      "cell_type": "code",
      "source": [
        "data_80_4=[[2, 4, 24, 36, 41],\n",
        " [2, 4, 5, 13, 14, 20, 24, 25, 26, 36, 43],\n",
        " [2, 7, 24, 38],\n",
        " [2, 4, 15, 18, 24, 36],\n",
        " [2, 11, 24, 39],\n",
        " [2, 5, 12, 24, 38, 39, 47, 53, 57],\n",
        " [1, 2, 4, 5, 13, 14, 20, 24, 25, 36, 41, 43],\n",
        " [2, 4, 24, 35, 36, 57],\n",
        " [1, 2, 5, 24, 42, 58],\n",
        " [2, 4, 5, 10, 13, 24, 26, 32, 36, 43, 46, 69],\n",
        " [2, 15, 18, 24, 58],\n",
        " [2, 14, 24],\n",
        " [2, 4, 7, 13, 24, 26, 32, 36, 38, 43],\n",
        " [5, 20, 24, 25],\n",
        " [2, 4, 18, 24, 36, 49],\n",
        " [2, 18, 24, 26],\n",
        " [1, 2, 4, 5, 13, 24, 25, 33, 36, 39, 41, 43, 60],\n",
        " [2, 7, 13, 18, 24, 38, 43, 49],\n",
        " [2, 10, 13, 14, 24, 43, 46],\n",
        " [2, 4, 13, 24, 31, 36, 43],\n",
        " [2, 18, 24, 32, 53],\n",
        " [2, 4, 5, 20, 24, 25, 36, 39, 53],\n",
        " [2, 4, 5, 13, 20, 24, 25, 36, 43, 49, 60, 69],\n",
        " [2, 4],\n",
        " [2, 4, 36],\n",
        " [1, 2, 5, 7, 22, 24, 38],\n",
        " [2, 8, 18, 24, 37],\n",
        " [2, 4, 13, 15, 18, 24, 36, 43],\n",
        " [5, 12, 20, 24, 25, 47],\n",
        " [2, 10, 24, 32, 46],\n",
        " [2, 4, 5, 7, 13, 20, 24, 25, 36, 38, 41, 43],\n",
        " [1, 2, 4, 7, 13, 14, 24, 36, 38, 43],\n",
        " [2, 4, 7, 13, 24, 36, 38, 43, 49],\n",
        " [2, 4, 8, 11, 18, 24, 37],\n",
        " [1, 2, 4, 13, 14, 17, 24, 36, 39, 43],\n",
        " [2, 5, 12, 24, 26, 32, 47],\n",
        " [2, 4, 7, 13, 24, 36, 38, 43],\n",
        " [1, 2, 4, 5, 9, 20, 24, 25, 36, 41, 60],\n",
        " [2, 14, 24],\n",
        " [2, 4, 5, 12, 20, 24, 25, 36, 47],\n",
        " [2, 4, 5, 16, 20, 24, 25, 36, 60],\n",
        " [1, 2, 4, 13, 24, 26, 36, 43, 58, 63],\n",
        " [2, 3, 4, 13, 14, 24, 32, 36, 43],\n",
        " [2, 4, 11, 18, 24, 53, 68],\n",
        " [2, 5, 12, 22, 24, 29, 47, 66, 70],\n",
        " [2, 24, 35],\n",
        " [2, 4, 7, 18, 24, 36, 38, 56],\n",
        " [1, 2, 4, 10, 13, 14, 24, 36, 43, 46],\n",
        " [2, 4],\n",
        " [1, 2, 4, 5, 7, 24, 36, 38, 41],\n",
        " [1, 2, 4, 36, 59],\n",
        " [2, 4, 5, 12, 13, 20, 24, 25, 26, 35, 36, 43, 47, 62],\n",
        " [2, 3, 7, 24, 38],\n",
        " [1, 2, 4, 14, 24, 36],\n",
        " [2, 5, 10, 24, 25, 46],\n",
        " [2, 17, 18, 24, 39, 49],\n",
        " [5, 6, 12, 24, 47],\n",
        " [1, 2, 4, 5, 10, 13, 14, 24, 26, 36, 43, 46, 54, 70],\n",
        " [5, 20, 24, 25],\n",
        " [2, 7, 18, 22, 24, 38, 50],\n",
        " [2, 4, 18, 24, 36],\n",
        " [2, 22, 24, 57],\n",
        " [2, 4, 7, 13, 15, 18, 24, 36, 38, 43],\n",
        " [1, 2, 4, 10, 13, 14, 24, 36, 43, 46],\n",
        " [1, 2, 4, 5, 13, 20, 24, 25, 36, 41, 43],\n",
        " [2, 4, 5, 7, 10, 24, 29, 36, 38, 46, 71],\n",
        " [2, 4, 36],\n",
        " [2, 4, 5, 12, 24, 25, 36, 47, 72],\n",
        " [1, 2, 5, 12, 24, 35, 47, 63],\n",
        " [2, 4, 13, 36, 43],\n",
        " [2, 7, 24, 38, 42, 43],\n",
        " [2, 4, 7, 13, 24, 26, 36, 38, 43, 58],\n",
        " [2, 4, 5, 20, 24, 25, 36, 54, 70],\n",
        " [2, 4, 13, 18, 24, 26, 36, 43, 58],\n",
        " [2, 4, 5, 13, 14, 20, 24, 25, 26, 36, 43],\n",
        " [2, 10, 14, 24, 46],\n",
        " [2, 7, 24, 38],\n",
        " [2, 18, 24, 27],\n",
        " [5, 20, 24, 25],\n",
        " [2, 4, 8, 13, 24, 32, 36, 37, 39, 43]]"
      ],
      "metadata": {
        "id": "PBNp6LCF4I0-"
      },
      "execution_count": null,
      "outputs": []
    },
    {
      "cell_type": "code",
      "source": [
        "data_80_5=[[2, 7, 13, 15, 18, 24, 38, 43],\n",
        " [1, 2, 7, 10, 14, 24, 38, 46],\n",
        " [2, 10, 24, 41, 46],\n",
        " [1, 2, 5, 7, 24, 26, 38, 46, 58],\n",
        " [2, 24, 26, 32],\n",
        " [1, 2, 4, 5, 13, 14, 20, 24, 25, 36, 43],\n",
        " [1, 2, 5, 24, 41],\n",
        " [2, 4, 18, 24, 36, 41],\n",
        " [2, 4, 7, 13, 24, 26, 32, 36, 38, 43],\n",
        " [2, 14, 24],\n",
        " [1, 2, 4, 5, 13, 20, 24, 25, 36, 41, 43],\n",
        " [2, 7, 24, 38],\n",
        " [2, 4, 5, 12, 13, 20, 24, 25, 36, 43, 47],\n",
        " [2, 4, 13, 22, 24, 36, 43],\n",
        " [2, 4, 18, 24, 26, 36],\n",
        " [2, 4, 5, 7, 13, 20, 24, 25, 36, 38, 43, 60, 69],\n",
        " [2, 4, 24, 36, 41],\n",
        " [2, 4, 13, 24, 26, 32, 33, 36, 39, 43, 52],\n",
        " [2, 4, 18, 24, 36, 49],\n",
        " [2, 4, 5, 7, 10, 24, 29, 36, 38, 46, 71],\n",
        " [2, 4, 10, 13, 18, 24, 26, 36, 43, 46],\n",
        " [2, 4, 13, 18, 24, 33, 36, 43, 52],\n",
        " [2, 4, 5, 20, 24, 25, 36],\n",
        " [2, 5, 14, 18, 20, 24, 25, 35, 44],\n",
        " [2, 22, 24, 57],\n",
        " [2, 4, 24, 36, 41],\n",
        " [2, 4, 11, 17, 18, 24, 39, 43, 49],\n",
        " [2, 4, 5, 7, 13, 20, 24, 25, 36, 38, 41, 43],\n",
        " [2, 4, 11, 18, 24, 26, 32],\n",
        " [2, 4, 8, 13, 24, 32, 36, 37, 39, 43],\n",
        " [2, 4, 5, 10, 12, 13, 24, 36, 43, 46, 47, 54],\n",
        " [2, 3, 4, 7, 13, 24, 36, 38, 43],\n",
        " [2, 4, 5, 13, 14, 20, 24, 25, 26, 36, 43],\n",
        " [2, 4, 24, 35, 36, 57],\n",
        " [1, 2, 3, 4, 13, 14, 24, 36, 43, 55],\n",
        " [2, 4, 22, 24, 36],\n",
        " [2, 4, 13, 15, 18, 24, 36, 39, 43, 53],\n",
        " [2, 4, 13, 36, 43],\n",
        " [2, 10, 13, 24, 43, 46],\n",
        " [2, 3, 7, 24, 38, 42, 43],\n",
        " [2, 4, 13, 18, 24, 33, 36, 43, 52],\n",
        " [2, 7, 24, 38],\n",
        " [2, 17, 18, 24, 39, 43, 49],\n",
        " [2, 5, 20, 24, 25],\n",
        " [2, 4, 18, 24, 36],\n",
        " [2, 4, 5, 17, 20, 24, 25, 36, 39],\n",
        " [2, 4],\n",
        " [2, 4, 7, 13, 24, 26, 32, 36, 38, 43],\n",
        " [2, 7, 24, 26, 32, 38],\n",
        " [2, 18, 24],\n",
        " [2, 4, 7, 13, 24, 26, 36, 38, 43, 58],\n",
        " [1, 2, 4, 5, 10, 24, 36, 41, 46, 69],\n",
        " [2, 4, 10, 24, 46],\n",
        " [2, 18, 24, 32, 53],\n",
        " [2, 5, 7, 24, 38, 51],\n",
        " [2, 3, 24],\n",
        " [2, 15, 18, 24, 26, 32],\n",
        " [2, 4, 11, 18, 24, 53, 68],\n",
        " [5, 20, 24, 25],\n",
        " [2, 4, 13, 18, 24, 26, 36, 43],\n",
        " [2, 4, 16, 36, 60],\n",
        " [2, 4, 13, 18, 24, 36, 43],\n",
        " [2, 7, 24, 38],\n",
        " [2, 4, 7, 13, 15, 18, 24, 36, 38, 43],\n",
        " [2, 7, 18, 24, 38],\n",
        " [2, 18, 24, 27],\n",
        " [2, 4, 5, 20, 24, 25, 36],\n",
        " [2, 18, 24, 43, 56],\n",
        " [5, 20, 24, 25],\n",
        " [2, 4, 7, 13, 24, 36, 38, 43],\n",
        " [1, 2, 4, 5, 13, 20, 24, 25, 36, 42, 43],\n",
        " [2, 4, 18, 24, 26, 36],\n",
        " [2, 18, 24, 26],\n",
        " [2, 4, 5, 24, 29, 36],\n",
        " [2, 5, 9, 20, 24, 25, 60],\n",
        " [1, 2, 4, 5, 6, 13, 14, 24, 26, 36, 43, 54, 70],\n",
        " [2, 4, 5, 13, 16, 20, 24, 25, 36, 43, 60],\n",
        " [2, 4, 16, 18, 24, 36, 60],\n",
        " [2, 4, 5, 13, 20, 24, 25, 36, 43],\n",
        " [1, 2, 5, 12, 24, 41, 47]]\n"
      ],
      "metadata": {
        "id": "ZrtgtR3g4I0-"
      },
      "execution_count": null,
      "outputs": []
    },
    {
      "cell_type": "markdown",
      "source": [
        "##製品数100"
      ],
      "metadata": {
        "id": "prOh-1FKH_3S"
      }
    },
    {
      "cell_type": "code",
      "source": [
        "data_100_1=[[1, 2, 4, 5, 13, 14, 24, 36, 41, 43],\n",
        " [2, 4, 10, 13, 15, 18, 24, 36, 43, 46],\n",
        " [1, 2, 4, 5, 13, 14, 20, 24, 25, 36, 43],\n",
        " [2, 15, 18, 24],\n",
        " [2, 4, 24, 36, 41],\n",
        " [2, 13, 15, 18, 24, 43],\n",
        " [2, 4, 5, 6, 13, 24, 25, 36, 43, 44, 60],\n",
        " [2, 3, 4, 13, 14, 24, 32, 36, 43],\n",
        " [2, 7, 24, 38, 58],\n",
        " [2, 5, 12, 24, 26, 32, 47],\n",
        " [2, 4, 7, 13, 24, 36, 38, 43],\n",
        " [2, 5, 7, 12, 24, 25, 38, 47],\n",
        " [1, 2, 5, 14, 24, 41],\n",
        " [2, 4, 5, 13, 16, 20, 24, 25, 36, 43, 60],\n",
        " [1, 2, 4, 5, 9, 20, 24, 25, 36, 41, 60],\n",
        " [2, 5, 20, 24, 25],\n",
        " [2, 10, 15, 18, 24, 46],\n",
        " [2, 4, 8, 11, 18, 24, 37],\n",
        " [1, 2, 5, 7, 24, 26, 38, 46, 58],\n",
        " [2, 4, 18, 24, 36, 49],\n",
        " [1, 2, 4, 36, 59],\n",
        " [5, 20, 24, 25],\n",
        " [2, 5, 14, 18, 20, 24, 25, 35, 44],\n",
        " [2, 4, 5, 20, 24, 25, 36],\n",
        " [2, 4, 24, 26, 32, 36],\n",
        " [2, 5, 7, 24, 29, 38],\n",
        " [2, 11, 17, 18, 24, 39],\n",
        " [1, 2, 4, 5, 13, 20, 24, 25, 36, 42, 43],\n",
        " [1, 2, 4, 7, 13, 14, 24, 36, 38, 43],\n",
        " [2, 5, 13, 24, 43, 61],\n",
        " [5, 12, 24, 47],\n",
        " [2, 4, 18, 24, 36, 49],\n",
        " [2, 4, 5, 12, 24, 25, 36, 47, 72],\n",
        " [1, 2, 4, 10, 24, 31, 36, 46],\n",
        " [2, 4, 10, 24, 36, 46],\n",
        " [2, 7, 24, 38],\n",
        " [2, 10, 14, 24, 46],\n",
        " [2, 4, 13, 18, 24, 26, 36, 43, 49],\n",
        " [1, 2, 4, 5, 13, 20, 24, 25, 36, 41, 43],\n",
        " [2, 7, 24, 38, 42, 43],\n",
        " [2, 4, 5, 10, 12, 13, 24, 36, 43, 46, 47],\n",
        " [2, 10, 24, 32, 46],\n",
        " [2, 18, 24, 33, 52],\n",
        " [2, 3, 15, 18, 24],\n",
        " [1, 2, 4, 5, 9, 20, 24, 25, 36, 41, 60],\n",
        " [2, 5, 7, 20, 24, 25, 38],\n",
        " [5, 6, 12, 24, 47],\n",
        " [2, 4, 5, 14, 18, 20, 24, 25, 35],\n",
        " [1, 2, 4, 5, 13, 24, 36, 41, 43],[2, 4, 13, 24, 34, 36, 43, 58],\n",
        " [1, 2, 4, 5, 13, 14, 24, 36, 41, 43, 60],\n",
        " [1, 2, 7, 14, 24, 38],\n",
        " [2, 4, 13, 36, 43],\n",
        " [5, 20, 24, 25],\n",
        " [1, 2, 4, 10, 13, 14, 24, 36, 43, 46],\n",
        " [2, 4, 36],\n",
        " [2, 3, 24],\n",
        " [2, 5, 13, 20, 24, 25, 43],\n",
        " [2, 7, 8, 24, 37, 38, 39],\n",
        " [1, 2, 4, 10, 13, 14, 24, 36, 43, 46],\n",
        " [1, 2, 4, 5, 13, 20, 24, 25, 36, 41, 43],\n",
        " [2, 17, 18, 24, 39, 49],\n",
        " [2, 24, 41],\n",
        " [1, 2, 5, 7, 24, 26, 38, 46, 58],\n",
        " [1, 2, 4, 5, 13, 24, 36, 41, 43],\n",
        " [2, 7, 24, 38],\n",
        " [2, 5, 12, 20, 24, 25, 41, 47],\n",
        " [2, 4, 5, 6, 13, 24, 25, 36, 43, 44, 60],\n",
        " [2, 4, 15, 18, 24, 26, 32, 36],\n",
        " [2, 5, 24, 25, 32],\n",
        " [2, 4, 8, 11, 18, 24, 37],\n",
        " [2, 5, 7, 24, 38, 51],\n",
        " [5, 12, 20, 24, 25, 47],\n",
        " [2, 4, 22, 24, 36],\n",
        " [2, 18, 24, 26],\n",
        " [2, 18, 24, 26],\n",
        " [2, 24, 26, 32],\n",
        " [1, 2, 4, 5, 13, 14, 20, 24, 25, 36, 41, 43],\n",
        " [1, 2, 4, 10, 24, 31, 36, 46],\n",
        " [2, 7, 24, 38],\n",
        " [2, 10, 13, 24, 43, 46, 65],\n",
        " [2, 4, 5, 9, 13, 24, 36, 41, 43, 64],\n",
        " [2, 4, 5, 20, 24, 25, 36, 41],\n",
        " [2, 18, 24],\n",
        " [1, 2, 4, 36, 59],\n",
        " [2, 4, 7, 13, 24, 26, 36, 38, 43, 67],\n",
        " [2, 4, 7, 24, 36, 38],\n",
        " [2, 10, 13, 24, 43, 46],\n",
        " [1, 2, 5, 24, 41],\n",
        " [2, 4, 5, 13, 20, 24, 25, 36, 43, 49, 60, 69],\n",
        " [2, 14, 24],\n",
        " [2, 15, 18, 24, 56],\n",
        " [2, 13, 24, 37, 39, 43, 58],\n",
        " [2, 5, 12, 13, 20, 24, 25, 43, 47],\n",
        " [2, 4, 18, 24, 36, 49],\n",
        " [2, 11, 24, 39],\n",
        " [2, 4, 13, 15, 18, 24, 36, 39, 43, 53],\n",
        " [2, 4, 36],\n",
        " [2, 8, 18, 24, 32, 37],\n",
        " [2, 4, 10, 13, 16, 24, 36, 43, 46, 60],\n",
        " [2, 18, 24]]"
      ],
      "metadata": {
        "id": "pmnwY9_PIFqG"
      },
      "execution_count": null,
      "outputs": []
    },
    {
      "cell_type": "code",
      "source": [
        "data_100_3=[[1, 2, 4, 5, 13, 14, 24, 36, 41, 43],\n",
        " [2, 5, 20, 24, 25, 60],\n",
        " [2, 15, 18, 24, 26, 32],\n",
        " [1, 2, 4, 7, 14, 24, 36, 38],\n",
        " [2, 4, 22, 24, 36],\n",
        " [2, 13, 24, 37, 39, 43, 58],\n",
        " [2, 4, 11, 17, 18, 24, 39, 43, 49],\n",
        " [2, 4, 7, 13, 24, 36, 38, 43],\n",
        " [2, 4, 13, 36, 43],\n",
        " [2, 4, 5, 7, 12, 13, 24, 36, 38, 41, 43, 47],\n",
        " [1, 2, 7, 14, 24, 38],\n",
        " [2, 4, 5, 12, 13, 24, 36, 41, 43, 47],\n",
        " [2, 4, 5, 20, 24, 25, 32, 36],\n",
        " [2, 5, 7, 24, 29, 38],\n",
        " [2, 4, 8, 13, 15, 18, 24, 36, 37, 39, 43],\n",
        " [2, 10, 13, 24, 43, 46],\n",
        " [5, 20, 24, 25],\n",
        " [2, 4, 5, 12, 13, 24, 36, 43, 47, 61],\n",
        " [1, 2, 4, 5, 20, 24, 25, 36, 41],\n",
        " [2, 10, 14, 24, 46],\n",
        " [2, 4, 5, 9, 13, 24, 36, 41, 43, 64],\n",
        " [2, 7, 24, 38],\n",
        " [2, 3, 4, 7, 13, 24, 36, 38, 43],\n",
        " [2, 24, 32],\n",
        " [1, 2, 4, 5, 6, 13, 14, 24, 26, 36, 43, 54, 70],\n",
        " [1, 2, 4, 5, 13, 24, 25, 33, 36, 39, 41, 43, 60],\n",
        " [2, 14, 24],\n",
        " [2, 10, 13, 14, 24, 43, 46],\n",
        " [2, 5, 13, 20, 24, 25, 43],\n",
        " [2, 4, 7, 13, 24, 26, 32, 36, 38, 43],\n",
        " [2, 4, 5, 13, 14, 20, 24, 25, 26, 36, 43],\n",
        " [2, 7, 18, 24, 38, 53],\n",
        " [2, 4, 36],\n",
        " [2, 4, 10, 13, 24, 36, 43, 46],\n",
        " [1, 2, 4, 5, 13, 20, 24, 25, 36, 41, 43],\n",
        " [5, 20, 24, 25],\n",
        " [1, 2, 4, 5, 13, 20, 24, 25, 36, 41, 43],\n",
        " [2, 24, 26, 32],\n",
        " [2, 5, 10, 24, 25, 46],\n",
        " [5, 20, 24, 25],\n",
        " [2, 5, 12, 13, 20, 24, 25, 43, 47],\n",
        " [1, 2, 4, 24, 27, 36],\n",
        " [1, 2, 4, 5, 9, 12, 18, 24, 36, 41, 47, 60],\n",
        " [2, 4, 10, 24, 46],\n",
        " [2, 18, 24],\n",
        " [2, 4, 10, 13, 24, 36, 43, 46],\n",
        " [2, 3, 4, 13, 22, 24, 36, 43],\n",
        " [2, 4, 7, 13, 24, 26, 36, 38, 43, 58],\n",
        " [2, 4, 5, 20, 24, 25, 36, 60],\n",
        " [2, 7, 24, 38],\n",
        "[1, 2, 4, 5, 13, 14, 20, 24, 25, 36, 43],\n",
        " [1, 2, 4, 5, 13, 20, 24, 25, 36, 41, 43],\n",
        " [2, 18, 24, 26],\n",
        " [2, 7, 18, 22, 24, 38, 50],\n",
        " [2, 18, 24, 26],\n",
        " [2, 4, 7, 13, 24, 26, 36, 38, 43, 58],\n",
        " [1, 2, 5, 7, 22, 24, 38],\n",
        " [5, 6, 12, 24, 47],\n",
        " [2, 5, 10, 24, 25, 46],\n",
        " [2, 4, 5, 12, 24, 25, 36, 47, 72],\n",
        " [2, 4, 18, 24, 36],\n",
        " [2, 4, 15, 18, 24, 36, 57],\n",
        " [1, 2, 4, 5, 15, 18, 24, 36, 41],\n",
        " [2, 5, 12, 20, 24, 25, 41, 47],\n",
        " [1, 2, 4, 5, 7, 24, 36, 38, 41],\n",
        " [2, 4, 24, 42],\n",
        " [2, 3, 24],\n",
        " [1, 2, 5, 10, 20, 24, 25, 41, 46],\n",
        " [2, 14, 24],\n",
        " [2, 4, 13, 17, 18, 24, 36, 39, 43, 49],\n",
        " [2, 8, 18, 24, 37],\n",
        " [1, 2, 10, 13, 14, 24, 26, 43, 46, 62],\n",
        " [2, 10, 13, 24, 43, 46],\n",
        " [1, 2, 3, 4, 10, 13, 24, 36, 43, 46],\n",
        " [1, 2, 4, 5, 13, 24, 36, 43, 59, 69, 71],\n",
        " [2, 10, 14, 24, 46],\n",
        " [1, 2, 5, 24, 41],\n",
        " [2, 14, 24],\n",
        " [2, 5, 7, 24, 29, 38],\n",
        " [5, 20, 24, 25],\n",
        " [2, 3, 24],\n",
        " [2, 4, 13, 18, 24, 33, 35, 36, 43, 53],\n",
        " [2, 11, 17, 18, 24, 39],\n",
        " [2, 4, 15, 18, 24, 26, 32, 36],\n",
        " [2, 4, 5, 10, 12, 13, 24, 36, 43, 46, 47],\n",
        " [2, 4, 8, 11, 18, 24, 37],\n",
        " [2, 4, 10, 13, 24, 26, 32, 36, 43, 46],\n",
        " [1, 2, 4, 24, 27, 36],\n",
        " [2, 7, 8, 24, 37, 38, 39],\n",
        " [2, 5, 7, 24, 29, 38],\n",
        " [2, 24, 35],\n",
        " [2, 5, 12, 18, 24, 30, 47, 66, 70],\n",
        " [2, 4, 7, 24, 36, 38],\n",
        " [2, 4, 5, 13, 20, 24, 25, 36, 43],\n",
        " [2, 4, 24, 36, 41],\n",
        " [1, 2, 4, 7, 13, 14, 24, 36, 38, 43],\n",
        " [2, 5, 14, 18, 20, 24, 25, 35, 44],\n",
        " [2, 7, 24, 38],\n",
        " [1, 2, 7, 14, 24, 38],\n",
        " [2, 7, 18, 24, 26, 38]]\n",
        "\n"
      ],
      "metadata": {
        "id": "nlWqZaDQiMYA"
      },
      "execution_count": null,
      "outputs": []
    },
    {
      "cell_type": "code",
      "source": [
        "data_100_2=[[1, 2, 4, 5, 13, 14, 20, 24, 25, 36, 43],\n",
        " [1, 2, 4, 5, 13, 20, 24, 25, 36, 41, 43],\n",
        " [2, 18, 24, 26],\n",
        " [2, 7, 18, 22, 24, 38, 50],\n",
        " [2, 18, 24, 26],\n",
        " [2, 4, 7, 13, 24, 26, 36, 38, 43, 58],\n",
        " [1, 2, 5, 7, 22, 24, 38],\n",
        " [5, 6, 12, 24, 47],\n",
        " [2, 5, 10, 24, 25, 46],\n",
        " [2, 4, 5, 12, 24, 25, 36, 47, 72],\n",
        " [2, 4, 18, 24, 36],\n",
        " [2, 4, 15, 18, 24, 36, 57],\n",
        " [1, 2, 4, 5, 15, 18, 24, 36, 41],\n",
        " [2, 5, 12, 20, 24, 25, 41, 47],\n",
        " [1, 2, 4, 5, 7, 24, 36, 38, 41],\n",
        " [2, 4, 24, 42],\n",
        " [2, 3, 24],\n",
        " [1, 2, 5, 10, 20, 24, 25, 41, 46],\n",
        " [2, 14, 24],\n",
        " [2, 4, 13, 17, 18, 24, 36, 39, 43, 49],\n",
        " [2, 8, 18, 24, 37],\n",
        " [1, 2, 10, 13, 14, 24, 26, 43, 46, 62],\n",
        " [2, 10, 13, 24, 43, 46],\n",
        " [1, 2, 3, 4, 10, 13, 24, 36, 43, 46],\n",
        " [1, 2, 4, 5, 13, 24, 36, 43, 59, 69, 71],\n",
        " [2, 10, 14, 24, 46],\n",
        " [1, 2, 5, 24, 41],\n",
        " [2, 14, 24],\n",
        " [2, 5, 7, 24, 29, 38],\n",
        " [5, 20, 24, 25],\n",
        " [2, 3, 24],\n",
        " [2, 4, 13, 18, 24, 33, 35, 36, 43, 53],\n",
        " [2, 11, 17, 18, 24, 39],\n",
        " [2, 4, 15, 18, 24, 26, 32, 36],\n",
        " [2, 4, 5, 10, 12, 13, 24, 36, 43, 46, 47],\n",
        " [2, 4, 8, 11, 18, 24, 37],\n",
        " [2, 4, 10, 13, 24, 26, 32, 36, 43, 46],\n",
        " [1, 2, 4, 24, 27, 36],\n",
        " [2, 7, 8, 24, 37, 38, 39],\n",
        " [2, 5, 7, 24, 29, 38],\n",
        " [2, 24, 35],\n",
        " [2, 5, 12, 18, 24, 30, 47, 66, 70],\n",
        " [2, 4, 7, 24, 36, 38],\n",
        " [2, 4, 5, 13, 20, 24, 25, 36, 43],\n",
        " [2, 4, 24, 36, 41],\n",
        " [1, 2, 4, 7, 13, 14, 24, 36, 38, 43],\n",
        " [2, 5, 14, 18, 20, 24, 25, 35, 44],\n",
        " [2, 7, 24, 38],\n",
        " [1, 2, 7, 14, 24, 38],\n",
        " [2, 7, 18, 24, 26, 38],\n",
        "[1, 2, 4, 5, 13, 14, 20, 24, 25, 36, 43],\n",
        " [1, 2, 4, 5, 13, 20, 24, 25, 36, 41, 43],\n",
        " [2, 18, 24, 26],\n",
        " [2, 7, 18, 22, 24, 38, 50],\n",
        " [2, 18, 24, 26],\n",
        " [2, 4, 7, 13, 24, 26, 36, 38, 43, 58],\n",
        " [1, 2, 5, 7, 22, 24, 38],\n",
        " [5, 6, 12, 24, 47],\n",
        " [2, 5, 10, 24, 25, 46],\n",
        " [2, 4, 5, 12, 24, 25, 36, 47, 72],\n",
        " [2, 4, 18, 24, 36],\n",
        " [2, 4, 15, 18, 24, 36, 57],\n",
        " [1, 2, 4, 5, 15, 18, 24, 36, 41],\n",
        " [2, 5, 12, 20, 24, 25, 41, 47],\n",
        " [1, 2, 4, 5, 7, 24, 36, 38, 41],\n",
        " [2, 4, 24, 42],\n",
        " [2, 3, 24],\n",
        " [1, 2, 5, 10, 20, 24, 25, 41, 46],\n",
        " [2, 14, 24],\n",
        " [2, 4, 13, 17, 18, 24, 36, 39, 43, 49],\n",
        " [2, 8, 18, 24, 37],\n",
        " [1, 2, 10, 13, 14, 24, 26, 43, 46, 62],\n",
        " [2, 10, 13, 24, 43, 46],\n",
        " [1, 2, 3, 4, 10, 13, 24, 36, 43, 46],\n",
        " [1, 2, 4, 5, 13, 24, 36, 43, 59, 69, 71],\n",
        " [2, 10, 14, 24, 46],\n",
        " [1, 2, 5, 24, 41],\n",
        " [2, 14, 24],\n",
        " [2, 5, 7, 24, 29, 38],\n",
        " [5, 20, 24, 25],\n",
        " [2, 3, 24],\n",
        " [2, 4, 13, 18, 24, 33, 35, 36, 43, 53],\n",
        " [2, 11, 17, 18, 24, 39],\n",
        " [2, 4, 15, 18, 24, 26, 32, 36],\n",
        " [2, 4, 5, 10, 12, 13, 24, 36, 43, 46, 47],\n",
        " [2, 4, 8, 11, 18, 24, 37],\n",
        " [2, 4, 10, 13, 24, 26, 32, 36, 43, 46],\n",
        " [1, 2, 4, 24, 27, 36],\n",
        " [2, 7, 8, 24, 37, 38, 39],\n",
        " [2, 5, 7, 24, 29, 38],\n",
        " [2, 24, 35],\n",
        " [2, 5, 12, 18, 24, 30, 47, 66, 70],\n",
        " [2, 4, 7, 24, 36, 38],\n",
        " [2, 4, 5, 13, 20, 24, 25, 36, 43],\n",
        " [2, 4, 24, 36, 41],\n",
        " [1, 2, 4, 7, 13, 14, 24, 36, 38, 43],\n",
        " [2, 5, 14, 18, 20, 24, 25, 35, 44],\n",
        " [2, 7, 24, 38],\n",
        " [1, 2, 7, 14, 24, 38],\n",
        " [2, 7, 18, 24, 26, 38]]\n",
        "\n"
      ],
      "metadata": {
        "id": "Lk494uMOiVCN"
      },
      "execution_count": null,
      "outputs": []
    },
    {
      "cell_type": "code",
      "source": [
        "data_100_4=[[1, 2, 4, 5, 13, 14, 24, 36, 41, 43],\n",
        " [2, 5, 20, 24, 25, 60],\n",
        " [2, 15, 18, 24, 26, 32],\n",
        " [1, 2, 4, 7, 14, 24, 36, 38],\n",
        " [2, 4, 22, 24, 36],\n",
        " [2, 13, 24, 37, 39, 43, 58],\n",
        " [2, 4, 11, 17, 18, 24, 39, 43, 49],\n",
        " [2, 4, 7, 13, 24, 36, 38, 43],\n",
        " [2, 4, 13, 36, 43],\n",
        " [2, 4, 5, 7, 12, 13, 24, 36, 38, 41, 43, 47],\n",
        " [1, 2, 7, 14, 24, 38],\n",
        " [2, 4, 5, 12, 13, 24, 36, 41, 43, 47],\n",
        " [2, 4, 5, 20, 24, 25, 32, 36],\n",
        " [2, 5, 7, 24, 29, 38],\n",
        " [2, 4, 8, 13, 15, 18, 24, 36, 37, 39, 43],\n",
        " [2, 10, 13, 24, 43, 46],\n",
        " [5, 20, 24, 25],\n",
        " [2, 4, 5, 12, 13, 24, 36, 43, 47, 61],\n",
        " [1, 2, 4, 5, 20, 24, 25, 36, 41],\n",
        " [2, 10, 14, 24, 46],\n",
        " [2, 4, 5, 9, 13, 24, 36, 41, 43, 64],\n",
        " [2, 7, 24, 38],\n",
        " [2, 3, 4, 7, 13, 24, 36, 38, 43],\n",
        " [2, 24, 32],\n",
        " [1, 2, 4, 5, 6, 13, 14, 24, 26, 36, 43, 54, 70],\n",
        " [1, 2, 4, 5, 13, 24, 25, 33, 36, 39, 41, 43, 60],\n",
        " [2, 14, 24],\n",
        " [2, 10, 13, 14, 24, 43, 46],\n",
        " [2, 5, 13, 20, 24, 25, 43],\n",
        " [2, 4, 7, 13, 24, 26, 32, 36, 38, 43],\n",
        " [2, 4, 5, 13, 14, 20, 24, 25, 26, 36, 43],\n",
        " [2, 7, 18, 24, 38, 53],\n",
        " [2, 4, 36],\n",
        " [2, 4, 10, 13, 24, 36, 43, 46],\n",
        " [1, 2, 4, 5, 13, 20, 24, 25, 36, 41, 43],\n",
        " [5, 20, 24, 25],\n",
        " [1, 2, 4, 5, 13, 20, 24, 25, 36, 41, 43],\n",
        " [2, 24, 26, 32],\n",
        " [2, 5, 10, 24, 25, 46],\n",
        " [5, 20, 24, 25],\n",
        " [2, 5, 12, 13, 20, 24, 25, 43, 47],\n",
        " [1, 2, 4, 24, 27, 36],\n",
        " [1, 2, 4, 5, 9, 12, 18, 24, 36, 41, 47, 60],\n",
        " [2, 4, 10, 24, 46],\n",
        " [2, 18, 24],\n",
        " [2, 4, 10, 13, 24, 36, 43, 46],\n",
        " [2, 3, 4, 13, 22, 24, 36, 43],\n",
        " [2, 4, 7, 13, 24, 26, 36, 38, 43, 58],\n",
        " [2, 4, 5, 20, 24, 25, 36, 60],\n",
        " [2, 7, 24, 38],\n",
        "[2, 4, 7, 13, 24, 26, 36, 38, 43, 58],\n",
        " [2, 4, 5, 13, 20, 24, 25, 36, 43],\n",
        " [1, 2, 4, 5, 9, 12, 24, 36, 41, 47, 60],\n",
        " [2, 5, 7, 24, 29, 38],\n",
        " [5, 20, 24, 25],\n",
        " [1, 2, 4, 5, 6, 13, 14, 24, 26, 36, 43, 54, 70],\n",
        " [1, 2, 4, 5, 13, 14, 20, 24, 25, 36, 43],\n",
        " [2, 4, 5, 20, 24, 25, 36, 60],\n",
        " [1, 2, 3, 4, 13, 14, 24, 36, 43, 55],\n",
        " [2, 18, 24, 26, 58],\n",
        " [1, 2, 5, 12, 24, 35, 47, 63],\n",
        " [2, 4, 5, 12, 13, 20, 24, 25, 36, 43, 47],\n",
        " [1, 2, 4, 13, 24, 26, 36, 43, 58, 63],\n",
        " [2, 4, 10, 13, 14, 24, 36, 43, 46],\n",
        " [1, 2, 4, 24, 27, 36],\n",
        " [1, 2, 4, 5, 9, 20, 24, 25, 36, 41, 60],\n",
        " [2, 4, 13, 18, 24, 36, 43],\n",
        " [2, 7, 15, 18, 24, 26, 38, 58],\n",
        " [2, 4, 14, 24, 32, 36],\n",
        " [2, 4],\n",
        " [2, 10, 15, 18, 24, 46],\n",
        " [2, 4, 13, 24, 31, 36, 43],\n",
        " [2, 3, 4, 13, 22, 24, 36, 43],\n",
        " [2, 5, 20, 24, 25, 60],\n",
        " [2, 3, 4, 5, 20, 23, 24, 25, 36, 39],\n",
        " [2, 4],\n",
        " [2, 4, 5, 10, 24, 25, 36, 46, 60],\n",
        " [2, 4, 24, 36, 57],\n",
        " [2, 3, 4, 13, 14, 24, 32, 36, 43],\n",
        " [2, 4, 13, 24, 35, 36, 43],\n",
        " [2, 4],\n",
        " [2, 7, 13, 18, 24, 38, 43, 49],\n",
        " [1, 2, 4, 5, 13, 24, 26, 32, 36, 41, 43],\n",
        " [1, 2, 4, 7, 13, 14, 24, 36, 38, 43],\n",
        " [2, 4, 18, 24, 36],\n",
        " [1, 2, 4, 10, 24, 36, 46, 59],\n",
        " [2, 15, 18, 24, 58],\n",
        " [2, 7, 24, 38],\n",
        " [2, 5, 20, 24, 25, 42],\n",
        " [2, 5, 13, 20, 24, 25, 32, 43],\n",
        " [2, 15, 18, 24, 56],\n",
        " [2, 5, 10, 24, 25, 46],\n",
        " [2, 4, 5, 13, 20, 24, 25, 36, 43],\n",
        " [2, 7, 24, 38],\n",
        " [2, 4, 5, 20, 24, 25, 36],\n",
        " [2, 4, 10, 13, 24, 36, 43, 46],\n",
        " [2, 7, 24, 38, 58],\n",
        " [2, 3, 4, 7, 13, 24, 36, 38, 43],\n",
        " [2, 4, 5, 12, 20, 24, 25, 36, 47],\n",
        " [2, 4, 18, 24, 36, 41]]\n",
        "\n"
      ],
      "metadata": {
        "id": "J4z9VhNUieIu"
      },
      "execution_count": null,
      "outputs": []
    },
    {
      "cell_type": "code",
      "source": [
        "data_100_5=[[1, 2, 4, 5, 13, 14, 24, 36, 41, 43],\n",
        " [2, 4, 10, 13, 15, 18, 24, 36, 43, 46],\n",
        " [1, 2, 4, 5, 13, 14, 20, 24, 25, 36, 43],\n",
        " [2, 15, 18, 24],\n",
        " [2, 4, 24, 36, 41],\n",
        " [2, 13, 15, 18, 24, 43],\n",
        " [2, 4, 5, 6, 13, 24, 25, 36, 43, 44, 60],\n",
        " [2, 3, 4, 13, 14, 24, 32, 36, 43],\n",
        " [2, 7, 24, 38, 58],\n",
        " [2, 5, 12, 24, 26, 32, 47],\n",
        " [2, 4, 7, 13, 24, 36, 38, 43],\n",
        " [2, 5, 7, 12, 24, 25, 38, 47],\n",
        " [1, 2, 5, 14, 24, 41],\n",
        " [2, 4, 5, 13, 16, 20, 24, 25, 36, 43, 60],\n",
        " [1, 2, 4, 5, 9, 20, 24, 25, 36, 41, 60],\n",
        " [2, 5, 20, 24, 25],\n",
        " [2, 10, 15, 18, 24, 46],\n",
        " [2, 4, 8, 11, 18, 24, 37],\n",
        " [1, 2, 5, 7, 24, 26, 38, 46, 58],\n",
        " [2, 4, 18, 24, 36, 49],\n",
        " [1, 2, 4, 36, 59],\n",
        " [5, 20, 24, 25],\n",
        " [2, 5, 14, 18, 20, 24, 25, 35, 44],\n",
        " [2, 4, 5, 20, 24, 25, 36],\n",
        " [2, 4, 24, 26, 32, 36],\n",
        " [2, 5, 7, 24, 29, 38],\n",
        " [2, 11, 17, 18, 24, 39],\n",
        " [1, 2, 4, 5, 13, 20, 24, 25, 36, 42, 43],\n",
        " [1, 2, 4, 7, 13, 14, 24, 36, 38, 43],\n",
        " [2, 5, 13, 24, 43, 61],\n",
        " [5, 12, 24, 47],\n",
        " [2, 4, 18, 24, 36, 49],\n",
        " [2, 4, 5, 12, 24, 25, 36, 47, 72],\n",
        " [1, 2, 4, 10, 24, 31, 36, 46],\n",
        " [2, 4, 10, 24, 36, 46],\n",
        " [2, 7, 24, 38],\n",
        " [2, 10, 14, 24, 46],\n",
        " [2, 4, 13, 18, 24, 26, 36, 43, 49],\n",
        " [1, 2, 4, 5, 13, 20, 24, 25, 36, 41, 43],\n",
        " [2, 7, 24, 38, 42, 43],\n",
        " [2, 4, 5, 10, 12, 13, 24, 36, 43, 46, 47],\n",
        " [2, 10, 24, 32, 46],\n",
        " [2, 18, 24, 33, 52],\n",
        " [2, 3, 15, 18, 24],\n",
        " [1, 2, 4, 5, 9, 20, 24, 25, 36, 41, 60],\n",
        " [2, 5, 7, 20, 24, 25, 38],\n",
        " [5, 6, 12, 24, 47],\n",
        " [2, 4, 5, 14, 18, 20, 24, 25, 35],\n",
        " [1, 2, 4, 5, 13, 24, 36, 41, 43],\n",
        "[2, 4, 7, 13, 24, 26, 36, 38, 43, 58],\n",
        " [2, 4, 5, 13, 20, 24, 25, 36, 43],\n",
        " [1, 2, 4, 5, 9, 12, 24, 36, 41, 47, 60],\n",
        " [2, 5, 7, 24, 29, 38],\n",
        " [5, 20, 24, 25],\n",
        " [1, 2, 4, 5, 6, 13, 14, 24, 26, 36, 43, 54, 70],\n",
        " [1, 2, 4, 5, 13, 14, 20, 24, 25, 36, 43],\n",
        " [2, 4, 5, 20, 24, 25, 36, 60],\n",
        " [1, 2, 3, 4, 13, 14, 24, 36, 43, 55],\n",
        " [2, 18, 24, 26, 58],\n",
        " [1, 2, 5, 12, 24, 35, 47, 63],\n",
        " [2, 4, 5, 12, 13, 20, 24, 25, 36, 43, 47],\n",
        " [1, 2, 4, 13, 24, 26, 36, 43, 58, 63],\n",
        " [2, 4, 10, 13, 14, 24, 36, 43, 46],\n",
        " [1, 2, 4, 24, 27, 36],\n",
        " [1, 2, 4, 5, 9, 20, 24, 25, 36, 41, 60],\n",
        " [2, 4, 13, 18, 24, 36, 43],\n",
        " [2, 7, 15, 18, 24, 26, 38, 58],\n",
        " [2, 4, 14, 24, 32, 36],\n",
        " [2, 4],\n",
        " [2, 10, 15, 18, 24, 46],\n",
        " [2, 4, 13, 24, 31, 36, 43],\n",
        " [2, 3, 4, 13, 22, 24, 36, 43],\n",
        " [2, 5, 20, 24, 25, 60],\n",
        " [2, 3, 4, 5, 20, 23, 24, 25, 36, 39],\n",
        " [2, 4],\n",
        " [2, 4, 5, 10, 24, 25, 36, 46, 60],\n",
        " [2, 4, 24, 36, 57],\n",
        " [2, 3, 4, 13, 14, 24, 32, 36, 43],\n",
        " [2, 4, 13, 24, 35, 36, 43],\n",
        " [2, 4],\n",
        " [2, 7, 13, 18, 24, 38, 43, 49],\n",
        " [1, 2, 4, 5, 13, 24, 26, 32, 36, 41, 43],\n",
        " [1, 2, 4, 7, 13, 14, 24, 36, 38, 43],\n",
        " [2, 4, 18, 24, 36],\n",
        " [1, 2, 4, 10, 24, 36, 46, 59],\n",
        " [2, 15, 18, 24, 58],\n",
        " [2, 7, 24, 38],\n",
        " [2, 5, 20, 24, 25, 42],\n",
        " [2, 5, 13, 20, 24, 25, 32, 43],\n",
        " [2, 15, 18, 24, 56],\n",
        " [2, 5, 10, 24, 25, 46],\n",
        " [2, 4, 5, 13, 20, 24, 25, 36, 43],\n",
        " [2, 7, 24, 38],\n",
        " [2, 4, 5, 20, 24, 25, 36],\n",
        " [2, 4, 10, 13, 24, 36, 43, 46],\n",
        " [2, 7, 24, 38, 58],\n",
        " [2, 3, 4, 7, 13, 24, 36, 38, 43],\n",
        " [2, 4, 5, 12, 20, 24, 25, 36, 47],\n",
        " [2, 4, 18, 24, 36, 41]]\n",
        "\n"
      ],
      "metadata": {
        "id": "-Jjx6mLRisnf"
      },
      "execution_count": null,
      "outputs": []
    },
    {
      "cell_type": "markdown",
      "source": [
        "##製品数300"
      ],
      "metadata": {
        "id": "yhylzXBDO2Wh"
      }
    },
    {
      "cell_type": "code",
      "source": [
        "data_300=[[1, 2, 4, 5, 13, 14, 24, 36, 41, 43],\n",
        " [2, 4, 10, 13, 15, 18, 24, 36, 43, 46],\n",
        " [1, 2, 4, 5, 13, 14, 20, 24, 25, 36, 43],\n",
        " [2, 15, 18, 24],\n",
        " [2, 4, 24, 36, 41],\n",
        " [2, 13, 15, 18, 24, 43],\n",
        " [2, 4, 5, 6, 13, 24, 25, 36, 43, 44, 60],\n",
        " [2, 3, 4, 13, 14, 24, 32, 36, 43],\n",
        " [2, 7, 24, 38, 58],\n",
        " [2, 5, 12, 24, 26, 32, 47],\n",
        " [2, 4, 7, 13, 24, 36, 38, 43],\n",
        " [2, 5, 7, 12, 24, 25, 38, 47],\n",
        " [1, 2, 5, 14, 24, 41],\n",
        " [2, 4, 5, 13, 16, 20, 24, 25, 36, 43, 60],\n",
        " [1, 2, 4, 5, 9, 20, 24, 25, 36, 41, 60],\n",
        " [2, 5, 20, 24, 25],\n",
        " [2, 10, 15, 18, 24, 46],\n",
        " [2, 4, 8, 11, 18, 24, 37],\n",
        " [1, 2, 5, 7, 24, 26, 38, 46, 58],\n",
        " [2, 4, 18, 24, 36, 49],\n",
        " [1, 2, 4, 36, 59],\n",
        " [5, 20, 24, 25],\n",
        " [2, 5, 14, 18, 20, 24, 25, 35, 44],\n",
        " [2, 4, 5, 20, 24, 25, 36],\n",
        " [2, 4, 24, 26, 32, 36],\n",
        " [2, 5, 7, 24, 29, 38],\n",
        " [2, 11, 17, 18, 24, 39],\n",
        " [1, 2, 4, 5, 13, 20, 24, 25, 36, 42, 43],\n",
        " [1, 2, 4, 7, 13, 14, 24, 36, 38, 43],\n",
        " [2, 5, 13, 24, 43, 61],\n",
        " [5, 12, 24, 47],\n",
        " [2, 4, 18, 24, 36, 49],\n",
        " [2, 4, 5, 12, 24, 25, 36, 47, 72],\n",
        " [1, 2, 4, 10, 24, 31, 36, 46],\n",
        " [2, 4, 10, 24, 36, 46],\n",
        " [2, 7, 24, 38],\n",
        " [2, 10, 14, 24, 46],\n",
        " [2, 4, 13, 18, 24, 26, 36, 43, 49],\n",
        " [1, 2, 4, 5, 13, 20, 24, 25, 36, 41, 43],\n",
        " [2, 7, 24, 38, 42, 43],\n",
        " [2, 4, 5, 10, 12, 13, 24, 36, 43, 46, 47],\n",
        " [2, 10, 24, 32, 46],\n",
        " [2, 18, 24, 33, 52],\n",
        " [2, 3, 15, 18, 24],\n",
        " [1, 2, 4, 5, 9, 20, 24, 25, 36, 41, 60],\n",
        " [2, 5, 7, 20, 24, 25, 38],\n",
        " [5, 6, 12, 24, 47],\n",
        " [2, 4, 5, 14, 18, 20, 24, 25, 35],\n",
        " [1, 2, 4, 5, 13, 24, 36, 41, 43],[2, 4, 13, 24, 34, 36, 43, 58],\n",
        " [1, 2, 4, 5, 13, 14, 24, 36, 41, 43, 60],\n",
        " [1, 2, 7, 14, 24, 38],\n",
        " [2, 4, 13, 36, 43],\n",
        " [5, 20, 24, 25],\n",
        " [1, 2, 4, 10, 13, 14, 24, 36, 43, 46],\n",
        " [2, 4, 36],\n",
        " [2, 3, 24],\n",
        " [2, 5, 13, 20, 24, 25, 43],\n",
        " [2, 7, 8, 24, 37, 38, 39],\n",
        " [1, 2, 4, 10, 13, 14, 24, 36, 43, 46],\n",
        " [1, 2, 4, 5, 13, 20, 24, 25, 36, 41, 43],\n",
        " [2, 17, 18, 24, 39, 49],\n",
        " [2, 24, 41],\n",
        " [1, 2, 5, 7, 24, 26, 38, 46, 58],\n",
        " [1, 2, 4, 5, 13, 24, 36, 41, 43],\n",
        " [2, 7, 24, 38],\n",
        " [2, 5, 12, 20, 24, 25, 41, 47],\n",
        " [2, 4, 5, 6, 13, 24, 25, 36, 43, 44, 60],\n",
        " [2, 4, 15, 18, 24, 26, 32, 36],\n",
        " [2, 5, 24, 25, 32],\n",
        " [2, 4, 8, 11, 18, 24, 37],\n",
        " [2, 5, 7, 24, 38, 51],\n",
        " [5, 12, 20, 24, 25, 47],\n",
        " [2, 4, 22, 24, 36],\n",
        " [2, 18, 24, 26],\n",
        " [2, 18, 24, 26],\n",
        " [2, 24, 26, 32],\n",
        " [1, 2, 4, 5, 13, 14, 20, 24, 25, 36, 41, 43],\n",
        " [1, 2, 4, 10, 24, 31, 36, 46],\n",
        " [2, 7, 24, 38],\n",
        " [2, 10, 13, 24, 43, 46, 65],\n",
        " [2, 4, 5, 9, 13, 24, 36, 41, 43, 64],\n",
        " [2, 4, 5, 20, 24, 25, 36, 41],\n",
        " [2, 18, 24],\n",
        " [1, 2, 4, 36, 59],\n",
        " [2, 4, 7, 13, 24, 26, 36, 38, 43, 67],\n",
        " [2, 4, 7, 24, 36, 38],\n",
        " [2, 10, 13, 24, 43, 46],\n",
        " [1, 2, 5, 24, 41],\n",
        " [2, 4, 5, 13, 20, 24, 25, 36, 43, 49, 60, 69],\n",
        " [2, 14, 24],\n",
        " [2, 15, 18, 24, 56],\n",
        " [2, 13, 24, 37, 39, 43, 58],\n",
        " [2, 5, 12, 13, 20, 24, 25, 43, 47],\n",
        " [2, 4, 18, 24, 36, 49],\n",
        " [2, 11, 24, 39],\n",
        " [2, 4, 13, 15, 18, 24, 36, 39, 43, 53],\n",
        " [2, 4, 36],\n",
        " [2, 8, 18, 24, 32, 37],\n",
        " [2, 4, 10, 13, 16, 24, 36, 43, 46, 60],\n",
        " [2, 18, 24],\n",
        " [5, 20, 24, 25],\n",
        " [2, 5, 10, 24, 25, 46],\n",
        " [2, 4, 7, 10, 24, 36, 38, 46],\n",
        " [2, 4, 8, 13, 15, 18, 24, 36, 37, 39, 43],\n",
        " [1, 2, 3, 4, 5, 13, 24, 36, 41, 43, 69],\n",
        " [2, 4, 10, 24, 36, 46, 57],\n",
        " [1, 2, 4, 7, 13, 14, 24, 36, 38, 43],\n",
        " [2, 4, 13, 17, 18, 24, 36, 39, 43, 49],\n",
        " [2, 4, 13, 18, 24, 26, 36, 43],\n",
        " [2, 4, 15, 18, 24, 26, 36],\n",
        " [2, 5, 12, 19, 24, 38, 47],\n",
        " [1, 2, 14, 24, 27],\n",
        " [2, 4, 13, 36, 43],\n",
        " [2, 4, 5, 12, 13, 20, 24, 25, 26, 35, 36, 43, 47, 62],\n",
        " [2, 11, 17, 18, 24, 39],\n",
        " [2, 4, 5, 16, 20, 24, 25, 36, 60],\n",
        " [2, 5, 13, 20, 24, 25, 32, 43],\n",
        " [2, 5, 10, 24, 25, 46],\n",
        " [2, 5, 9, 20, 24, 25, 60],\n",
        " [2, 7, 24, 38],\n",
        " [2, 4, 5, 13, 20, 24, 25, 36, 43],\n",
        " [2, 4, 5, 10, 12, 13, 24, 36, 43, 46, 47],\n",
        " [2, 4],\n",
        " [2, 4, 10, 13, 18, 24, 26, 36, 43, 46],\n",
        " [2, 4, 24, 35, 36, 57],\n",
        " [2, 4, 7, 13, 24, 26, 32, 36, 38, 43],\n",
        " [1, 2, 4, 5, 10, 24, 36, 41, 46, 69],\n",
        " [1, 2, 4, 5, 13, 14, 20, 24, 25, 36, 43],[2, 4, 24, 36, 41],\n",
        " [2, 4, 36],\n",
        " [2, 4, 5, 10, 13, 24, 26, 32, 36, 43, 46, 69],\n",
        " [2, 4, 18, 24, 36, 49],\n",
        " [1, 2, 4, 10, 13, 14, 24, 36, 43, 46],\n",
        " [2, 4, 24, 36, 41],\n",
        " [2, 4, 10, 13, 16, 24, 36, 43, 46, 60],\n",
        " [5, 20, 24, 25],\n",
        " [5, 20, 24, 25],\n",
        " [2, 4, 11, 18, 24, 53, 68],\n",
        " [2, 4, 10, 24, 36, 46],\n",
        " [2, 15, 18, 24, 58],\n",
        " [1, 2, 4, 5, 10, 13, 20, 24, 25, 36, 41, 43, 46],\n",
        " [2, 4, 5, 12, 24, 25, 36, 47, 72],\n",
        " [2, 4, 7, 18, 24, 36, 38],\n",
        " [2, 4, 7, 10, 24, 36, 38, 46],\n",
        " [2, 5, 12, 13, 20, 24, 25, 43, 47],\n",
        " [2, 4, 5, 9, 13, 24, 36, 41, 43, 64],\n",
        " [1, 2, 4, 5, 6, 13, 14, 24, 26, 36, 43, 54, 70],\n",
        " [1, 2, 4, 10, 13, 14, 24, 36, 43, 46],\n",
        " [2, 4],\n",
        " [2, 4, 10, 13, 18, 24, 26, 36, 43, 46],\n",
        " [1, 2, 4, 13, 24, 26, 36, 43, 58, 63],\n",
        " [1, 2, 4, 13, 14, 24, 27, 36, 43],\n",
        " [2, 24, 26, 32],\n",
        " [1, 2, 4, 5, 9, 20, 24, 25, 36, 41, 60],\n",
        " [2, 4, 14, 24, 32, 36],\n",
        " [2, 18, 24, 26],\n",
        " [2, 4, 5, 13, 20, 24, 25, 36, 43, 49, 60, 69],\n",
        " [2, 7, 18, 24, 38, 53],\n",
        " [2, 4, 18, 24, 36],\n",
        " [2, 4, 5, 13, 20, 24, 25, 36, 43],\n",
        " [2, 4, 5, 13, 20, 24, 25, 32, 36, 43],\n",
        " [1, 2, 4, 5, 9, 12, 18, 24, 36, 41, 47, 60],\n",
        " [2, 7, 15, 18, 24, 26, 38, 58],\n",
        " [5, 12, 24, 47],\n",
        " [2, 4, 24, 36, 57],\n",
        " [2, 7, 24, 38],\n",
        " [2, 5, 7, 24, 38, 51],\n",
        " [2, 4, 13, 15, 18, 19, 24, 26, 27, 36, 43, 62],\n",
        " [2, 7, 24, 38],\n",
        " [2, 4, 5, 12, 20, 24, 25, 36, 47],\n",
        " [2, 7, 13, 15, 18, 24, 38, 43],\n",
        " [2, 17, 18, 24, 39, 49],\n",
        " [2, 10, 24, 41, 46],\n",
        " [2, 18, 24, 26],\n",
        " [2, 18, 24],\n",
        " [2, 4, 7, 13, 24, 26, 32, 36, 38, 43],\n",
        " [2, 4, 5, 10, 24, 25, 36, 46, 60],\n",
        " [2, 4, 13, 18, 24, 26, 36, 43, 58],\n",
        " [2, 4, 7, 13, 24, 36, 38, 43],\n",
        " [2, 4, 5, 13, 20, 24, 25, 35, 36, 41, 43, 46, 60],\n",
        " [1, 2, 4, 14, 24, 36],\n",
        " [2, 13, 24, 37, 39, 43, 58],\n",
        " [2, 4, 5, 12, 24, 36, 47],\n",
        " [2, 7, 8, 24, 37, 38, 39],\n",
        " [2, 4, 24, 26, 32, 36],\n",
        " [2, 4, 11, 18, 24, 26, 32],\n",
        " [1, 2, 4, 36, 59],\n",
        " [2, 24, 26, 32],\n",
        " [2, 18, 24, 26],\n",
        " [2, 4, 18, 24, 36, 49],\n",
        " [2, 10, 13, 24, 43, 46],\n",
        " [2, 14, 24],\n",
        " [1, 2, 5, 24, 41],\n",
        " [5, 20, 24, 25],\n",
        " [2, 24, 26, 32],\n",
        " [5, 20, 24, 25],\n",
        " [2, 4, 5, 10, 12, 13, 24, 36, 43, 46, 47],\n",
        " [2, 4, 24, 42],\n",
        "[2, 11, 17, 18, 24, 39],\n",
        " [1, 2, 4, 5, 13, 20, 24, 25, 36, 41, 43],\n",
        " [2, 4, 5, 13, 20, 24, 25, 36, 43],\n",
        "[2, 3, 4, 7, 24, 36, 38],\n",
        " [2, 7, 24, 38],\n",
        " [2, 11, 17, 18, 24, 39],\n",
        " [1, 2, 4, 5, 13, 14, 20, 24, 25, 36, 43],\n",
        " [1, 2, 4, 5, 13, 24, 36, 41, 43],\n",
        " [5, 12, 24, 47],\n",
        " [2, 5, 10, 24, 25, 46],\n",
        " [2, 4, 13, 24, 26, 32, 33, 36, 39, 43, 52],\n",
        " [2, 4, 7, 13, 24, 36, 38, 43],\n",
        " [2, 18, 24, 33, 52, 58],\n",
        " [5, 12, 24, 47],\n",
        " [2, 4, 11, 18, 24, 36],\n",
        " [2, 10, 15, 18, 24, 46],\n",
        " [2, 4, 13, 18, 24, 36, 43],\n",
        " [2, 5, 24, 25, 32],\n",
        " [2, 4, 22, 24, 36],\n",
        " [1, 2, 4, 5, 9, 12, 24, 36, 41, 47, 60],\n",
        " [2, 5, 12, 19, 24, 38, 47],\n",
        " [2, 4, 5, 12, 20, 24, 25, 36, 47],\n",
        " [2, 4, 18, 24, 26, 36],\n",
        " [2, 4, 10, 24, 36, 46, 57],\n",
        " [2, 4, 5, 13, 16, 20, 24, 25, 36, 43, 60],\n",
        " [2, 3, 4, 13, 14, 24, 32, 36, 43],\n",
        " [2, 4, 15, 18, 24, 36],\n",
        " [1, 2, 4, 5, 6, 13, 14, 24, 26, 36, 43, 54, 70],\n",
        " [1, 2, 5, 9, 10, 24, 46],\n",
        " [1, 2, 4, 10, 13, 14, 24, 36, 43, 46],\n",
        " [2, 4, 7, 13, 24, 36, 38, 43],\n",
        " [1, 2, 5, 14, 24, 41],\n",
        " [2, 4, 5, 20, 24, 25, 36],\n",
        " [2, 4, 5, 20, 24, 25, 36, 60],\n",
        " [2, 4, 5, 13, 20, 24, 25, 35, 36, 41, 43, 46, 60],\n",
        " [2, 4, 5, 13, 20, 24, 25, 36, 43],\n",
        " [2, 4, 7, 13, 24, 26, 36, 38, 43, 67],\n",
        " [2, 3, 15, 18, 24],\n",
        " [2, 4, 13, 24, 31, 36, 43],\n",
        " [2, 5, 7, 20, 24, 25, 38],\n",
        " [2, 4, 5, 7, 12, 13, 24, 36, 38, 41, 43, 47],\n",
        " [2, 24, 26, 32],\n",
        " [5, 20, 24, 25],\n",
        " [2, 4, 16, 18, 24, 36, 60],\n",
        " [2, 14, 24],\n",
        " [2, 18, 24, 26],\n",
        " [1, 2, 5, 10, 11, 18, 24, 41, 46],\n",
        " [2, 5, 12, 22, 24, 29, 47, 66, 70],\n",
        " [2, 4, 5, 10, 13, 24, 26, 32, 36, 43, 46, 69],\n",
        " [1, 2, 5, 14, 24, 41],\n",
        " [1, 2, 15, 18, 24, 63],\n",
        " [2, 8, 18, 24, 37],\n",
        " [2, 4, 5, 20, 24, 25, 36, 54, 70],\n",
        " [2, 11, 17, 18, 24, 39],\n",
        " [1, 2, 4, 5, 13, 20, 24, 25, 36, 42, 43],\n",
        " [2, 4, 13, 18, 24, 36, 43, 56],\n",
        " [2, 4, 24, 35, 36, 57],\n",
        " [2, 4, 15, 18, 24, 36, 57],\n",
        " [2, 17, 18, 24, 39, 49],\n",
        " [2, 4, 5, 10, 12, 13, 24, 36, 43, 46, 47],\n",
        " [1, 2, 4, 13, 14, 17, 24, 36, 39, 43],\n",
        " [1, 2, 4, 5, 13, 20, 24, 25, 36, 41, 43],\n",
        " [2, 4, 13, 22, 24, 36, 43],\n",
        " [2, 4, 7, 24, 32, 36, 38],\n",
        " [2, 4, 10, 13, 24, 36, 43, 46],\n",
        " [2, 10, 24, 46],\n",
        " [1, 2, 3, 4, 13, 14, 24, 36, 43, 55],\n",
        " [2, 4, 5, 10, 20, 24, 25, 36, 46],\n",
        " [2, 5, 13, 24, 43, 61],\n",
        " [2, 4, 7, 18, 24, 36, 38, 56],\n",
        " [2, 4, 5, 20, 24, 25, 36],\n",
        " [1, 2, 4, 7, 13, 14, 24, 36, 38, 43],\n",
        " [1, 2, 4, 5, 15, 18, 24, 36, 41],\n",
        " [2, 4, 18, 24, 36, 49],\n",
        " [1, 2, 4, 10, 13, 14, 24, 36, 43, 46],\n",
        " [2, 4, 24, 36, 41],\n",
        " [2, 4, 10, 13, 16, 24, 36, 43, 46, 60],\n",
        " [5, 20, 24, 25],\n",
        " [5, 20, 24, 25],\n",
        " [2, 4, 11, 18, 24, 53, 68],\n",
        " [2, 4, 10, 24, 36, 46],\n",
        " [2, 15, 18, 24, 58],\n",
        " [1, 2, 4, 5, 10, 13, 20, 24, 25, 36, 41, 43, 46],\n",
        " [2, 4, 5, 12, 24, 25, 36, 47, 72],\n",
        " [2, 4, 7, 18, 24, 36, 38],\n",
        " [2, 4, 7, 10, 24, 36, 38, 46],\n",
        " [2, 5, 12, 13, 20, 24, 25, 43, 47],\n",
        " [2, 4, 5, 9, 13, 24, 36, 41, 43, 64],\n",
        " [1, 2, 4, 5, 6, 13, 14, 24, 26, 36, 43, 54, 70],\n",
        " [1, 2, 4, 10, 13, 14, 24, 36, 43, 46],\n",
        " [2, 4],\n",
        " [2, 4, 10, 13, 18, 24, 26, 36, 43, 46],\n",
        " [1, 2, 4, 13, 24, 26, 36, 43, 58, 63],\n",
        " [1, 2, 4, 13, 14, 24, 27, 36, 43],\n",
        " [2, 24, 26, 32],\n",
        " [1, 2, 4, 5, 9, 20, 24, 25, 36, 41, 60],\n",
        " [2, 4, 14, 24, 32, 36],\n",
        " [2, 18, 24, 26],\n",
        " [2, 4, 5, 13, 20, 24, 25, 36, 43, 49, 60, 69],\n",
        " [2, 7, 18, 24, 38, 53],\n",
        " [2, 4, 18, 24, 36]]"
      ],
      "metadata": {
        "id": "BoQnsHgyO0_V"
      },
      "execution_count": null,
      "outputs": []
    },
    {
      "cell_type": "markdown",
      "source": [
        "##データをランダムに生成"
      ],
      "metadata": {
        "id": "jaHMKT9K1Stz"
      }
    },
    {
      "cell_type": "code",
      "source": [
        "import random\n",
        "\n",
        "def generate_random_lists(n, min_num=1, max_num=72, max_len=24):\n",
        "    random_lists = []\n",
        "    for _ in range(n):\n",
        "        m = random.randint(1, 30)  # Randomly choose length between 1 and max_len\n",
        "        random_list = random.sample(range(min_num, max_num + 1), m)  # Randomly pick m unique numbers\n",
        "        random_lists.append(random_list)\n",
        "    return random_lists\n",
        "\n",
        "# Example usage with n=3\n",
        "#n = 300\n",
        "#random_lists = generate_random_lists(n)\n",
        "#random_lists\n"
      ],
      "metadata": {
        "id": "WpriJqVf1U8n"
      },
      "execution_count": null,
      "outputs": []
    },
    {
      "cell_type": "markdown",
      "source": [
        "##距離の設定"
      ],
      "metadata": {
        "id": "MbRdSEjp3-db"
      }
    },
    {
      "cell_type": "code",
      "source": [
        "import numpy as np\n",
        "from scipy.spatial.distance import mahalanobis\n",
        "\n",
        "def squared_distance(x, y):\n",
        "    x_set, y_set = set(x), set(y)\n",
        "    intersection = x_set & y_set\n",
        "    return len(x_set) + len(y_set) - 2 * len(intersection)\n",
        "\n",
        "# Euclidean Distance\n",
        "def euclidean_distance(x, y):\n",
        "    return np.sqrt(np.sum((np.array(x) - np.array(y)) ** 2))\n",
        "\n",
        "# Manhattan Distance\n",
        "def manhattan_distance(x, y):\n",
        "    return np.sum(np.abs(np.array(x) - np.array(y)))\n",
        "\n",
        "# マハラノビス距離を計算する関数\n",
        "def mahalanobis_distance(A, B, epsilon=1e-10):\n",
        "    A = np.array(A)\n",
        "    B = np.array(B)\n",
        "\n",
        "    # AとBの差分ベクトル\n",
        "    diff = A - B\n",
        "\n",
        "    # データの共分散行列\n",
        "    data = np.stack([A, B], axis=0)\n",
        "    cov_matrix = np.cov(data.T)\n",
        "\n",
        "    # 共分散行列に小さい値を追加（正則化）\n",
        "    cov_matrix += np.eye(cov_matrix.shape[0]) * epsilon\n",
        "\n",
        "    # 共分散行列の逆行列を計算\n",
        "    cov_matrix_inv = np.linalg.inv(cov_matrix)\n",
        "\n",
        "    # マハラノビス距離を計算\n",
        "    distance = np.sqrt(np.dot(np.dot(diff.T, cov_matrix_inv), diff))\n",
        "\n",
        "    return distance\n",
        "# Minkowski Distance (p-norm)\n",
        "def minkowski_distance(x, y, p=3):  # Default to p=3, but you can change it\n",
        "    return np.power(np.sum(np.abs(np.array(x) - np.array(y)) ** p), 1/p)\n",
        "\n",
        "\n",
        "# Chebyshev Distance\n",
        "def chebyshev_distance(x, y):\n",
        "    return np.max(np.abs(np.array(x) - np.array(y)))\n",
        "\n",
        "# Example data\n",
        "x = [1, 2, 3]\n",
        "y = [4, 5, 6]\n",
        "data = np.array([[1, 2, 3], [4, 5, 6], [7, 8, 9]])  # Example dataset for Mahalanobis\n",
        "\n",
        "# Output for each distance\n",
        "euclidean_dist = euclidean_distance(x, y)\n",
        "manhattan_dist = manhattan_distance(x, y)\n",
        "minkowski_dist = minkowski_distance(x, y, p=3)\n",
        "chebyshev_dist = chebyshev_distance(x, y)\n",
        "\n",
        "euclidean_dist, manhattan_dist, minkowski_dist, chebyshev_dist\n"
      ],
      "metadata": {
        "colab": {
          "base_uri": "https://localhost:8080/"
        },
        "id": "22xfzB1t39kb",
        "outputId": "1d14e59c-d9d4-4f09-decf-0ff4c017fe10"
      },
      "execution_count": null,
      "outputs": [
        {
          "output_type": "execute_result",
          "data": {
            "text/plain": [
              "(5.196152422706632, 9, 4.3267487109222245, 3)"
            ]
          },
          "metadata": {},
          "execution_count": 45
        }
      ]
    },
    {
      "cell_type": "markdown",
      "source": [
        "## n個未満のリストを埋める関数"
      ],
      "metadata": {
        "id": "_jK7nQezMk5t"
      }
    },
    {
      "cell_type": "code",
      "source": [
        "def fill_to_n(original_set, element_counts,n):\n",
        "    filled_list = list(original_set)\n",
        "    most_common_elements = [item for item, count in element_counts.most_common()]\n",
        "\n",
        "    # 24個になるまで、出現頻度が高い要素を追加（すでにリストに含まれていないもののみ追加）\n",
        "    while len(filled_list) < n:\n",
        "        for element in most_common_elements:\n",
        "            if element not in filled_list:\n",
        "                filled_list.append(element)\n",
        "            if len(filled_list) >= n:\n",
        "                break\n",
        "    return filled_list"
      ],
      "metadata": {
        "id": "W5biZk_TPqxK"
      },
      "execution_count": null,
      "outputs": []
    },
    {
      "cell_type": "markdown",
      "source": [
        "##最短距離導出関数"
      ],
      "metadata": {
        "id": "EPVnFu1YMlC6"
      }
    },
    {
      "cell_type": "code",
      "source": [
        "def calculate_optimal_path(solved_lists):\n",
        "  import itertools\n",
        "  import networkx as nx\n",
        "  import numpy as np\n",
        "\n",
        "  # 初期化\n",
        "  edges = []\n",
        "\n",
        "  # max_solved_list の長さを取得\n",
        "  length = len(solved_lists)\n",
        "\n",
        "  # 全ての組み合わせ (m, n) を求めて edges に追加\n",
        "  for m, n in itertools.combinations(range(length), 2):\n",
        "      edges.append((m, n, squared_distance(solved_lists[m], solved_lists[n])))\n",
        "\n",
        "    # グラフの作成\n",
        "  G = nx.Graph()\n",
        "\n",
        "  for u, v, weight in edges:\n",
        "      G.add_edge(u, v, weight=weight)\n",
        "\n",
        "  # 始点の指定\n",
        "  start_node = 0  # ここで始点を指定\n",
        "\n",
        "  # 最短経路長の計算（フロイド-ワーシャル法を使用）\n",
        "  distances = dict(nx.floyd_warshall(G))\n",
        "\n",
        "  # ノードリストの取得\n",
        "  nodes = list(G.nodes())\n",
        "  n = len(nodes)\n",
        "  node_indices = {node: i for i, node in enumerate(nodes)}\n",
        "\n",
        "  # 動的計画法によるTSPの解決（Held-Karp Algorithm）\n",
        "  dp = np.full((n, 1 << n), float('inf'))\n",
        "  dp[node_indices[start_node]][1 << node_indices[start_node]] = 0\n",
        "\n",
        "  for mask in range(1 << n):\n",
        "      for u in range(n):\n",
        "          if mask & (1 << u):\n",
        "              for v in range(n):\n",
        "                  if not mask & (1 << v):\n",
        "                      dp[v][mask | (1 << v)] = min(dp[v][mask | (1 << v)], dp[u][mask] + distances[nodes[u]][nodes[v]])\n",
        "\n",
        "  # 最短経路のコストを見つける\n",
        "  min_cost = min(dp[u][(1 << n) - 1] for u in range(n))\n",
        "\n",
        "  # 結果の表示\n",
        "  #print(f\"Minimum cost: {min_cost}\")\n",
        "\n",
        "  # 最短経路の復元\n",
        "  def get_path(dp, distances, nodes, start_node):\n",
        "      mask = (1 << n) - 1\n",
        "      last_index = np.argmin([dp[u][mask] for u in range(n)])\n",
        "      path = [nodes[last_index]]\n",
        "\n",
        "      for i in range(n-1, 0, -1):\n",
        "          for j in range(n):\n",
        "              if dp[last_index][mask] == dp[j][mask ^ (1 << last_index)] + distances[nodes[j]][nodes[last_index]]:\n",
        "                  path.append(nodes[j])\n",
        "                  mask ^= (1 << last_index)\n",
        "                  last_index = j\n",
        "                  break\n",
        "\n",
        "      # スタートノードを先頭に戻す\n",
        "      while path[-1] != start_node:\n",
        "          path = path[-1:] + path[:-1]\n",
        "\n",
        "      return path\n",
        "\n",
        "  # 最短経路を表示\n",
        "  path = get_path(dp, distances, nodes, start_node)\n",
        "  #print(f\"Path: {path}\")\n",
        "\n",
        "  return path, min_cost"
      ],
      "metadata": {
        "id": "vGzH-zb6MlC6"
      },
      "execution_count": null,
      "outputs": []
    },
    {
      "cell_type": "markdown",
      "source": [],
      "metadata": {
        "id": "YER5AvvaQ3Gf"
      }
    },
    {
      "cell_type": "markdown",
      "source": [
        "#群平均法"
      ],
      "metadata": {
        "id": "UAq2s-KPQ3eA"
      }
    },
    {
      "cell_type": "markdown",
      "source": [
        "##関数"
      ],
      "metadata": {
        "id": "Xn2zk0k3Q3eB"
      }
    },
    {
      "cell_type": "code",
      "source": [
        "##群平均法によるクラスタリング\n",
        "import numpy as np\n",
        "from sklearn.preprocessing import MinMaxScaler\n",
        "from collections import Counter\n",
        "\n",
        "# スケーリング用関数\n",
        "def scale_data(data_modified):\n",
        "    scaler = MinMaxScaler()\n",
        "    scaled_data = [scaler.fit_transform(np.array(d).reshape(-1, 1)).flatten() for d in data_modified]\n",
        "    return scaled_data\n",
        "\n",
        "# 距離の二乗を計算する関数\n",
        "def squared_distance(x, y):\n",
        "    x_set, y_set = set(x), set(y)\n",
        "    intersection = x_set & y_set\n",
        "    return len(x_set) + len(y_set) - 2 * len(intersection)\n",
        "\n",
        "# 初期化\n",
        "def initialize_clusters(data):\n",
        "    return [[i] for i in range(len(data))]\n",
        "\n",
        "def calculate_distance_matrix(data, data_modified, clusters,a_distance):\n",
        "    n = len(clusters)\n",
        "    distance_matrix = np.full((n, n), np.inf)\n",
        "\n",
        "    for i in range(n):\n",
        "        for j in range(i + 1, n):\n",
        "            cluster_i = clusters[i]\n",
        "            cluster_j = clusters[j]\n",
        "\n",
        "            # 結合後のデータの和集合を計算\n",
        "            combined_cluster = cluster_i + cluster_j\n",
        "            combined_data = set(item for idx in combined_cluster for item in data[idx])\n",
        "            combined_size = len(combined_data)\n",
        "\n",
        "            # クラスタがmax_numを超えたら距離を無限大に設定して結合を防ぐ\n",
        "            max_num=30\n",
        "            if combined_size > max_num:\n",
        "                continue  # スキップして結合させない\n",
        "\n",
        "            # 群平均法に基づく距離計算\n",
        "            total_distance = 0\n",
        "            count = 0\n",
        "            for idx_i in cluster_i:\n",
        "                for idx_j in cluster_j:\n",
        "                    total_distance += a_distance(data_modified[idx_i], data_modified[idx_j]) #///距離測定///\n",
        "                    count += 1\n",
        "            average_distance = total_distance / count\n",
        "\n",
        "            # 和集合の要素数がにmax_numに近づくほど、距離を小さくする調整\n",
        "            distance_penalty = abs(max_num - combined_size)  # max_numに近づくほどペナルティが少ない\n",
        "\n",
        "            distance_matrix[i, j] = average_distance + distance_penalty\n",
        "\n",
        "    return distance_matrix\n",
        "\n",
        "# 最も近いクラスタペアを結合する関数\n",
        "def merge_clusters(clusters, distance_matrix):\n",
        "    min_dist_idx = np.unravel_index(np.argmin(distance_matrix), distance_matrix.shape)\n",
        "    new_clusters = clusters.copy()\n",
        "    new_clusters[min_dist_idx[0]] += new_clusters[min_dist_idx[1]]\n",
        "    new_clusters.pop(min_dist_idx[1])\n",
        "    return new_clusters\n",
        "\n",
        "# 群平均法によるクラスタリングのメイン関数\n",
        "def average_linkage_clustering(data, data_modified,a_distance):\n",
        "    clusters = initialize_clusters(data)\n",
        "    data_modified_scaled = scale_data(data_modified)  # スケーリングされたデータを使用\n",
        "    while len(clusters) > 1:\n",
        "        distance_matrix = calculate_distance_matrix(data, data_modified_scaled, clusters,a_distance)\n",
        "        #print(distance_matrix)\n",
        "        if np.all(distance_matrix == np.inf):  # 全てのクラスタが結合条件を満たさない場合\n",
        "            break\n",
        "        clusters = merge_clusters(clusters, distance_matrix)\n",
        "    return clusters\n"
      ],
      "metadata": {
        "id": "5_p4wR-LQ3eC"
      },
      "execution_count": null,
      "outputs": []
    },
    {
      "cell_type": "code",
      "source": [
        "##実行コード\n",
        "def experiment_average(data,ini_data,a_distance):\n",
        "    ########################################################\n",
        "    # prompt: measure time taking for the code\n",
        "\n",
        "    import time\n",
        "\n",
        "    start_time = time.time()\n",
        "    #########################################################\n",
        "\n",
        "    # データの準備(変更必要)\n",
        "    #data = data_3\n",
        "    #generate_random_lists(300)\n",
        "\n",
        "\n",
        "    # クラスタリングの実行（変更必要）\n",
        "    clusters = average_linkage_clustering(data, make_mod_data(make_bi_data(data)),a_distance)\n",
        "    ##ward or average\n",
        "    #print(clusters)\n",
        "\n",
        "    # 結果の表示\n",
        "    #print(\"最終クラスタ:\")\n",
        "    f_cluster = []\n",
        "\n",
        "    # 各クラスタの要素をdataから参照し、和集合とその要素数を表示\n",
        "    unions=[]\n",
        "    for cluster in clusters:\n",
        "        f_cluster.append(cluster)\n",
        "        union_set = set(item for idx in cluster for item in data[idx])  # 各クラスタに含まれるインデックスのdataの和集合\n",
        "        #print(f\"クラスタ: {cluster}\")\n",
        "        #print(f\"和集合: {union_set}\")\n",
        "        #print(f\"要素数: {len(union_set)}\")\n",
        "        unions.append(union_set)\n",
        "    lists=[]\n",
        "    #初期工具を追加\n",
        "    lists.append(ini_data)\n",
        "\n",
        "    for union in unions: # Iterate over the list of union sets\n",
        "        sub_list=[]\n",
        "        for item in union: # Iterate over each item in the current union set\n",
        "            sub_list.append(item)\n",
        "        lists.append(sub_list)\n",
        "\n",
        "\n",
        "\n",
        "    ##24個に調整するパート\n",
        "    # 各リストの全要素を統合して頻度をカウント\n",
        "    all_elements = [item for sublist in lists for item in sublist]\n",
        "    element_counts = Counter(all_elements)\n",
        "\n",
        "    # 各リストをn個に埋める\n",
        "    n=30\n",
        "    filled_lists = [fill_to_n(lst, element_counts,n) for lst in lists]\n",
        "    print(type(filled_lists))\n",
        "    ##工具交換回数の計算（並べ替え）\n",
        "    # 初期ノードを指定\n",
        "    initial_node = 0\n",
        "\n",
        "    # 最適経路と工具交換回数を計算\n",
        "    optimal_path, min_exchange_count = calculate_optimal_path(filled_lists)\n",
        "    print(f\"最適経路: {optimal_path}\")\n",
        "    print(f\"最小工具交換回数: {min_exchange_count}\")\n",
        "\n",
        "\n",
        "    #####################################################\n",
        "    end_time = time.time()\n",
        "    elapsed_time = end_time - start_time\n",
        "\n",
        "    print(f\"実行時間: {elapsed_time:.4f} 秒\")\n",
        "    #####################################################\n",
        "\n",
        "    return min_exchange_count, elapsed_time\n"
      ],
      "metadata": {
        "id": "elri2xDhQ3eD"
      },
      "execution_count": null,
      "outputs": []
    },
    {
      "cell_type": "markdown",
      "source": [
        "##実行コード"
      ],
      "metadata": {
        "id": "3CoZv6jRQ3eF"
      }
    },
    {
      "cell_type": "code",
      "source": [
        "experiment_average(data_1,ini_60,euclidean_distance)"
      ],
      "metadata": {
        "colab": {
          "base_uri": "https://localhost:8080/"
        },
        "outputId": "b11433d3-a7ad-40fc-a5b3-e78ff86795f7",
        "id": "R0hlINFzQ3eF"
      },
      "execution_count": null,
      "outputs": [
        {
          "output_type": "stream",
          "name": "stderr",
          "text": [
            "<ipython-input-15-f4566678c1c7>:11: RuntimeWarning: divide by zero encountered in divide\n",
            "  inverse_tool_usage = (1 / (tool_usage))\n"
          ]
        },
        {
          "output_type": "stream",
          "name": "stdout",
          "text": [
            "<class 'list'>\n",
            "最適経路: [1, 2, 3, 4, 0]\n",
            "最小工具交換回数: 66.0\n",
            "実行時間: 0.3147 秒\n"
          ]
        },
        {
          "output_type": "execute_result",
          "data": {
            "text/plain": [
              "(66.0, 0.31467342376708984)"
            ]
          },
          "metadata": {},
          "execution_count": 107
        }
      ]
    },
    {
      "cell_type": "markdown",
      "source": [
        "#重心法"
      ],
      "metadata": {
        "id": "AmW0_g9vSPk1"
      }
    },
    {
      "cell_type": "markdown",
      "source": [
        "##関数"
      ],
      "metadata": {
        "id": "q2lQFyHYSPk1"
      }
    },
    {
      "cell_type": "code",
      "source": [
        "##重心法によるクラスタリング\n",
        "import numpy as np\n",
        "from sklearn.preprocessing import MinMaxScaler\n",
        "from collections import Counter\n",
        "\n",
        "# スケーリング用関数\n",
        "def scale_data(data_modified):\n",
        "    scaler = MinMaxScaler()\n",
        "    scaled_data = [scaler.fit_transform(np.array(d).reshape(-1, 1)).flatten() for d in data_modified]\n",
        "    return scaled_data\n",
        "\n",
        "# 距離の二乗を計算する関数\n",
        "def squared_distance(x, y):\n",
        "    x_set, y_set = set(x), set(y)\n",
        "    intersection = x_set & y_set\n",
        "    return len(x_set) + len(y_set) - 2 * len(intersection)\n",
        "\n",
        "# 初期化\n",
        "def initialize_clusters(data):\n",
        "    return [[i] for i in range(len(data))]\n",
        "\n",
        "def calculate_distance_matrix(data, data_modified, clusters,a_distance):\n",
        "    n = len(clusters)\n",
        "    distance_matrix = np.full((n, n), np.inf)\n",
        "\n",
        "    for i in range(n):\n",
        "        for j in range(i + 1, n):\n",
        "            cluster_i = clusters[i]\n",
        "            cluster_j = clusters[j]\n",
        "\n",
        "            # 結合後のデータの和集合を計算\n",
        "            combined_cluster = cluster_i + cluster_j\n",
        "            combined_data = set(item for idx in combined_cluster for item in data[idx])\n",
        "            combined_size = len(combined_data)\n",
        "\n",
        "            # クラスタがmax_numを超えたら距離を無限大に設定して結合を防ぐ\n",
        "            max_num=30\n",
        "            if combined_size > max_num:\n",
        "                continue  # スキップして結合させない\n",
        "\n",
        "            # クラスタの重心を計算する関数\n",
        "            def calculate_centroid(cluster, data):\n",
        "                centroid = np.mean([data[idx] for idx in cluster], axis=0)  # クラスタ内のデータ点の平均\n",
        "                return centroid\n",
        "\n",
        "            # クラスタiとクラスタjの重心を求め、その距離を計算\n",
        "            centroid_i = calculate_centroid(cluster_i, data_modified)\n",
        "            centroid_j = calculate_centroid(cluster_j, data_modified)\n",
        "\n",
        "            # 重心間の距離を計算\n",
        "            centroid_distance = a_distance(centroid_i, centroid_j)#///距離変更/////\n",
        "\n",
        "            # centroid_distance が重心法に基づくクラスタ間の距離になります\n",
        "\n",
        "\n",
        "            # 和集合の要素数がmax_numに近づくほど、距離を小さくする調整\n",
        "            distance_penalty = abs(max_num - combined_size)  # 24に近づくほどペナルティが少ない\n",
        "\n",
        "            distance_matrix[i, j] = centroid_distance + distance_penalty\n",
        "\n",
        "    return distance_matrix\n",
        "\n",
        "# 最も近いクラスタペアを結合する関数\n",
        "def merge_clusters(clusters, distance_matrix):\n",
        "    min_dist_idx = np.unravel_index(np.argmin(distance_matrix), distance_matrix.shape)\n",
        "    new_clusters = clusters.copy()\n",
        "    new_clusters[min_dist_idx[0]] += new_clusters[min_dist_idx[1]]\n",
        "    new_clusters.pop(min_dist_idx[1])\n",
        "    return new_clusters\n",
        "\n",
        "# 重心法によるクラスタリングのメイン関数\n",
        "def centroid_clustering(data, data_modified,a_distance):\n",
        "    clusters = initialize_clusters(data)\n",
        "    data_modified_scaled = scale_data(data_modified)  # スケーリングされたデータを使用\n",
        "    while len(clusters) > 1:\n",
        "        distance_matrix = calculate_distance_matrix(data, data_modified_scaled, clusters,a_distance)\n",
        "        #print(distance_matrix)\n",
        "        if np.all(distance_matrix == np.inf):  # 全てのクラスタが結合条件を満たさない場合\n",
        "            break\n",
        "        clusters = merge_clusters(clusters, distance_matrix)\n",
        "    return clusters\n"
      ],
      "metadata": {
        "id": "4kaWpSOYSPk2"
      },
      "execution_count": null,
      "outputs": []
    },
    {
      "cell_type": "code",
      "source": [
        "##実行コード\n",
        "def experiment_centroid(data,ini_data,a_distance):\n",
        "    ########################################################\n",
        "    # prompt: measure time taking for the code\n",
        "\n",
        "    import time\n",
        "\n",
        "    start_time = time.time()\n",
        "    #########################################################\n",
        "\n",
        "    # データの準備(変更必要)\n",
        "    #data = data_3\n",
        "    #generate_random_lists(300)\n",
        "\n",
        "\n",
        "    # クラスタリングの実行（変更必要）\n",
        "    clusters = centroid_clustering(data, make_mod_data(make_bi_data(data)),a_distance)\n",
        "    ##ward or average\n",
        "    #print(clusters)\n",
        "\n",
        "    # 結果の表示\n",
        "    #print(\"最終クラスタ:\")\n",
        "    f_cluster = []\n",
        "\n",
        "    # 各クラスタの要素をdataから参照し、和集合とその要素数を表示\n",
        "    unions=[]\n",
        "    for cluster in clusters:\n",
        "        f_cluster.append(cluster)\n",
        "        union_set = set(item for idx in cluster for item in data[idx])  # 各クラスタに含まれるインデックスのdataの和集合\n",
        "        #print(f\"クラスタ: {cluster}\")\n",
        "        #print(f\"和集合: {union_set}\")\n",
        "        #print(f\"要素数: {len(union_set)}\")\n",
        "        unions.append(union_set)\n",
        "    lists=[]\n",
        "    #初期工具を追加\n",
        "    lists.append(ini_data)\n",
        "\n",
        "    for union in unions: # Iterate over the list of union sets\n",
        "        sub_list=[]\n",
        "        for item in union: # Iterate over each item in the current union set\n",
        "            sub_list.append(item)\n",
        "        lists.append(sub_list)\n",
        "\n",
        "\n",
        "\n",
        "    ##24個に調整するパート\n",
        "    # 各リストの全要素を統合して頻度をカウント\n",
        "    all_elements = [item for sublist in lists for item in sublist]\n",
        "    element_counts = Counter(all_elements)\n",
        "\n",
        "    # 各リストをn個に埋める\n",
        "    n=30\n",
        "    filled_lists = [fill_to_n(lst, element_counts,n) for lst in lists]\n",
        "    print(type(filled_lists))\n",
        "    ##工具交換回数の計算（並べ替え）\n",
        "    # 初期ノードを指定\n",
        "    initial_node = 0\n",
        "\n",
        "    # 最適経路と工具交換回数を計算\n",
        "    optimal_path, min_exchange_count = calculate_optimal_path(filled_lists)\n",
        "    print(f\"最適経路: {optimal_path}\")\n",
        "    print(f\"最小工具交換回数: {min_exchange_count}\")\n",
        "\n",
        "\n",
        "    #####################################################\n",
        "    end_time = time.time()\n",
        "    elapsed_time = end_time - start_time\n",
        "\n",
        "    print(f\"実行時間: {elapsed_time:.4f} 秒\")\n",
        "    #####################################################\n",
        "\n",
        "    return min_exchange_count, elapsed_time\n",
        "\n"
      ],
      "metadata": {
        "id": "4HnecLqzSnSQ"
      },
      "execution_count": null,
      "outputs": []
    },
    {
      "cell_type": "markdown",
      "source": [
        "##実行コード"
      ],
      "metadata": {
        "id": "qKT3SaeSSPk2"
      }
    },
    {
      "cell_type": "code",
      "source": [
        "experiment_centroid(data_1,ini_60,euclidean_distance)"
      ],
      "metadata": {
        "colab": {
          "base_uri": "https://localhost:8080/"
        },
        "outputId": "ed4c0455-72ed-4105-e56a-275cf421aac8",
        "id": "FWCpePixSPk3"
      },
      "execution_count": null,
      "outputs": [
        {
          "output_type": "stream",
          "name": "stderr",
          "text": [
            "<ipython-input-15-f4566678c1c7>:11: RuntimeWarning: divide by zero encountered in divide\n",
            "  inverse_tool_usage = (1 / (tool_usage))\n"
          ]
        },
        {
          "output_type": "stream",
          "name": "stdout",
          "text": [
            "<class 'list'>\n",
            "最適経路: [1, 2, 3, 4, 0]\n",
            "最小工具交換回数: 66.0\n",
            "実行時間: 1.1357 秒\n"
          ]
        },
        {
          "output_type": "execute_result",
          "data": {
            "text/plain": [
              "(66.0, 1.135650396347046)"
            ]
          },
          "metadata": {},
          "execution_count": 111
        }
      ]
    },
    {
      "cell_type": "markdown",
      "source": [
        "#最短距離法"
      ],
      "metadata": {
        "id": "lUoETc1dNsUO"
      }
    },
    {
      "cell_type": "markdown",
      "source": [
        "##関数"
      ],
      "metadata": {
        "id": "1_EL_XCzNsUP"
      }
    },
    {
      "cell_type": "code",
      "source": [
        "##最短距離法によるクラスタリング\n",
        "import numpy as np\n",
        "from sklearn.preprocessing import MinMaxScaler\n",
        "from collections import Counter\n",
        "\n",
        "# スケーリング用関数\n",
        "def scale_data(data_modified):\n",
        "    scaler = MinMaxScaler()\n",
        "    scaled_data = [scaler.fit_transform(np.array(d).reshape(-1, 1)).flatten() for d in data_modified]\n",
        "    return scaled_data\n",
        "\n",
        "# 距離の二乗を計算する関数\n",
        "def squared_distance(x, y):\n",
        "    x_set, y_set = set(x), set(y)\n",
        "    intersection = x_set & y_set\n",
        "    return len(x_set) + len(y_set) - 2 * len(intersection)\n",
        "\n",
        "# 初期化\n",
        "def initialize_clusters(data):\n",
        "    return [[i] for i in range(len(data))]\n",
        "\n",
        "def min_calculate_distance_matrix(data, data_modified, clusters,a_distance):\n",
        "    n = len(clusters)\n",
        "    distance_matrix = np.full((n, n), np.inf)\n",
        "\n",
        "    for i in range(n):\n",
        "        for j in range(i + 1, n):\n",
        "            cluster_i = clusters[i]\n",
        "            cluster_j = clusters[j]\n",
        "\n",
        "            # 結合後のデータの和集合を計算\n",
        "            combined_cluster = cluster_i + cluster_j\n",
        "            combined_data = set(item for idx in combined_cluster for item in data[idx])\n",
        "            combined_size = len(combined_data)\n",
        "\n",
        "            # クラスタがmax_numを超えたら距離を無限大に設定して結合を防ぐ\n",
        "            max_num=30\n",
        "            if combined_size > max_num:\n",
        "                continue  # スキップして結合させない\n",
        "\n",
        "            # 最短距離法に基づく距離計算\n",
        "\n",
        "            min_distance = float('inf')  # 最短距離を初期化\n",
        "\n",
        "            for idx_i in cluster_i:\n",
        "                for idx_j in cluster_j:\n",
        "\n",
        "                    # 距離を計算\n",
        "                    distance = a_distance(data_modified[idx_i], data_modified[idx_j])#////距離を変更するところ///\n",
        "\n",
        "                    if distance < min_distance:#最短距離を見つける\n",
        "                        min_distance = distance\n",
        "\n",
        "            # 和集合の要素数がmax_numに近づくほど、距離を小さくする調整\n",
        "            distance_penalty = abs(max_num - combined_size)  # max_numに近づくほどペナルティが少ない\n",
        "\n",
        "            distance_matrix[i, j] = min_distance + distance_penalty\n",
        "\n",
        "    return distance_matrix\n",
        "\n",
        "# 最も近いクラスタペアを結合する関数\n",
        "def merge_clusters(clusters, distance_matrix):\n",
        "    min_dist_idx = np.unravel_index(np.argmin(distance_matrix), distance_matrix.shape)\n",
        "    new_clusters = clusters.copy()\n",
        "    new_clusters[min_dist_idx[0]] += new_clusters[min_dist_idx[1]]\n",
        "    new_clusters.pop(min_dist_idx[1])\n",
        "    return new_clusters\n",
        "\n",
        "# 最短距離法によるクラスタリングのメイン関数\n",
        "def min_linkage_clustering(data, data_modified,a_distance):\n",
        "    clusters = initialize_clusters(data)\n",
        "    data_modified_scaled = scale_data(data_modified)  # スケーリングされたデータを使用\n",
        "    while len(clusters) > 1:\n",
        "        distance_matrix = min_calculate_distance_matrix(data, data_modified_scaled, clusters,a_distance)\n",
        "        #print(distance_matrix)\n",
        "        if np.all(distance_matrix == np.inf):  # 全てのクラスタが結合条件を満たさない場合\n",
        "            break\n",
        "        clusters = merge_clusters(clusters, distance_matrix)\n",
        "    return clusters"
      ],
      "metadata": {
        "id": "53db1ab3NsUQ"
      },
      "execution_count": null,
      "outputs": []
    },
    {
      "cell_type": "code",
      "source": [
        "##実行コード\n",
        "def experiment_min(data,ini_data,a_distance):\n",
        "    ########################################################\n",
        "    # prompt: measure time taking for the code\n",
        "\n",
        "    import time\n",
        "\n",
        "    start_time = time.time()\n",
        "    #########################################################\n",
        "\n",
        "    # データの準備(変更必要)\n",
        "    #data = data_3\n",
        "    #generate_random_lists(300)\n",
        "\n",
        "\n",
        "    # クラスタリングの実行（変更必要）\n",
        "    clusters = min_linkage_clustering(data, make_mod_data(make_bi_data(data)),a_distance)\n",
        "    ##ward or average\n",
        "    #print(clusters)\n",
        "\n",
        "    # 結果の表示\n",
        "    #print(\"最終クラスタ:\")\n",
        "    f_cluster = []\n",
        "\n",
        "    # 各クラスタの要素をdataから参照し、和集合とその要素数を表示\n",
        "    unions=[]\n",
        "    for cluster in clusters:\n",
        "        f_cluster.append(cluster)\n",
        "        union_set = set(item for idx in cluster for item in data[idx])  # 各クラスタに含まれるインデックスのdataの和集合\n",
        "        #print(f\"クラスタ: {cluster}\")\n",
        "        #print(f\"和集合: {union_set}\")\n",
        "        #print(f\"要素数: {len(union_set)}\")\n",
        "        unions.append(union_set)\n",
        "    lists=[]\n",
        "    #初期工具を追加\n",
        "    lists.append(ini_data)\n",
        "\n",
        "    for union in unions: # Iterate over the list of union sets\n",
        "        sub_list=[]\n",
        "        for item in union: # Iterate over each item in the current union set\n",
        "            sub_list.append(item)\n",
        "        lists.append(sub_list)\n",
        "\n",
        "\n",
        "\n",
        "    ##24個に調整するパート\n",
        "    # 各リストの全要素を統合して頻度をカウント\n",
        "    all_elements = [item for sublist in lists for item in sublist]\n",
        "    element_counts = Counter(all_elements)\n",
        "\n",
        "    # 各リストをn個に埋める\n",
        "    n=30\n",
        "    filled_lists = [fill_to_n(lst, element_counts,n) for lst in lists]\n",
        "    print(type(filled_lists))\n",
        "    ##工具交換回数の計算（並べ替え）\n",
        "    # 初期ノードを指定\n",
        "    initial_node = 0\n",
        "\n",
        "    # 最適経路と工具交換回数を計算\n",
        "    optimal_path, min_exchange_count = calculate_optimal_path(filled_lists)\n",
        "    print(f\"最適経路: {optimal_path}\")\n",
        "    print(f\"最小工具交換回数: {min_exchange_count}\")\n",
        "\n",
        "\n",
        "    #####################################################\n",
        "    end_time = time.time()\n",
        "    elapsed_time = end_time - start_time\n",
        "\n",
        "    print(f\"実行時間: {elapsed_time:.4f} 秒\")\n",
        "    #####################################################\n",
        "\n",
        "    return min_exchange_count, elapsed_time\n",
        "\n"
      ],
      "metadata": {
        "id": "vCblDlDxNsUR"
      },
      "execution_count": null,
      "outputs": []
    },
    {
      "cell_type": "markdown",
      "source": [
        "##実行コード"
      ],
      "metadata": {
        "id": "cDZ8vWhANsUS"
      }
    },
    {
      "cell_type": "code",
      "source": [
        "experiment_min(data_1,ini_60, chebyshev_distance)"
      ],
      "metadata": {
        "colab": {
          "base_uri": "https://localhost:8080/"
        },
        "id": "9B5CGhQ9B9Tu",
        "outputId": "53c663fe-f7e6-4b8e-89b1-443262ceef6d"
      },
      "execution_count": null,
      "outputs": [
        {
          "output_type": "stream",
          "name": "stderr",
          "text": [
            "<ipython-input-15-f4566678c1c7>:11: RuntimeWarning: divide by zero encountered in divide\n",
            "  inverse_tool_usage = (1 / (tool_usage))\n"
          ]
        },
        {
          "output_type": "stream",
          "name": "stdout",
          "text": [
            "<class 'list'>\n"
          ]
        },
        {
          "output_type": "execute_result",
          "data": {
            "text/plain": [
              "(62.0, 0.7649409770965576)"
            ]
          },
          "metadata": {},
          "execution_count": 101
        }
      ]
    },
    {
      "cell_type": "code",
      "source": [
        "import numpy as np\n",
        "import time\n",
        "\n",
        "# 結果を格納するリスト\n",
        "min_exchange_counts = []\n",
        "elapsed_times = []\n",
        "\n",
        "# データセットのリスト\n",
        "datasets = [data_1, data_2, data_3, data_4, data_5]\n",
        "\n",
        "# 実験を5回実行\n",
        "for data in datasets:\n",
        "    start_time = time.time()  # 実行時間計測の開始\n",
        "    min_exchange_count, elapsed_time = experiment_min(data, ini_50)  # 実験を実行\n",
        "\n",
        "    # 結果をリストに追加\n",
        "    min_exchange_counts.append(min_exchange_count)\n",
        "    elapsed_times.append(elapsed_time)\n",
        "\n",
        "    elapsed_time = time.time() - start_time  # 実行時間計測の終了\n",
        "\n",
        "# min_exchange_countの平均値\n",
        "average_min_exchange_count = np.mean(min_exchange_counts)\n",
        "\n",
        "# elapsed_timeの平均値\n",
        "average_elapsed_time = np.mean(elapsed_times)\n",
        "\n",
        "# 結果を出力\n",
        "print(f\"min_exchange_countの平均: {average_min_exchange_count}\")\n",
        "print(f\"elapsed_timeの平均: {average_elapsed_time}\")\n"
      ],
      "metadata": {
        "colab": {
          "base_uri": "https://localhost:8080/"
        },
        "id": "lhL3eA0hzuL5",
        "outputId": "1a6adaa9-f05c-4d6a-a5f3-28dde01aa9f3"
      },
      "execution_count": null,
      "outputs": [
        {
          "output_type": "stream",
          "name": "stderr",
          "text": [
            "<ipython-input-9-f4566678c1c7>:11: RuntimeWarning: divide by zero encountered in divide\n",
            "  inverse_tool_usage = (1 / (tool_usage))\n"
          ]
        },
        {
          "output_type": "stream",
          "name": "stdout",
          "text": [
            "<class 'list'>\n",
            "最適経路: [4, 3, 1, 5, 2, 0]\n",
            "最小工具交換回数: 80.0\n",
            "実行時間: 0.3069 秒\n"
          ]
        },
        {
          "output_type": "stream",
          "name": "stderr",
          "text": [
            "<ipython-input-9-f4566678c1c7>:11: RuntimeWarning: divide by zero encountered in divide\n",
            "  inverse_tool_usage = (1 / (tool_usage))\n"
          ]
        },
        {
          "output_type": "stream",
          "name": "stdout",
          "text": [
            "<class 'list'>\n",
            "最適経路: [4, 3, 1, 5, 2, 0]\n",
            "最小工具交換回数: 80.0\n",
            "実行時間: 0.3000 秒\n"
          ]
        },
        {
          "output_type": "stream",
          "name": "stderr",
          "text": [
            "<ipython-input-9-f4566678c1c7>:11: RuntimeWarning: divide by zero encountered in divide\n",
            "  inverse_tool_usage = (1 / (tool_usage))\n"
          ]
        },
        {
          "output_type": "stream",
          "name": "stdout",
          "text": [
            "<class 'list'>\n",
            "最適経路: [2, 3, 1, 4, 0]\n",
            "最小工具交換回数: 68.0\n",
            "実行時間: 0.2599 秒\n"
          ]
        },
        {
          "output_type": "stream",
          "name": "stderr",
          "text": [
            "<ipython-input-9-f4566678c1c7>:11: RuntimeWarning: divide by zero encountered in divide\n",
            "  inverse_tool_usage = (1 / (tool_usage))\n"
          ]
        },
        {
          "output_type": "stream",
          "name": "stdout",
          "text": [
            "<class 'list'>\n",
            "最適経路: [3, 5, 1, 2, 4, 0]\n",
            "最小工具交換回数: 74.0\n",
            "実行時間: 0.3481 秒\n"
          ]
        },
        {
          "output_type": "stream",
          "name": "stderr",
          "text": [
            "<ipython-input-9-f4566678c1c7>:11: RuntimeWarning: divide by zero encountered in divide\n",
            "  inverse_tool_usage = (1 / (tool_usage))\n"
          ]
        },
        {
          "output_type": "stream",
          "name": "stdout",
          "text": [
            "<class 'list'>\n",
            "最適経路: [2, 3, 4, 1, 0]\n",
            "最小工具交換回数: 68.0\n",
            "実行時間: 0.2519 秒\n",
            "min_exchange_countの平均: 74.0\n",
            "elapsed_timeの平均: 0.2933570384979248\n"
          ]
        }
      ]
    },
    {
      "cell_type": "markdown",
      "source": [
        "#最長距離法"
      ],
      "metadata": {
        "id": "v5TOc1_eD8B1"
      }
    },
    {
      "cell_type": "markdown",
      "source": [
        "##関数"
      ],
      "metadata": {
        "id": "60AiAVMQD8B2"
      }
    },
    {
      "cell_type": "code",
      "source": [
        "import numpy as np\n",
        "from sklearn.preprocessing import MinMaxScaler\n",
        "from collections import Counter\n",
        "\n",
        "# スケーリング用関数\n",
        "def scale_data(data_modified):\n",
        "    scaled_data = [scaler.fit_transform(np.array(d).reshape(-1, 1)).flatten() for d in data_modified]\n",
        "    return scaled_data\n",
        "\n",
        "# 距離の二乗を計算する関数\n",
        "def squared_distance(x, y):\n",
        "    x_set, y_set = set(x), set(y)\n",
        "    intersection = x_set & y_set\n",
        "    return len(x_set) + len(y_set) - 2 * len(intersection)\n",
        "\n",
        "# 初期化\n",
        "def initialize_clusters(data):\n",
        "    return [[i] for i in range(len(data))]\n",
        "\n",
        "def max_calculate_distance_matrix(data, data_modified, clusters,a_distance):\n",
        "    n = len(clusters)\n",
        "    distance_matrix = np.full((n, n), np.inf)\n",
        "\n",
        "    for i in range(n):\n",
        "        for j in range(i + 1, n):\n",
        "            cluster_i = clusters[i]\n",
        "            cluster_j = clusters[j]\n",
        "\n",
        "            # 結合後のデータの和集合を計算\n",
        "            combined_cluster = cluster_i + cluster_j\n",
        "            combined_data = set(item for idx in combined_cluster for item in data[idx])\n",
        "            combined_size = len(combined_data)\n",
        "\n",
        "            # クラスタがmax_numを超えたら距離を無限大に設定して結合を防ぐ\n",
        "            max_num=30\n",
        "            if combined_size > max_num:\n",
        "                continue  # スキップして結合させない\n",
        "\n",
        "            # 最長距離法に基づく距離計算\n",
        "\n",
        "            max_distance = float('-inf')  # 最長距離を初期化\n",
        "\n",
        "            for idx_i in cluster_i:\n",
        "                for idx_j in cluster_j:\n",
        "                    distance = a_distance(data_modified[idx_i], data_modified[idx_j])#////距離変更/////\n",
        "                    if distance > max_distance:\n",
        "                        max_distance = distance\n",
        "\n",
        "            # max_distanceがクラスタ間の最長距離となります\n",
        "\n",
        "            # 和集合の要素数がmax_numに近づくほど、距離を小さくする調整\n",
        "            distance_penalty = abs(max_num - combined_size)  # max_numに近づくほどペナルティが少ない\n",
        "\n",
        "            distance_matrix[i, j] = -max_distance + distance_penalty\n",
        "\n",
        "    return distance_matrix\n",
        "\n",
        "# 最も近いクラスタペアを結合する関数\n",
        "def merge_clusters(clusters, distance_matrix):\n",
        "    min_dist_idx = np.unravel_index(np.argmin(distance_matrix), distance_matrix.shape)\n",
        "    new_clusters = clusters.copy()\n",
        "    new_clusters[min_dist_idx[0]] += new_clusters[min_dist_idx[1]]\n",
        "    new_clusters.pop(min_dist_idx[1])\n",
        "    return new_clusters\n",
        "\n",
        "# 最長平均法によるクラスタリングのメイン関数\n",
        "def max_linkage_clustering(data, data_modified,a_distance):\n",
        "    clusters = initialize_clusters(data)\n",
        "    data_modified_scaled = scale_data(data_modified)  # スケーリングされたデータを使用\n",
        "    while len(clusters) > 1:\n",
        "        distance_matrix = max_calculate_distance_matrix(data, data_modified_scaled, clusters,a_distance)\n",
        "        #print(distance_matrix)\n",
        "        if np.all(distance_matrix == np.inf):  # 全てのクラスタが結合条件を満たさない場合\n",
        "            break\n",
        "        clusters = merge_clusters(clusters, distance_matrix)\n",
        "    return clusters\n"
      ],
      "metadata": {
        "id": "CVX2JX6AD8B3"
      },
      "execution_count": null,
      "outputs": []
    },
    {
      "cell_type": "code",
      "source": [
        "##実行コード\n",
        "def experiment_max(data,ini_data,a_distance):\n",
        "    ########################################################\n",
        "    # prompt: measure time taking for the code\n",
        "\n",
        "    import time\n",
        "\n",
        "    start_time = time.time()\n",
        "    #########################################################\n",
        "\n",
        "    # データの準備(変更必要)\n",
        "    #data = data_3\n",
        "    #generate_random_lists(300)\n",
        "\n",
        "\n",
        "    # クラスタリングの実行（変更必要）\n",
        "    clusters = max_linkage_clustering(data, make_mod_data(make_bi_data(data)),a_distance)\n",
        "    ##ward or average\n",
        "    #print(clusters)\n",
        "\n",
        "    # 結果の表示\n",
        "    #print(\"最終クラスタ:\")\n",
        "    f_cluster = []\n",
        "\n",
        "    # 各クラスタの要素をdataから参照し、和集合とその要素数を表示\n",
        "    unions=[]\n",
        "    for cluster in clusters:\n",
        "        f_cluster.append(cluster)\n",
        "        union_set = set(item for idx in cluster for item in data[idx])  # 各クラスタに含まれるインデックスのdataの和集合\n",
        "        #print(f\"クラスタ: {cluster}\")\n",
        "        #print(f\"和集合: {union_set}\")\n",
        "        #print(f\"要素数: {len(union_set)}\")\n",
        "        unions.append(union_set)\n",
        "    lists=[]\n",
        "    #初期工具を追加\n",
        "    lists.append(ini_data)\n",
        "\n",
        "    for union in unions: # Iterate over the list of union sets\n",
        "        sub_list=[]\n",
        "        for item in union: # Iterate over each item in the current union set\n",
        "            sub_list.append(item)\n",
        "        lists.append(sub_list)\n",
        "\n",
        "\n",
        "\n",
        "    ##24個に調整するパート\n",
        "    # 各リストの全要素を統合して頻度をカウント\n",
        "    all_elements = [item for sublist in lists for item in sublist]\n",
        "    element_counts = Counter(all_elements)\n",
        "\n",
        "    # 各リストをn個に埋める\n",
        "    n=30\n",
        "    filled_lists = [fill_to_n(lst, element_counts,n) for lst in lists]\n",
        "    print(type(filled_lists))\n",
        "    ##工具交換回数の計算（並べ替え）\n",
        "    # 初期ノードを指定\n",
        "    initial_node = 0\n",
        "\n",
        "    # 最適経路と工具交換回数を計算\n",
        "    optimal_path, min_exchange_count = calculate_optimal_path(filled_lists)\n",
        "    print(f\"最適経路: {optimal_path}\")\n",
        "    print(f\"最小工具交換回数: {min_exchange_count}\")\n",
        "\n",
        "\n",
        "    #####################################################\n",
        "    end_time = time.time()\n",
        "    elapsed_time = end_time - start_time\n",
        "\n",
        "    print(f\"実行時間: {elapsed_time:.4f} 秒\")\n",
        "    #####################################################\n",
        "\n",
        "    return min_exchange_count, elapsed_time\n",
        "\n"
      ],
      "metadata": {
        "id": "vfwg38dyF8PB"
      },
      "execution_count": null,
      "outputs": []
    },
    {
      "cell_type": "markdown",
      "source": [
        "##実行コード"
      ],
      "metadata": {
        "id": "t_BLPsCrD8B4"
      }
    },
    {
      "cell_type": "code",
      "source": [
        "experiment_max(data_1,ini_60,euclidean_distance)"
      ],
      "metadata": {
        "colab": {
          "base_uri": "https://localhost:8080/"
        },
        "id": "K06sbT_3GLeA",
        "outputId": "e78c9add-23a6-434e-bbfd-a5d2eef2daeb"
      },
      "execution_count": null,
      "outputs": [
        {
          "output_type": "stream",
          "name": "stderr",
          "text": [
            "<ipython-input-15-f4566678c1c7>:11: RuntimeWarning: divide by zero encountered in divide\n",
            "  inverse_tool_usage = (1 / (tool_usage))\n"
          ]
        },
        {
          "output_type": "stream",
          "name": "stdout",
          "text": [
            "<class 'list'>\n",
            "最適経路: [1, 3, 2, 0]\n",
            "最小工具交換回数: 58.0\n",
            "実行時間: 0.3091 秒\n"
          ]
        },
        {
          "output_type": "execute_result",
          "data": {
            "text/plain": [
              "(58.0, 0.30905795097351074)"
            ]
          },
          "metadata": {},
          "execution_count": 114
        }
      ]
    },
    {
      "cell_type": "markdown",
      "source": [
        "#ウォード法"
      ],
      "metadata": {
        "id": "Av7UzUPdPyOo"
      }
    },
    {
      "cell_type": "markdown",
      "source": [
        "##関数"
      ],
      "metadata": {
        "id": "XxpX6dH_PyOq"
      }
    },
    {
      "cell_type": "code",
      "source": [
        "##ウォード法によるクラスタリング\n",
        "import numpy as np\n",
        "from sklearn.preprocessing import MinMaxScaler\n",
        "from collections import Counter\n",
        "\n",
        "# スケーリング用関数\n",
        "def scale_data(data_modified):\n",
        "    scaler = MinMaxScaler()\n",
        "    scaled_data = [scaler.fit_transform(np.array(d).reshape(-1, 1)).flatten() for d in data_modified]\n",
        "    return scaled_data\n",
        "\n",
        "# 距離の二乗を計算する関数\n",
        "def squared_distance(x, y):\n",
        "    x_set, y_set = set(x), set(y)\n",
        "    intersection = x_set & y_set\n",
        "    return len(x_set) + len(y_set) - 2 * len(intersection)\n",
        "\n",
        "# 初期化\n",
        "def initialize_clusters(data):\n",
        "    return [[i] for i in range(len(data))]\n",
        "import numpy as np\n",
        "\n",
        "# ユークリッド距離を計算する関数\n",
        "def euclidean_distance(vec1, vec2):\n",
        "    return np.sqrt(np.sum((np.array(vec1) - np.array(vec2)) ** 2))\n",
        "\n",
        "# クラスタ間の距離を計算する関数\n",
        "def calculate_distance_matrix(data, data_modified, clusters,a_distance):\n",
        "    n = len(clusters)\n",
        "    distance_matrix = np.full((n, n), np.inf)\n",
        "\n",
        "    for i in range(n):\n",
        "        for j in range(i + 1, n):\n",
        "            cluster_i = clusters[i]\n",
        "            cluster_j = clusters[j]\n",
        "            combined_cluster = cluster_i + cluster_j\n",
        "\n",
        "            # 結合後のデータの和集合を計算\n",
        "            combined_data = set(item for idx in combined_cluster for item in data[idx])\n",
        "            combined_size = len(combined_data)\n",
        "\n",
        "            # 結合後のユニーク要素数が24に近いほど、距離を小さくする\n",
        "            max_num=30\n",
        "            if combined_size <= max_num:\n",
        "                # クラスタ間の距離をリストの共通部分に基づいて計算\n",
        "                mean_combined = list(combined_data)  # ユニークな要素の集合をリストに変換\n",
        "                mean_combined=create_binary_array(mean_combined)\n",
        "                dist_combined = np.sum([a_distance(data_modified[idx], mean_combined) for idx in combined_cluster])\n",
        "                dist_i = np.sum([a_distance(data_modified[idx], data_modified[cluster_i[0]]) for idx in cluster_i])\n",
        "                dist_j = np.sum([a_distance(data_modified[idx], data_modified[cluster_j[0]]) for idx in cluster_j])\n",
        "\n",
        "                # 和集合の要素数がmax_numに近づくほど、距離を小さくする調整\n",
        "                distance_penalty = abs(max_num - combined_size)  # max_numに近づくほどペナルティが少ない\n",
        "                distance_matrix[i, j] = dist_combined - dist_i - dist_j + distance_penalty\n",
        "            else:\n",
        "                # 結合後の要素数が極端に少ない場合や多すぎる場合にペナルティを与える\n",
        "                distance_penalty = (abs(max_num - combined_size)) ** 2  # 平方にすることで極端に少ない/多い場合に強いペナルティ\n",
        "\n",
        "    return distance_matrix\n",
        "\n",
        "\n",
        "\n",
        "# 最も近いクラスタペアを結合する関数\n",
        "def merge_clusters(clusters, distance_matrix):\n",
        "    min_dist_idx = np.unravel_index(np.argmin(distance_matrix), distance_matrix.shape)\n",
        "    new_clusters = clusters.copy()\n",
        "    new_clusters[min_dist_idx[0]] += new_clusters[min_dist_idx[1]]\n",
        "    new_clusters.pop(min_dist_idx[1])\n",
        "    return new_clusters\n",
        "\n",
        "# ウォード法によるクラスタリングのメイン関数\n",
        "def ward_clustering(data, data_modified,a_distance):\n",
        "    clusters = initialize_clusters(data)\n",
        "    data_modified_scaled = scale_data(data_modified)  # スケーリングされたデータを使用\n",
        "    while len(clusters) > 1:\n",
        "        distance_matrix = calculate_distance_matrix(data, data_modified_scaled, clusters,a_distance)\n",
        "        if np.all(distance_matrix == np.inf):  # 全てのクラスタが結合条件を満たさない場合\n",
        "            break\n",
        "        clusters = merge_clusters(clusters, distance_matrix)\n",
        "    return clusters"
      ],
      "metadata": {
        "id": "qX6uNYyjPyOr"
      },
      "execution_count": null,
      "outputs": []
    },
    {
      "cell_type": "code",
      "source": [
        "##実行コード\n",
        "def experiment_ward(data,ini_data,a_distance):\n",
        "    ########################################################\n",
        "    # prompt: measure time taking for the code\n",
        "\n",
        "    import time\n",
        "\n",
        "    start_time = time.time()\n",
        "    #########################################################\n",
        "\n",
        "    # データの準備(変更必要)\n",
        "    #data = data_3\n",
        "    #generate_random_lists(300)\n",
        "\n",
        "\n",
        "    # クラスタリングの実行（変更必要）\n",
        "    clusters = ward_clustering(data, make_mod_data(make_bi_data(data)),a_distance)\n",
        "    ##ward or average\n",
        "    #print(clusters)\n",
        "\n",
        "    # 結果の表示\n",
        "    #print(\"最終クラスタ:\")\n",
        "    f_cluster = []\n",
        "\n",
        "    # 各クラスタの要素をdataから参照し、和集合とその要素数を表示\n",
        "    unions=[]\n",
        "    for cluster in clusters:\n",
        "        f_cluster.append(cluster)\n",
        "        union_set = set(item for idx in cluster for item in data[idx])  # 各クラスタに含まれるインデックスのdataの和集合\n",
        "        #print(f\"クラスタ: {cluster}\")\n",
        "        #print(f\"和集合: {union_set}\")\n",
        "        #print(f\"要素数: {len(union_set)}\")\n",
        "        unions.append(union_set)\n",
        "    lists=[]\n",
        "    #初期工具を追加\n",
        "    lists.append(ini_data)\n",
        "\n",
        "    for union in unions: # Iterate over the list of union sets\n",
        "        sub_list=[]\n",
        "        for item in union: # Iterate over each item in the current union set\n",
        "            sub_list.append(item)\n",
        "        lists.append(sub_list)\n",
        "\n",
        "\n",
        "\n",
        "    ##24個に調整するパート\n",
        "    # 各リストの全要素を統合して頻度をカウント\n",
        "    all_elements = [item for sublist in lists for item in sublist]\n",
        "    element_counts = Counter(all_elements)\n",
        "\n",
        "    # 各リストをn個に埋める\n",
        "    n=30\n",
        "    filled_lists = [fill_to_n(lst, element_counts,n) for lst in lists]\n",
        "    print(type(filled_lists))\n",
        "    ##工具交換回数の計算（並べ替え）\n",
        "    # 初期ノードを指定\n",
        "    initial_node = 0\n",
        "\n",
        "    # 最適経路と工具交換回数を計算\n",
        "    optimal_path, min_exchange_count = calculate_optimal_path(filled_lists)\n",
        "    print(f\"最適経路: {optimal_path}\")\n",
        "    print(f\"最小工具交換回数: {min_exchange_count}\")\n",
        "\n",
        "\n",
        "    #####################################################\n",
        "    end_time = time.time()\n",
        "    elapsed_time = end_time - start_time\n",
        "\n",
        "    print(f\"実行時間: {elapsed_time:.4f} 秒\")\n",
        "    #####################################################\n",
        "\n",
        "    return min_exchange_count, elapsed_time\n",
        "\n"
      ],
      "metadata": {
        "id": "YdQKQum-PyOs"
      },
      "execution_count": null,
      "outputs": []
    },
    {
      "cell_type": "markdown",
      "source": [
        "##実行コード"
      ],
      "metadata": {
        "id": "KSBearO0PyOt"
      }
    },
    {
      "cell_type": "code",
      "source": [
        "experiment_ward(data_1,ini_60,euclidean_distance)"
      ],
      "metadata": {
        "colab": {
          "base_uri": "https://localhost:8080/"
        },
        "outputId": "198ac0aa-dbf2-413b-91ec-c417a8e572ea",
        "id": "GgsUn52jPyOt"
      },
      "execution_count": null,
      "outputs": [
        {
          "output_type": "stream",
          "name": "stderr",
          "text": [
            "<ipython-input-15-f4566678c1c7>:11: RuntimeWarning: divide by zero encountered in divide\n",
            "  inverse_tool_usage = (1 / (tool_usage))\n"
          ]
        },
        {
          "output_type": "stream",
          "name": "stdout",
          "text": [
            "<class 'list'>\n",
            "最適経路: [1, 4, 5, 2, 3, 0]\n",
            "最小工具交換回数: 64.0\n",
            "実行時間: 2.0874 秒\n"
          ]
        },
        {
          "output_type": "execute_result",
          "data": {
            "text/plain": [
              "(64.0, 2.0874183177948)"
            ]
          },
          "metadata": {},
          "execution_count": 117
        }
      ]
    },
    {
      "cell_type": "markdown",
      "source": [
        "#ランダムデータの作成"
      ],
      "metadata": {
        "id": "zx3F8CODgIDH"
      }
    },
    {
      "cell_type": "code",
      "source": [
        "#300個のデータを最低2個，最高20個で70種類からランダムに300個選ぶ\n",
        "created_data=generate_random_lists(300, min_num=1, max_num=70, max_len=20)"
      ],
      "metadata": {
        "id": "BiUvVfSLkJKW"
      },
      "execution_count": null,
      "outputs": []
    },
    {
      "cell_type": "code",
      "source": [
        "#ランダムデータを作る関数\n",
        "def make_random_data(times,p_number,data_sample):\n",
        "  data_random=[]\n",
        "  for k in range(times):\n",
        "    data_random.append(random_sample_lists(data_sample, p_number))#times回，p_numberの規模のデータを作る\n",
        "\n",
        "  return data_random"
      ],
      "metadata": {
        "id": "kFcC57YpduNY"
      },
      "execution_count": null,
      "outputs": []
    },
    {
      "cell_type": "markdown",
      "source": [
        "#まとめて実験"
      ],
      "metadata": {
        "id": "IMsap5S83xrF"
      }
    },
    {
      "cell_type": "code",
      "source": [
        "def experiment_by_distance(experiment_way,datasets,b_distance):\n",
        "\n",
        "    import numpy as np\n",
        "    import time\n",
        "\n",
        "    # 結果を格納するリスト\n",
        "    min_exchange_counts = []\n",
        "    elapsed_times = []\n",
        "\n",
        "    # データセットのリスト（自力で設定する場合）\n",
        "    #datasets = [data_100_1,data_100_2,data_100_3,data_100_4,data_100_5]\n",
        "\n",
        "    #ランダムにデータを生成\n",
        "    #repared_data=make_random_data(5,50,created_data)\n",
        "    #datasets=[]\n",
        "\n",
        "    #データセットに保存\n",
        "    #for k in range(len(prepared_data)):\n",
        "     # datasets.append(prepared_data[k])\n",
        "\n",
        "    #実験\n",
        "    for data in datasets:\n",
        "        start_time = time.time()  # 実行時間計測の開始\n",
        "        min_exchange_count, elapsed_time = experiment_way(data, ini_50,b_distance)  # 実験を実行 #///experimen_Aの部分を手法に応じて変更///\n",
        "\n",
        "        # 結果をリストに追加\n",
        "        min_exchange_counts.append(min_exchange_count)\n",
        "        elapsed_times.append(elapsed_time)\n",
        "\n",
        "        elapsed_time = time.time() - start_time  # 実行時間計測の終了\n",
        "\n",
        "    # min_exchange_countの平均値\n",
        "    average_min_exchange_count = np.mean(min_exchange_counts)\n",
        "\n",
        "    # elapsed_timeの平均値\n",
        "    average_elapsed_time = np.mean(elapsed_times)\n",
        "\n",
        "    # 結果を出力\n",
        "    #print(f\"min_exchange_countの平均: {average_min_exchange_count}\")\n",
        "    #print(f\"elapsed_timeの平均: {average_elapsed_time}\")\n",
        "    return average_min_exchange_count, average_elapsed_time\n"
      ],
      "metadata": {
        "id": "JasheBdM30s8"
      },
      "execution_count": null,
      "outputs": []
    },
    {
      "cell_type": "code",
      "source": [
        "datasets_50=[]\n",
        "prepared_data=make_random_data(times=50,p_number=50,data_sample=created_data)\n",
        "for k in range(len(prepared_data)):\n",
        "  datasets_50.append(prepared_data[k])"
      ],
      "metadata": {
        "id": "DeGMOu_CltDE"
      },
      "execution_count": null,
      "outputs": []
    },
    {
      "cell_type": "code",
      "source": [
        "# 実験手法と距離のリスト\n",
        "experiment_methods = [\n",
        "    \"experiment_min\",\n",
        "    \"experiment_max\",\n",
        "    \"experiment_average\",\n",
        "    \"experiment_centroid\",\n",
        "    \"experiment_ward\"\n",
        "]\n",
        "\n",
        "distance_metrics = [\n",
        "    \"euclidean_distance\",\n",
        "    \"manhattan_distance\",\n",
        "    \"mahalanobis_distance\",\n",
        "    \"minkowski_distance\",\n",
        "    \"chebyshev_distance\"\n",
        "]\n",
        "\n",
        "# データセットの仮定（例として datasets_50 を使用）\n",
        "datasets = datasets_50  # ここに実際のデータセットを指定してください\n",
        "\n",
        "# 結果を保存するリスト\n",
        "results = []\n",
        "\n",
        "# すべての組み合わせで実験を実行\n",
        "for experiment_way_str  in experiment_methods:\n",
        "    for b_distance_str in distance_metrics:\n",
        "\n",
        "        # experiment_way_str に対応する関数を取得\n",
        "        experiment_way = globals()[experiment_way_str]\n",
        "\n",
        "        # b_distance_str に対応する距離計算関数を取得\n",
        "        b_distance = globals()[b_distance_str]\n",
        "\n",
        "        # 実験を実行し、結果を取得\n",
        "        re_count, re_time = experiment_by_distance(experiment_way, datasets, b_distance)\n",
        "\n",
        "        # 結果を保存\n",
        "        result_tuple = (experiment_way, b_distance, re_count, re_time)\n",
        "        results.append(result_tuple)\n",
        "\n",
        "# 結果を出力（表示）\n",
        "#for result in results:\n",
        "#    print(result)\n",
        "\n",
        "import csv\n",
        "\n",
        "# 与えられたデータ\n",
        "data = results\n",
        "\n",
        "# 出力するCSVファイルのパス（Google Driveをマウントしている場合）\n",
        "csv_file_path = '/content/drive/My Drive/bachelor_thesis/experiment_results_50.csv'  # Driveの正しいパスを指定\n",
        "\n",
        "# CSVファイルにデータを書き込む\n",
        "with open(csv_file_path, mode='w', newline='') as file:\n",
        "    writer = csv.writer(file)\n",
        "    # ヘッダーを書き込み\n",
        "    writer.writerow([\"Experiment Method\", \"Distance Metric\", \"Re_count\", \"Re_time\"])\n",
        "    # データを書き込み\n",
        "    writer.writerows(data)\n",
        "\n",
        "print(f\"CSV file saved to {csv_file_path}\")\n"
      ],
      "metadata": {
        "colab": {
          "base_uri": "https://localhost:8080/"
        },
        "id": "7BMSv-CzpUUc",
        "outputId": "9d368322-5641-43c3-d9bc-f72cc9a14eb7"
      },
      "execution_count": null,
      "outputs": [
        {
          "output_type": "stream",
          "name": "stderr",
          "text": [
            "<ipython-input-15-f4566678c1c7>:11: RuntimeWarning: divide by zero encountered in divide\n",
            "  inverse_tool_usage = (1 / (tool_usage))\n"
          ]
        },
        {
          "output_type": "stream",
          "name": "stdout",
          "text": [
            "<class 'list'>\n",
            "最適経路: [2, 13, 4, 11, 10, 7, 1, 3, 5, 6, 9, 12, 8, 0]\n",
            "最小工具交換回数: 362.0\n",
            "実行時間: 2.2136 秒\n"
          ]
        },
        {
          "output_type": "stream",
          "name": "stderr",
          "text": [
            "<ipython-input-15-f4566678c1c7>:11: RuntimeWarning: divide by zero encountered in divide\n",
            "  inverse_tool_usage = (1 / (tool_usage))\n"
          ]
        },
        {
          "output_type": "stream",
          "name": "stdout",
          "text": [
            "<class 'list'>\n",
            "最適経路: [3, 8, 5, 11, 2, 7, 10, 1, 9, 12, 6, 4, 0]\n",
            "最小工具交換回数: 336.0\n",
            "実行時間: 0.7703 秒\n"
          ]
        },
        {
          "output_type": "stream",
          "name": "stderr",
          "text": [
            "<ipython-input-15-f4566678c1c7>:11: RuntimeWarning: divide by zero encountered in divide\n",
            "  inverse_tool_usage = (1 / (tool_usage))\n"
          ]
        },
        {
          "output_type": "stream",
          "name": "stdout",
          "text": [
            "<class 'list'>\n",
            "最適経路: [10, 9, 3, 8, 5, 6, 7, 4, 1, 2, 0]\n",
            "最小工具交換回数: 282.0\n",
            "実行時間: 0.3404 秒\n"
          ]
        },
        {
          "output_type": "stream",
          "name": "stderr",
          "text": [
            "<ipython-input-15-f4566678c1c7>:11: RuntimeWarning: divide by zero encountered in divide\n",
            "  inverse_tool_usage = (1 / (tool_usage))\n"
          ]
        },
        {
          "output_type": "stream",
          "name": "stdout",
          "text": [
            "<class 'list'>\n",
            "最適経路: [3, 7, 6, 11, 1, 12, 8, 5, 10, 2, 4, 9, 0]\n",
            "最小工具交換回数: 336.0\n",
            "実行時間: 0.7850 秒\n"
          ]
        },
        {
          "output_type": "stream",
          "name": "stderr",
          "text": [
            "<ipython-input-15-f4566678c1c7>:11: RuntimeWarning: divide by zero encountered in divide\n",
            "  inverse_tool_usage = (1 / (tool_usage))\n"
          ]
        },
        {
          "output_type": "stream",
          "name": "stdout",
          "text": [
            "<class 'list'>\n",
            "最適経路: [1, 2, 4, 9, 10, 11, 6, 5, 8, 7, 3, 0]\n",
            "最小工具交換回数: 310.0\n",
            "実行時間: 0.4895 秒\n"
          ]
        },
        {
          "output_type": "stream",
          "name": "stderr",
          "text": [
            "<ipython-input-15-f4566678c1c7>:11: RuntimeWarning: divide by zero encountered in divide\n",
            "  inverse_tool_usage = (1 / (tool_usage))\n"
          ]
        },
        {
          "output_type": "stream",
          "name": "stdout",
          "text": [
            "<class 'list'>\n",
            "最適経路: [9, 3, 10, 4, 5, 2, 7, 1, 8, 6, 0]\n",
            "最小工具交換回数: 284.0\n",
            "実行時間: 0.3458 秒\n"
          ]
        },
        {
          "output_type": "stream",
          "name": "stderr",
          "text": [
            "<ipython-input-15-f4566678c1c7>:11: RuntimeWarning: divide by zero encountered in divide\n",
            "  inverse_tool_usage = (1 / (tool_usage))\n"
          ]
        },
        {
          "output_type": "stream",
          "name": "stdout",
          "text": [
            "<class 'list'>\n",
            "最適経路: [1, 3, 4, 5, 7, 9, 8, 2, 6, 10, 0]\n",
            "最小工具交換回数: 278.0\n",
            "実行時間: 0.3551 秒\n"
          ]
        },
        {
          "output_type": "stream",
          "name": "stderr",
          "text": [
            "<ipython-input-15-f4566678c1c7>:11: RuntimeWarning: divide by zero encountered in divide\n",
            "  inverse_tool_usage = (1 / (tool_usage))\n"
          ]
        },
        {
          "output_type": "stream",
          "name": "stdout",
          "text": [
            "<class 'list'>\n",
            "最適経路: [8, 11, 9, 10, 2, 4, 3, 5, 6, 1, 7, 0]\n",
            "最小工具交換回数: 302.0\n",
            "実行時間: 0.4995 秒\n"
          ]
        },
        {
          "output_type": "stream",
          "name": "stderr",
          "text": [
            "<ipython-input-15-f4566678c1c7>:11: RuntimeWarning: divide by zero encountered in divide\n",
            "  inverse_tool_usage = (1 / (tool_usage))\n"
          ]
        },
        {
          "output_type": "stream",
          "name": "stdout",
          "text": [
            "<class 'list'>\n",
            "最適経路: [8, 5, 11, 10, 3, 4, 7, 2, 6, 9, 1, 0]\n",
            "最小工具交換回数: 316.0\n",
            "実行時間: 0.4797 秒\n"
          ]
        },
        {
          "output_type": "stream",
          "name": "stderr",
          "text": [
            "<ipython-input-15-f4566678c1c7>:11: RuntimeWarning: divide by zero encountered in divide\n",
            "  inverse_tool_usage = (1 / (tool_usage))\n"
          ]
        },
        {
          "output_type": "stream",
          "name": "stdout",
          "text": [
            "<class 'list'>\n",
            "最適経路: [6, 2, 8, 10, 3, 4, 7, 1, 12, 5, 11, 9, 0]\n",
            "最小工具交換回数: 342.0\n",
            "実行時間: 0.8091 秒\n"
          ]
        },
        {
          "output_type": "stream",
          "name": "stderr",
          "text": [
            "<ipython-input-15-f4566678c1c7>:11: RuntimeWarning: divide by zero encountered in divide\n",
            "  inverse_tool_usage = (1 / (tool_usage))\n"
          ]
        },
        {
          "output_type": "stream",
          "name": "stdout",
          "text": [
            "<class 'list'>\n",
            "最適経路: [4, 11, 3, 9, 2, 1, 7, 5, 8, 10, 6, 0]\n",
            "最小工具交換回数: 318.0\n",
            "実行時間: 0.5219 秒\n"
          ]
        },
        {
          "output_type": "stream",
          "name": "stderr",
          "text": [
            "<ipython-input-15-f4566678c1c7>:11: RuntimeWarning: divide by zero encountered in divide\n",
            "  inverse_tool_usage = (1 / (tool_usage))\n"
          ]
        },
        {
          "output_type": "stream",
          "name": "stdout",
          "text": [
            "<class 'list'>\n",
            "最適経路: [7, 6, 4, 5, 2, 8, 9, 1, 3, 10, 0]\n",
            "最小工具交換回数: 278.0\n",
            "実行時間: 0.3314 秒\n"
          ]
        },
        {
          "output_type": "stream",
          "name": "stderr",
          "text": [
            "<ipython-input-15-f4566678c1c7>:11: RuntimeWarning: divide by zero encountered in divide\n",
            "  inverse_tool_usage = (1 / (tool_usage))\n"
          ]
        },
        {
          "output_type": "stream",
          "name": "stdout",
          "text": [
            "<class 'list'>\n",
            "最適経路: [5, 4, 9, 7, 8, 1, 11, 3, 2, 6, 10, 0]\n",
            "最小工具交換回数: 292.0\n",
            "実行時間: 0.5064 秒\n"
          ]
        },
        {
          "output_type": "stream",
          "name": "stderr",
          "text": [
            "<ipython-input-15-f4566678c1c7>:11: RuntimeWarning: divide by zero encountered in divide\n",
            "  inverse_tool_usage = (1 / (tool_usage))\n"
          ]
        },
        {
          "output_type": "stream",
          "name": "stdout",
          "text": [
            "<class 'list'>\n",
            "最適経路: [8, 2, 6, 11, 3, 7, 9, 10, 5, 4, 1, 0]\n",
            "最小工具交換回数: 306.0\n",
            "実行時間: 0.4731 秒\n"
          ]
        },
        {
          "output_type": "stream",
          "name": "stderr",
          "text": [
            "<ipython-input-15-f4566678c1c7>:11: RuntimeWarning: divide by zero encountered in divide\n",
            "  inverse_tool_usage = (1 / (tool_usage))\n"
          ]
        },
        {
          "output_type": "stream",
          "name": "stdout",
          "text": [
            "<class 'list'>\n",
            "最適経路: [8, 12, 7, 9, 6, 4, 10, 1, 11, 5, 2, 3, 0]\n",
            "最小工具交換回数: 334.0\n",
            "実行時間: 0.7867 秒\n"
          ]
        },
        {
          "output_type": "stream",
          "name": "stderr",
          "text": [
            "<ipython-input-15-f4566678c1c7>:11: RuntimeWarning: divide by zero encountered in divide\n",
            "  inverse_tool_usage = (1 / (tool_usage))\n"
          ]
        },
        {
          "output_type": "stream",
          "name": "stdout",
          "text": [
            "<class 'list'>\n",
            "最適経路: [1, 10, 3, 7, 11, 5, 6, 2, 4, 9, 8, 0]\n",
            "最小工具交換回数: 296.0\n",
            "実行時間: 0.4954 秒\n"
          ]
        },
        {
          "output_type": "stream",
          "name": "stderr",
          "text": [
            "<ipython-input-15-f4566678c1c7>:11: RuntimeWarning: divide by zero encountered in divide\n",
            "  inverse_tool_usage = (1 / (tool_usage))\n"
          ]
        },
        {
          "output_type": "stream",
          "name": "stdout",
          "text": [
            "<class 'list'>\n",
            "最適経路: [1, 4, 9, 7, 5, 3, 6, 10, 11, 8, 2, 0]\n",
            "最小工具交換回数: 310.0\n",
            "実行時間: 0.5323 秒\n"
          ]
        },
        {
          "output_type": "stream",
          "name": "stderr",
          "text": [
            "<ipython-input-15-f4566678c1c7>:11: RuntimeWarning: divide by zero encountered in divide\n",
            "  inverse_tool_usage = (1 / (tool_usage))\n"
          ]
        },
        {
          "output_type": "stream",
          "name": "stdout",
          "text": [
            "<class 'list'>\n",
            "最適経路: [5, 2, 7, 1, 10, 6, 4, 8, 3, 9, 11, 12, 0]\n",
            "最小工具交換回数: 334.0\n",
            "実行時間: 0.8081 秒\n"
          ]
        },
        {
          "output_type": "stream",
          "name": "stderr",
          "text": [
            "<ipython-input-15-f4566678c1c7>:11: RuntimeWarning: divide by zero encountered in divide\n",
            "  inverse_tool_usage = (1 / (tool_usage))\n"
          ]
        },
        {
          "output_type": "stream",
          "name": "stdout",
          "text": [
            "<class 'list'>\n",
            "最適経路: [9, 6, 10, 1, 5, 7, 11, 8, 4, 3, 2, 0]\n",
            "最小工具交換回数: 300.0\n",
            "実行時間: 0.7654 秒\n"
          ]
        },
        {
          "output_type": "stream",
          "name": "stderr",
          "text": [
            "<ipython-input-15-f4566678c1c7>:11: RuntimeWarning: divide by zero encountered in divide\n",
            "  inverse_tool_usage = (1 / (tool_usage))\n"
          ]
        },
        {
          "output_type": "stream",
          "name": "stdout",
          "text": [
            "<class 'list'>\n",
            "最適経路: [4, 1, 7, 9, 10, 5, 11, 8, 3, 2, 6, 0]\n",
            "最小工具交換回数: 306.0\n",
            "実行時間: 0.7780 秒\n"
          ]
        },
        {
          "output_type": "stream",
          "name": "stderr",
          "text": [
            "<ipython-input-15-f4566678c1c7>:11: RuntimeWarning: divide by zero encountered in divide\n",
            "  inverse_tool_usage = (1 / (tool_usage))\n"
          ]
        },
        {
          "output_type": "stream",
          "name": "stdout",
          "text": [
            "<class 'list'>\n",
            "最適経路: [4, 13, 10, 5, 6, 2, 3, 9, 8, 1, 12, 11, 7, 0]\n",
            "最小工具交換回数: 372.0\n",
            "実行時間: 2.7314 秒\n"
          ]
        },
        {
          "output_type": "stream",
          "name": "stderr",
          "text": [
            "<ipython-input-15-f4566678c1c7>:11: RuntimeWarning: divide by zero encountered in divide\n",
            "  inverse_tool_usage = (1 / (tool_usage))\n"
          ]
        },
        {
          "output_type": "stream",
          "name": "stdout",
          "text": [
            "<class 'list'>\n",
            "最適経路: [3, 7, 5, 9, 10, 6, 11, 1, 2, 8, 4, 12, 0]\n",
            "最小工具交換回数: 320.0\n",
            "実行時間: 1.0179 秒\n"
          ]
        },
        {
          "output_type": "stream",
          "name": "stderr",
          "text": [
            "<ipython-input-15-f4566678c1c7>:11: RuntimeWarning: divide by zero encountered in divide\n",
            "  inverse_tool_usage = (1 / (tool_usage))\n"
          ]
        },
        {
          "output_type": "stream",
          "name": "stdout",
          "text": [
            "<class 'list'>\n",
            "最適経路: [1, 10, 2, 7, 9, 6, 4, 5, 11, 3, 8, 0]\n",
            "最小工具交換回数: 306.0\n",
            "実行時間: 0.4793 秒\n"
          ]
        },
        {
          "output_type": "stream",
          "name": "stderr",
          "text": [
            "<ipython-input-15-f4566678c1c7>:11: RuntimeWarning: divide by zero encountered in divide\n",
            "  inverse_tool_usage = (1 / (tool_usage))\n"
          ]
        },
        {
          "output_type": "stream",
          "name": "stdout",
          "text": [
            "<class 'list'>\n",
            "最適経路: [1, 8, 5, 7, 3, 9, 4, 6, 10, 2, 0]\n",
            "最小工具交換回数: 280.0\n",
            "実行時間: 0.3815 秒\n"
          ]
        },
        {
          "output_type": "stream",
          "name": "stderr",
          "text": [
            "<ipython-input-15-f4566678c1c7>:11: RuntimeWarning: divide by zero encountered in divide\n",
            "  inverse_tool_usage = (1 / (tool_usage))\n"
          ]
        },
        {
          "output_type": "stream",
          "name": "stdout",
          "text": [
            "<class 'list'>\n",
            "最適経路: [11, 2, 8, 3, 4, 6, 10, 1, 9, 5, 7, 12, 0]\n",
            "最小工具交換回数: 334.0\n",
            "実行時間: 0.8101 秒\n"
          ]
        },
        {
          "output_type": "stream",
          "name": "stderr",
          "text": [
            "<ipython-input-15-f4566678c1c7>:11: RuntimeWarning: divide by zero encountered in divide\n",
            "  inverse_tool_usage = (1 / (tool_usage))\n"
          ]
        },
        {
          "output_type": "stream",
          "name": "stdout",
          "text": [
            "<class 'list'>\n",
            "最適経路: [4, 2, 12, 10, 3, 5, 11, 8, 6, 9, 7, 1, 0]\n",
            "最小工具交換回数: 328.0\n",
            "実行時間: 0.7590 秒\n"
          ]
        },
        {
          "output_type": "stream",
          "name": "stderr",
          "text": [
            "<ipython-input-15-f4566678c1c7>:11: RuntimeWarning: divide by zero encountered in divide\n",
            "  inverse_tool_usage = (1 / (tool_usage))\n"
          ]
        },
        {
          "output_type": "stream",
          "name": "stdout",
          "text": [
            "<class 'list'>\n",
            "最適経路: [3, 4, 8, 9, 11, 7, 12, 6, 2, 10, 1, 5, 0]\n",
            "最小工具交換回数: 320.0\n",
            "実行時間: 0.7970 秒\n"
          ]
        },
        {
          "output_type": "stream",
          "name": "stderr",
          "text": [
            "<ipython-input-15-f4566678c1c7>:11: RuntimeWarning: divide by zero encountered in divide\n",
            "  inverse_tool_usage = (1 / (tool_usage))\n"
          ]
        },
        {
          "output_type": "stream",
          "name": "stdout",
          "text": [
            "<class 'list'>\n",
            "最適経路: [1, 9, 10, 12, 11, 2, 3, 7, 5, 6, 4, 8, 0]\n",
            "最小工具交換回数: 326.0\n",
            "実行時間: 0.8581 秒\n"
          ]
        },
        {
          "output_type": "stream",
          "name": "stderr",
          "text": [
            "<ipython-input-15-f4566678c1c7>:11: RuntimeWarning: divide by zero encountered in divide\n",
            "  inverse_tool_usage = (1 / (tool_usage))\n"
          ]
        },
        {
          "output_type": "stream",
          "name": "stdout",
          "text": [
            "<class 'list'>\n",
            "最適経路: [2, 10, 1, 5, 4, 9, 3, 7, 8, 6, 11, 0]\n",
            "最小工具交換回数: 290.0\n",
            "実行時間: 0.4749 秒\n"
          ]
        },
        {
          "output_type": "stream",
          "name": "stderr",
          "text": [
            "<ipython-input-15-f4566678c1c7>:11: RuntimeWarning: divide by zero encountered in divide\n",
            "  inverse_tool_usage = (1 / (tool_usage))\n"
          ]
        },
        {
          "output_type": "stream",
          "name": "stdout",
          "text": [
            "<class 'list'>\n",
            "最適経路: [10, 12, 4, 7, 5, 6, 9, 3, 1, 2, 8, 11, 0]\n",
            "最小工具交換回数: 342.0\n",
            "実行時間: 0.7851 秒\n"
          ]
        },
        {
          "output_type": "stream",
          "name": "stderr",
          "text": [
            "<ipython-input-15-f4566678c1c7>:11: RuntimeWarning: divide by zero encountered in divide\n",
            "  inverse_tool_usage = (1 / (tool_usage))\n"
          ]
        },
        {
          "output_type": "stream",
          "name": "stdout",
          "text": [
            "<class 'list'>\n",
            "最適経路: [3, 13, 8, 1, 5, 12, 6, 11, 7, 4, 9, 10, 2, 0]\n",
            "最小工具交換回数: 368.0\n",
            "実行時間: 1.4936 秒\n"
          ]
        },
        {
          "output_type": "stream",
          "name": "stderr",
          "text": [
            "<ipython-input-15-f4566678c1c7>:11: RuntimeWarning: divide by zero encountered in divide\n",
            "  inverse_tool_usage = (1 / (tool_usage))\n"
          ]
        },
        {
          "output_type": "stream",
          "name": "stdout",
          "text": [
            "<class 'list'>\n",
            "最適経路: [10, 3, 8, 2, 5, 11, 7, 4, 1, 9, 6, 0]\n",
            "最小工具交換回数: 294.0\n",
            "実行時間: 0.4838 秒\n"
          ]
        },
        {
          "output_type": "stream",
          "name": "stderr",
          "text": [
            "<ipython-input-15-f4566678c1c7>:11: RuntimeWarning: divide by zero encountered in divide\n",
            "  inverse_tool_usage = (1 / (tool_usage))\n"
          ]
        },
        {
          "output_type": "stream",
          "name": "stdout",
          "text": [
            "<class 'list'>\n",
            "最適経路: [3, 7, 8, 1, 12, 9, 5, 2, 11, 6, 4, 10, 0]\n",
            "最小工具交換回数: 332.0\n",
            "実行時間: 1.0576 秒\n"
          ]
        },
        {
          "output_type": "stream",
          "name": "stderr",
          "text": [
            "<ipython-input-15-f4566678c1c7>:11: RuntimeWarning: divide by zero encountered in divide\n",
            "  inverse_tool_usage = (1 / (tool_usage))\n"
          ]
        },
        {
          "output_type": "stream",
          "name": "stdout",
          "text": [
            "<class 'list'>\n",
            "最適経路: [6, 2, 11, 8, 9, 7, 10, 3, 4, 1, 5, 0]\n",
            "最小工具交換回数: 308.0\n",
            "実行時間: 0.8785 秒\n"
          ]
        },
        {
          "output_type": "stream",
          "name": "stderr",
          "text": [
            "<ipython-input-15-f4566678c1c7>:11: RuntimeWarning: divide by zero encountered in divide\n",
            "  inverse_tool_usage = (1 / (tool_usage))\n"
          ]
        },
        {
          "output_type": "stream",
          "name": "stdout",
          "text": [
            "<class 'list'>\n",
            "最適経路: [8, 10, 3, 11, 5, 9, 2, 1, 6, 4, 7, 0]\n",
            "最小工具交換回数: 294.0\n",
            "実行時間: 0.9954 秒\n"
          ]
        },
        {
          "output_type": "stream",
          "name": "stderr",
          "text": [
            "<ipython-input-15-f4566678c1c7>:11: RuntimeWarning: divide by zero encountered in divide\n",
            "  inverse_tool_usage = (1 / (tool_usage))\n"
          ]
        },
        {
          "output_type": "stream",
          "name": "stdout",
          "text": [
            "<class 'list'>\n",
            "最適経路: [8, 3, 1, 11, 7, 9, 5, 6, 10, 4, 2, 0]\n",
            "最小工具交換回数: 304.0\n",
            "実行時間: 1.1756 秒\n"
          ]
        },
        {
          "output_type": "stream",
          "name": "stderr",
          "text": [
            "<ipython-input-15-f4566678c1c7>:11: RuntimeWarning: divide by zero encountered in divide\n",
            "  inverse_tool_usage = (1 / (tool_usage))\n"
          ]
        },
        {
          "output_type": "stream",
          "name": "stdout",
          "text": [
            "<class 'list'>\n",
            "最適経路: [3, 4, 5, 9, 6, 13, 2, 11, 10, 8, 1, 12, 7, 0]\n",
            "最小工具交換回数: 364.0\n",
            "実行時間: 3.2531 秒\n"
          ]
        },
        {
          "output_type": "stream",
          "name": "stderr",
          "text": [
            "<ipython-input-15-f4566678c1c7>:11: RuntimeWarning: divide by zero encountered in divide\n",
            "  inverse_tool_usage = (1 / (tool_usage))\n"
          ]
        },
        {
          "output_type": "stream",
          "name": "stdout",
          "text": [
            "<class 'list'>\n",
            "最適経路: [10, 8, 3, 1, 11, 4, 2, 7, 9, 6, 5, 0]\n",
            "最小工具交換回数: 302.0\n",
            "実行時間: 0.5286 秒\n"
          ]
        },
        {
          "output_type": "stream",
          "name": "stderr",
          "text": [
            "<ipython-input-15-f4566678c1c7>:11: RuntimeWarning: divide by zero encountered in divide\n",
            "  inverse_tool_usage = (1 / (tool_usage))\n"
          ]
        },
        {
          "output_type": "stream",
          "name": "stdout",
          "text": [
            "<class 'list'>\n",
            "最適経路: [7, 10, 5, 1, 9, 6, 8, 12, 4, 11, 3, 2, 0]\n",
            "最小工具交換回数: 338.0\n",
            "実行時間: 0.8809 秒\n"
          ]
        },
        {
          "output_type": "stream",
          "name": "stderr",
          "text": [
            "<ipython-input-15-f4566678c1c7>:11: RuntimeWarning: divide by zero encountered in divide\n",
            "  inverse_tool_usage = (1 / (tool_usage))\n"
          ]
        },
        {
          "output_type": "stream",
          "name": "stdout",
          "text": [
            "<class 'list'>\n",
            "最適経路: [11, 4, 8, 6, 3, 7, 5, 2, 9, 10, 1, 12, 0]\n",
            "最小工具交換回数: 320.0\n",
            "実行時間: 1.3122 秒\n"
          ]
        },
        {
          "output_type": "stream",
          "name": "stderr",
          "text": [
            "<ipython-input-15-f4566678c1c7>:11: RuntimeWarning: divide by zero encountered in divide\n",
            "  inverse_tool_usage = (1 / (tool_usage))\n"
          ]
        },
        {
          "output_type": "stream",
          "name": "stdout",
          "text": [
            "<class 'list'>\n",
            "最適経路: [5, 4, 9, 6, 11, 3, 10, 7, 8, 12, 2, 1, 0]\n",
            "最小工具交換回数: 326.0\n",
            "実行時間: 1.0661 秒\n"
          ]
        },
        {
          "output_type": "stream",
          "name": "stderr",
          "text": [
            "<ipython-input-15-f4566678c1c7>:11: RuntimeWarning: divide by zero encountered in divide\n",
            "  inverse_tool_usage = (1 / (tool_usage))\n"
          ]
        },
        {
          "output_type": "stream",
          "name": "stdout",
          "text": [
            "<class 'list'>\n",
            "最適経路: [2, 3, 7, 8, 11, 10, 9, 5, 6, 1, 4, 12, 0]\n",
            "最小工具交換回数: 328.0\n",
            "実行時間: 0.8009 秒\n"
          ]
        },
        {
          "output_type": "stream",
          "name": "stderr",
          "text": [
            "<ipython-input-15-f4566678c1c7>:11: RuntimeWarning: divide by zero encountered in divide\n",
            "  inverse_tool_usage = (1 / (tool_usage))\n"
          ]
        },
        {
          "output_type": "stream",
          "name": "stdout",
          "text": [
            "<class 'list'>\n",
            "最適経路: [7, 3, 9, 8, 1, 6, 5, 12, 10, 2, 4, 11, 0]\n",
            "最小工具交換回数: 334.0\n",
            "実行時間: 0.8622 秒\n"
          ]
        },
        {
          "output_type": "stream",
          "name": "stderr",
          "text": [
            "<ipython-input-15-f4566678c1c7>:11: RuntimeWarning: divide by zero encountered in divide\n",
            "  inverse_tool_usage = (1 / (tool_usage))\n"
          ]
        },
        {
          "output_type": "stream",
          "name": "stdout",
          "text": [
            "<class 'list'>\n",
            "最適経路: [9, 8, 2, 10, 5, 6, 7, 1, 3, 4, 0]\n",
            "最小工具交換回数: 272.0\n",
            "実行時間: 0.3387 秒\n"
          ]
        },
        {
          "output_type": "stream",
          "name": "stderr",
          "text": [
            "<ipython-input-15-f4566678c1c7>:11: RuntimeWarning: divide by zero encountered in divide\n",
            "  inverse_tool_usage = (1 / (tool_usage))\n"
          ]
        },
        {
          "output_type": "stream",
          "name": "stdout",
          "text": [
            "<class 'list'>\n",
            "最適経路: [3, 2, 9, 5, 1, 11, 6, 10, 4, 8, 7, 0]\n",
            "最小工具交換回数: 312.0\n",
            "実行時間: 0.5208 秒\n"
          ]
        },
        {
          "output_type": "stream",
          "name": "stderr",
          "text": [
            "<ipython-input-15-f4566678c1c7>:11: RuntimeWarning: divide by zero encountered in divide\n",
            "  inverse_tool_usage = (1 / (tool_usage))\n"
          ]
        },
        {
          "output_type": "stream",
          "name": "stdout",
          "text": [
            "<class 'list'>\n",
            "最適経路: [5, 6, 11, 10, 1, 3, 9, 7, 8, 12, 2, 13, 4, 0]\n",
            "最小工具交換回数: 348.0\n",
            "実行時間: 2.3150 秒\n"
          ]
        },
        {
          "output_type": "stream",
          "name": "stderr",
          "text": [
            "<ipython-input-15-f4566678c1c7>:11: RuntimeWarning: divide by zero encountered in divide\n",
            "  inverse_tool_usage = (1 / (tool_usage))\n"
          ]
        },
        {
          "output_type": "stream",
          "name": "stdout",
          "text": [
            "<class 'list'>\n",
            "最適経路: [1, 10, 4, 8, 5, 2, 9, 6, 7, 3, 0]\n",
            "最小工具交換回数: 292.0\n",
            "実行時間: 0.4639 秒\n"
          ]
        },
        {
          "output_type": "stream",
          "name": "stderr",
          "text": [
            "<ipython-input-15-f4566678c1c7>:11: RuntimeWarning: divide by zero encountered in divide\n",
            "  inverse_tool_usage = (1 / (tool_usage))\n"
          ]
        },
        {
          "output_type": "stream",
          "name": "stdout",
          "text": [
            "<class 'list'>\n",
            "最適経路: [1, 7, 11, 8, 2, 6, 5, 9, 4, 10, 3, 0]\n",
            "最小工具交換回数: 314.0\n",
            "実行時間: 0.7320 秒\n"
          ]
        },
        {
          "output_type": "stream",
          "name": "stderr",
          "text": [
            "<ipython-input-15-f4566678c1c7>:11: RuntimeWarning: divide by zero encountered in divide\n",
            "  inverse_tool_usage = (1 / (tool_usage))\n"
          ]
        },
        {
          "output_type": "stream",
          "name": "stdout",
          "text": [
            "<class 'list'>\n",
            "最適経路: [3, 2, 12, 1, 7, 5, 10, 9, 4, 8, 11, 6, 13, 14, 0]\n",
            "最小工具交換回数: 402.0\n",
            "実行時間: 6.3289 秒\n"
          ]
        },
        {
          "output_type": "stream",
          "name": "stderr",
          "text": [
            "<ipython-input-15-f4566678c1c7>:11: RuntimeWarning: divide by zero encountered in divide\n",
            "  inverse_tool_usage = (1 / (tool_usage))\n"
          ]
        },
        {
          "output_type": "stream",
          "name": "stdout",
          "text": [
            "<class 'list'>\n",
            "最適経路: [3, 1, 6, 2, 10, 7, 5, 4, 9, 8, 11, 0]\n",
            "最小工具交換回数: 310.0\n",
            "実行時間: 0.4792 秒\n"
          ]
        },
        {
          "output_type": "stream",
          "name": "stderr",
          "text": [
            "<ipython-input-15-f4566678c1c7>:11: RuntimeWarning: divide by zero encountered in divide\n",
            "  inverse_tool_usage = (1 / (tool_usage))\n"
          ]
        },
        {
          "output_type": "stream",
          "name": "stdout",
          "text": [
            "<class 'list'>\n",
            "最適経路: [3, 12, 8, 4, 10, 9, 6, 1, 2, 5, 7, 11, 0]\n",
            "最小工具交換回数: 328.0\n",
            "実行時間: 0.9790 秒\n"
          ]
        },
        {
          "output_type": "stream",
          "name": "stderr",
          "text": [
            "<ipython-input-15-f4566678c1c7>:11: RuntimeWarning: divide by zero encountered in divide\n",
            "  inverse_tool_usage = (1 / (tool_usage))\n"
          ]
        },
        {
          "output_type": "stream",
          "name": "stdout",
          "text": [
            "<class 'list'>\n",
            "最適経路: [11, 7, 8, 2, 9, 1, 6, 5, 3, 4, 10, 0]\n",
            "最小工具交換回数: 300.0\n",
            "実行時間: 0.7233 秒\n"
          ]
        },
        {
          "output_type": "stream",
          "name": "stderr",
          "text": [
            "<ipython-input-15-f4566678c1c7>:11: RuntimeWarning: divide by zero encountered in divide\n",
            "  inverse_tool_usage = (1 / (tool_usage))\n"
          ]
        },
        {
          "output_type": "stream",
          "name": "stdout",
          "text": [
            "<class 'list'>\n",
            "最適経路: [3, 5, 9, 10, 1, 8, 4, 6, 7, 2, 0]\n",
            "最小工具交換回数: 282.0\n",
            "実行時間: 0.5058 秒\n"
          ]
        },
        {
          "output_type": "stream",
          "name": "stderr",
          "text": [
            "<ipython-input-15-f4566678c1c7>:11: RuntimeWarning: divide by zero encountered in divide\n",
            "  inverse_tool_usage = (1 / (tool_usage))\n"
          ]
        },
        {
          "output_type": "stream",
          "name": "stdout",
          "text": [
            "<class 'list'>\n",
            "最適経路: [8, 4, 9, 1, 7, 2, 6, 10, 11, 5, 3, 0]\n",
            "最小工具交換回数: 308.0\n",
            "実行時間: 0.8129 秒\n"
          ]
        },
        {
          "output_type": "stream",
          "name": "stderr",
          "text": [
            "<ipython-input-15-f4566678c1c7>:11: RuntimeWarning: divide by zero encountered in divide\n",
            "  inverse_tool_usage = (1 / (tool_usage))\n"
          ]
        },
        {
          "output_type": "stream",
          "name": "stdout",
          "text": [
            "<class 'list'>\n",
            "最適経路: [5, 2, 9, 8, 4, 10, 1, 6, 7, 3, 0]\n",
            "最小工具交換回数: 278.0\n",
            "実行時間: 0.5563 秒\n"
          ]
        },
        {
          "output_type": "stream",
          "name": "stderr",
          "text": [
            "<ipython-input-15-f4566678c1c7>:11: RuntimeWarning: divide by zero encountered in divide\n",
            "  inverse_tool_usage = (1 / (tool_usage))\n"
          ]
        },
        {
          "output_type": "stream",
          "name": "stdout",
          "text": [
            "<class 'list'>\n",
            "最適経路: [9, 10, 3, 7, 6, 5, 4, 1, 2, 8, 0]\n",
            "最小工具交換回数: 274.0\n",
            "実行時間: 0.3533 秒\n"
          ]
        },
        {
          "output_type": "stream",
          "name": "stderr",
          "text": [
            "<ipython-input-15-f4566678c1c7>:11: RuntimeWarning: divide by zero encountered in divide\n",
            "  inverse_tool_usage = (1 / (tool_usage))\n"
          ]
        },
        {
          "output_type": "stream",
          "name": "stdout",
          "text": [
            "<class 'list'>\n",
            "最適経路: [3, 4, 9, 2, 6, 5, 10, 8, 7, 1, 0]\n",
            "最小工具交換回数: 278.0\n",
            "実行時間: 0.3583 秒\n"
          ]
        },
        {
          "output_type": "stream",
          "name": "stderr",
          "text": [
            "<ipython-input-15-f4566678c1c7>:11: RuntimeWarning: divide by zero encountered in divide\n",
            "  inverse_tool_usage = (1 / (tool_usage))\n"
          ]
        },
        {
          "output_type": "stream",
          "name": "stdout",
          "text": [
            "<class 'list'>\n",
            "最適経路: [1, 5, 9, 6, 4, 10, 3, 7, 8, 2, 0]\n",
            "最小工具交換回数: 280.0\n",
            "実行時間: 0.3048 秒\n"
          ]
        },
        {
          "output_type": "stream",
          "name": "stderr",
          "text": [
            "<ipython-input-15-f4566678c1c7>:11: RuntimeWarning: divide by zero encountered in divide\n",
            "  inverse_tool_usage = (1 / (tool_usage))\n"
          ]
        },
        {
          "output_type": "stream",
          "name": "stdout",
          "text": [
            "<class 'list'>\n",
            "最適経路: [2, 5, 3, 9, 8, 4, 10, 6, 7, 1, 0]\n",
            "最小工具交換回数: 292.0\n",
            "実行時間: 0.3300 秒\n"
          ]
        },
        {
          "output_type": "stream",
          "name": "stderr",
          "text": [
            "<ipython-input-15-f4566678c1c7>:11: RuntimeWarning: divide by zero encountered in divide\n",
            "  inverse_tool_usage = (1 / (tool_usage))\n"
          ]
        },
        {
          "output_type": "stream",
          "name": "stdout",
          "text": [
            "<class 'list'>\n",
            "最適経路: [4, 11, 10, 1, 3, 5, 8, 9, 7, 6, 2, 0]\n",
            "最小工具交換回数: 306.0\n",
            "実行時間: 0.4688 秒\n"
          ]
        },
        {
          "output_type": "stream",
          "name": "stderr",
          "text": [
            "<ipython-input-15-f4566678c1c7>:11: RuntimeWarning: divide by zero encountered in divide\n",
            "  inverse_tool_usage = (1 / (tool_usage))\n"
          ]
        },
        {
          "output_type": "stream",
          "name": "stdout",
          "text": [
            "<class 'list'>\n",
            "最適経路: [1, 7, 3, 5, 11, 4, 9, 2, 8, 10, 6, 0]\n",
            "最小工具交換回数: 310.0\n",
            "実行時間: 0.4548 秒\n"
          ]
        },
        {
          "output_type": "stream",
          "name": "stderr",
          "text": [
            "<ipython-input-15-f4566678c1c7>:11: RuntimeWarning: divide by zero encountered in divide\n",
            "  inverse_tool_usage = (1 / (tool_usage))\n"
          ]
        },
        {
          "output_type": "stream",
          "name": "stdout",
          "text": [
            "<class 'list'>\n",
            "最適経路: [5, 9, 3, 2, 1, 7, 6, 8, 4, 0]\n",
            "最小工具交換回数: 254.0\n",
            "実行時間: 0.2675 秒\n"
          ]
        },
        {
          "output_type": "stream",
          "name": "stderr",
          "text": [
            "<ipython-input-15-f4566678c1c7>:11: RuntimeWarning: divide by zero encountered in divide\n",
            "  inverse_tool_usage = (1 / (tool_usage))\n"
          ]
        },
        {
          "output_type": "stream",
          "name": "stdout",
          "text": [
            "<class 'list'>\n",
            "最適経路: [9, 6, 4, 11, 1, 3, 5, 7, 8, 10, 2, 0]\n",
            "最小工具交換回数: 266.0\n",
            "実行時間: 0.4620 秒\n"
          ]
        },
        {
          "output_type": "stream",
          "name": "stderr",
          "text": [
            "<ipython-input-15-f4566678c1c7>:11: RuntimeWarning: divide by zero encountered in divide\n",
            "  inverse_tool_usage = (1 / (tool_usage))\n"
          ]
        },
        {
          "output_type": "stream",
          "name": "stdout",
          "text": [
            "<class 'list'>\n",
            "最適経路: [6, 8, 1, 9, 3, 10, 2, 7, 4, 5, 0]\n",
            "最小工具交換回数: 278.0\n",
            "実行時間: 0.3612 秒\n"
          ]
        },
        {
          "output_type": "stream",
          "name": "stderr",
          "text": [
            "<ipython-input-15-f4566678c1c7>:11: RuntimeWarning: divide by zero encountered in divide\n",
            "  inverse_tool_usage = (1 / (tool_usage))\n"
          ]
        },
        {
          "output_type": "stream",
          "name": "stdout",
          "text": [
            "<class 'list'>\n",
            "最適経路: [1, 9, 5, 4, 7, 8, 6, 2, 10, 3, 0]\n",
            "最小工具交換回数: 292.0\n",
            "実行時間: 0.3585 秒\n"
          ]
        },
        {
          "output_type": "stream",
          "name": "stderr",
          "text": [
            "<ipython-input-15-f4566678c1c7>:11: RuntimeWarning: divide by zero encountered in divide\n",
            "  inverse_tool_usage = (1 / (tool_usage))\n"
          ]
        },
        {
          "output_type": "stream",
          "name": "stdout",
          "text": [
            "<class 'list'>\n",
            "最適経路: [1, 5, 6, 10, 8, 2, 9, 4, 3, 7, 0]\n",
            "最小工具交換回数: 268.0\n",
            "実行時間: 0.3323 秒\n"
          ]
        },
        {
          "output_type": "stream",
          "name": "stderr",
          "text": [
            "<ipython-input-15-f4566678c1c7>:11: RuntimeWarning: divide by zero encountered in divide\n",
            "  inverse_tool_usage = (1 / (tool_usage))\n"
          ]
        },
        {
          "output_type": "stream",
          "name": "stdout",
          "text": [
            "<class 'list'>\n",
            "最適経路: [3, 4, 1, 8, 7, 9, 6, 5, 10, 11, 2, 0]\n",
            "最小工具交換回数: 308.0\n",
            "実行時間: 0.4700 秒\n"
          ]
        },
        {
          "output_type": "stream",
          "name": "stderr",
          "text": [
            "<ipython-input-15-f4566678c1c7>:11: RuntimeWarning: divide by zero encountered in divide\n",
            "  inverse_tool_usage = (1 / (tool_usage))\n"
          ]
        },
        {
          "output_type": "stream",
          "name": "stdout",
          "text": [
            "<class 'list'>\n",
            "最適経路: [1, 11, 4, 10, 2, 8, 7, 3, 6, 9, 5, 0]\n",
            "最小工具交換回数: 310.0\n",
            "実行時間: 0.5357 秒\n"
          ]
        },
        {
          "output_type": "stream",
          "name": "stderr",
          "text": [
            "<ipython-input-15-f4566678c1c7>:11: RuntimeWarning: divide by zero encountered in divide\n",
            "  inverse_tool_usage = (1 / (tool_usage))\n"
          ]
        },
        {
          "output_type": "stream",
          "name": "stdout",
          "text": [
            "<class 'list'>\n",
            "最適経路: [8, 11, 6, 7, 5, 2, 9, 1, 4, 10, 3, 0]\n",
            "最小工具交換回数: 290.0\n",
            "実行時間: 0.7740 秒\n"
          ]
        },
        {
          "output_type": "stream",
          "name": "stderr",
          "text": [
            "<ipython-input-15-f4566678c1c7>:11: RuntimeWarning: divide by zero encountered in divide\n",
            "  inverse_tool_usage = (1 / (tool_usage))\n"
          ]
        },
        {
          "output_type": "stream",
          "name": "stdout",
          "text": [
            "<class 'list'>\n",
            "最適経路: [9, 5, 10, 4, 6, 11, 7, 1, 2, 3, 8, 0]\n",
            "最小工具交換回数: 276.0\n",
            "実行時間: 0.7393 秒\n"
          ]
        },
        {
          "output_type": "stream",
          "name": "stderr",
          "text": [
            "<ipython-input-15-f4566678c1c7>:11: RuntimeWarning: divide by zero encountered in divide\n",
            "  inverse_tool_usage = (1 / (tool_usage))\n"
          ]
        },
        {
          "output_type": "stream",
          "name": "stdout",
          "text": [
            "<class 'list'>\n"
          ]
        }
      ]
    },
    {
      "cell_type": "markdown",
      "source": [
        "#Dummy code"
      ],
      "metadata": {
        "id": "xHP5YdI4AYrJ"
      }
    },
    {
      "cell_type": "code",
      "source": [
        "#csvに出力\n",
        "import csv\n",
        "\n",
        "# 与えられたデータ\n",
        "data = results\n",
        "\n",
        "# 出力するCSVファイルのパス（Google Driveをマウントしている場合）\n",
        "csv_file_path = '/content/drive/My Drive/bachelor_thesis/experiment_results_50.csv'  # Driveの正しいパスを指定\n",
        "\n",
        "# CSVファイルにデータを書き込む\n",
        "with open(csv_file_path, mode='w', newline='') as file:\n",
        "    writer = csv.writer(file)\n",
        "    # ヘッダーを書き込み\n",
        "    writer.writerow([\"Experiment Method\", \"Distance Metric\", \"Re_count\", \"Re_time\"])\n",
        "    # データを書き込み\n",
        "    writer.writerows(data)\n",
        "\n",
        "print(f\"CSV file saved to {csv_file_path}\")\n"
      ],
      "metadata": {
        "colab": {
          "base_uri": "https://localhost:8080/"
        },
        "id": "dpEtd50i_G46",
        "outputId": "bac428b3-e111-4e47-8be0-d341fceec731"
      },
      "execution_count": null,
      "outputs": [
        {
          "output_type": "stream",
          "name": "stdout",
          "text": [
            "CSV file saved to /content/drive/My Drive/bachelor_thesis/experiment_results.csv\n"
          ]
        }
      ]
    }
  ]
}